{
 "cells": [
  {
   "cell_type": "code",
   "execution_count": 1,
   "metadata": {},
   "outputs": [],
   "source": [
    "import os\n",
    "import sys\n",
    "folder = os.path.dirname('../../../algorithms/')\n",
    "sys.path.append(folder)\n",
    "\n",
    "from DuelingDDQN_PER.trainer import Dueling_DDQN_PER_Trainer"
   ]
  },
  {
   "cell_type": "code",
   "execution_count": 2,
   "metadata": {},
   "outputs": [],
   "source": [
    "env_name = 'CartPole-v0'\n",
    "lr_base = 0.001\n",
    "lr_decay = 0.0001\n",
    "epsilon_base = 0.5 \n",
    "epsilon_decay = 0.002\n",
    "\n",
    "random_seed = 42\n",
    "gamma = 0.99                # discount for future rewards\n",
    "batch_size = 64         # num of transitions sampled from replay buffer\n",
    "alpha=0.7\n",
    "beta_base=0.3\n",
    "beta_multiplier=0.0005\n",
    "max_episodes = 100000         # max num of episodes\n",
    "max_timesteps = 3000        # max timesteps in one episode\n",
    "max_buffer_length = 5000000\n",
    "log_interval = 10           # print avg reward after interval\n"
   ]
  },
  {
   "cell_type": "code",
   "execution_count": 3,
   "metadata": {},
   "outputs": [],
   "source": [
    "fc_config = [\n",
    "        {'dim': [None, 64], 'dropout': False, 'activation': 'relu'},           \n",
    "    ] \n",
    "adv_stream_config = [       \n",
    "        {'dim': [64, None], 'dropout': False, 'activation': False}\n",
    "    ] \n",
    "value_stream_config = [          \n",
    "        {'dim': [64, 1], 'dropout': False, 'activation': False}\n",
    "    ] \n",
    "\n",
    "config = [fc_config, adv_stream_config, value_stream_config]\n"
   ]
  },
  {
   "cell_type": "code",
   "execution_count": 4,
   "metadata": {
    "scrolled": false
   },
   "outputs": [
    {
     "name": "stdout",
     "output_type": "stream",
     "text": [
      "NETWORK: Sequential(\n",
      "  (0): Linear(in_features=4, out_features=64, bias=True)\n",
      "  (1): ReLU()\n",
      ") Sequential(\n",
      "  (0): Linear(in_features=64, out_features=2, bias=True)\n",
      ") Sequential(\n",
      "  (0): Linear(in_features=64, out_features=1, bias=True)\n",
      ")\n",
      "Device: cuda:0\n",
      "NETWORK: Sequential(\n",
      "  (0): Linear(in_features=4, out_features=64, bias=True)\n",
      "  (1): ReLU()\n",
      ") Sequential(\n",
      "  (0): Linear(in_features=64, out_features=2, bias=True)\n",
      ") Sequential(\n",
      "  (0): Linear(in_features=64, out_features=1, bias=True)\n",
      ")\n",
      "Device: cuda:0\n",
      "Random Seed: 42\n",
      "action_space=Discrete(2)\n",
      "obs_space=Box(4,)\n",
      "threshold=195.0 \n",
      "\n",
      "DIR=./preTrained/duel_ddqn_per NAME=duel_ddqn_per_CartPole-v0_42\n",
      "No models to load\n",
      "\n",
      "Training started ... \n",
      "Ep:    0  Rew:   16.00  Avg Rew:   16.00  LR:0.00100000  Bf: 0  Beta:0.3000  EPS:0.5000  Loss: 0.000000\n",
      "Ep:   10  Rew:   11.00  Avg Rew:   11.55  LR:0.00099900  Bf: 0  Beta:0.3050  EPS:0.4902  Loss: 1.439110\n",
      "Ep:   20  Rew:   20.00  Avg Rew:   12.24  LR:0.00099800  Bf: 0  Beta:0.3100  EPS:0.4808  Loss: 4.282776\n",
      "Ep:   30  Rew:    9.00  Avg Rew:   12.74  LR:0.00099701  Bf: 0  Beta:0.3150  EPS:0.4717  Loss: 16.785153\n",
      "Ep:   40  Rew:    9.00  Avg Rew:   12.59  LR:0.00099602  Bf: 0  Beta:0.3200  EPS:0.4630  Loss: 23.152195\n",
      "Ep:   50  Rew:   11.00  Avg Rew:   12.90  LR:0.00099502  Bf: 0  Beta:0.3250  EPS:0.4545  Loss: 21.703726\n",
      "Ep:   60  Rew:   16.00  Avg Rew:   13.31  LR:0.00099404  Bf: 0  Beta:0.3300  EPS:0.4464  Loss: 9.011607\n",
      "Ep:   70  Rew:   18.00  Avg Rew:   13.39  LR:0.00099305  Bf: 0  Beta:0.3350  EPS:0.4386  Loss: 9.493079\n",
      "Ep:   80  Rew:   12.00  Avg Rew:   13.22  LR:0.00099206  Bf: 0  Beta:0.3400  EPS:0.4310  Loss: 20.891912\n",
      "Ep:   90  Rew:   14.00  Avg Rew:   13.31  LR:0.00099108  Bf: 0  Beta:0.3450  EPS:0.4237  Loss: 21.640283\n",
      "Ep:  100  Rew:   17.00  Avg Rew:   13.59  LR:0.00099010  Bf: 0  Beta:0.3500  EPS:0.4167  Loss: 18.502623\n",
      "Ep:  110  Rew:   14.00  Avg Rew:   14.53  LR:0.00098912  Bf: 0  Beta:0.3550  EPS:0.4098  Loss: 14.070557\n",
      "Ep:  120  Rew:   43.00  Avg Rew:   17.56  LR:0.00098814  Bf: 0  Beta:0.3600  EPS:0.4032  Loss: 10.982971\n",
      "Ep:  130  Rew:   40.00  Avg Rew:   21.12  LR:0.00098717  Bf: 0  Beta:0.3650  EPS:0.3968  Loss: 12.007132\n",
      "Ep:  140  Rew:   54.00  Avg Rew:   26.43  LR:0.00098619  Bf: 0  Beta:0.3700  EPS:0.3906  Loss: 11.867972\n",
      "Ep:  150  Rew:   64.00  Avg Rew:   31.41  LR:0.00098522  Bf: 0  Beta:0.3750  EPS:0.3846  Loss: 14.733206\n",
      "Ep:  160  Rew:   45.00  Avg Rew:   36.54  LR:0.00098425  Bf: 0  Beta:0.3800  EPS:0.3788  Loss: 14.150089\n",
      "Ep:  170  Rew:  117.00  Avg Rew:   43.04  LR:0.00098328  Bf: 0  Beta:0.3850  EPS:0.3731  Loss: 15.111849\n",
      "Ep:  180  Rew:  134.00  Avg Rew:   50.96  LR:0.00098232  Bf: 0  Beta:0.3900  EPS:0.3676  Loss: 16.947757\n",
      "Ep:  190  Rew:  125.00  Avg Rew:   62.57  LR:0.00098135  Bf: 0  Beta:0.3950  EPS:0.3623  Loss: 13.811345\n",
      "Ep:  200  Rew:  200.00  Avg Rew:   80.58  LR:0.00098039  Bf: 0  Beta:0.4000  EPS:0.3571  Loss: 14.867543\n",
      "Ep:  210  Rew:  200.00  Avg Rew:   98.53  LR:0.00097943  Bf: 0  Beta:0.4050  EPS:0.3521  Loss: 16.453743\n",
      "Ep:  220  Rew:  200.00  Avg Rew:  114.20  LR:0.00097847  Bf: 0  Beta:0.4100  EPS:0.3472  Loss: 17.060077\n",
      "Ep:  230  Rew:  200.00  Avg Rew:  127.86  LR:0.00097752  Bf: 0  Beta:0.4150  EPS:0.3425  Loss: 19.637771\n",
      "Ep:  240  Rew:  104.00  Avg Rew:  140.38  LR:0.00097656  Bf: 0  Beta:0.4200  EPS:0.3378  Loss: 25.982216\n",
      "Ep:  250  Rew:  200.00  Avg Rew:  153.98  LR:0.00097561  Bf: 0  Beta:0.4250  EPS:0.3333  Loss: 26.808639\n",
      "Ep:  260  Rew:  200.00  Avg Rew:  166.42  LR:0.00097466  Bf: 0  Beta:0.4300  EPS:0.3289  Loss: 41.782514\n",
      "Ep:  270  Rew:  200.00  Avg Rew:  177.48  LR:0.00097371  Bf: 0  Beta:0.4350  EPS:0.3247  Loss: 35.432492\n",
      "Ep:  280  Rew:  200.00  Avg Rew:  188.36  LR:0.00097276  Bf: 1  Beta:0.4400  EPS:0.3205  Loss: 42.096632\n",
      "Ep:  290  Rew:  200.00  Avg Rew:  194.06  LR:0.00097182  Bf: 1  Beta:0.4450  EPS:0.3165  Loss: 37.200825\n",
      "Ep:  300  Rew:  200.00  Avg Rew:  194.41  LR:0.00097087  Bf: 1  Beta:0.4500  EPS:0.3125  Loss: 33.789428\n",
      "Ep:  310  Rew:  200.00  Avg Rew:  194.41  LR:0.00096993  Bf: 1  Beta:0.4550  EPS:0.3086  Loss: 45.058596\n",
      "Ep:  320  Rew:  200.00  Avg Rew:  194.41  LR:0.00096899  Bf: 1  Beta:0.4600  EPS:0.3049  Loss: 37.456157\n",
      "Ep:  329  Rew:  200.00  Avg Rew:  195.36  LR:0.00096815  Bf: 1  Beta:0.4645 EPS:0.3016  Loss: 64.091684\n",
      "########## Solved! ###########\n",
      "Training time: 138.87 sec\n"
     ]
    }
   ],
   "source": [
    "agent = Dueling_DDQN_PER_Trainer(env_name, config, random_seed=random_seed, lr_base=lr_base, lr_decay=lr_decay, \n",
    "                   epsilon_base=epsilon_base, epsilon_decay=epsilon_decay, gamma=gamma, batch_size=batch_size,\n",
    "                   max_episodes=max_episodes, max_timesteps=max_timesteps, \n",
    "                   max_buffer_length=max_buffer_length, log_interval=log_interval,\n",
    "                   alpha=alpha, beta_base=beta_base, beta_multiplier=beta_multiplier)\n",
    "agent.train()"
   ]
  },
  {
   "cell_type": "code",
   "execution_count": null,
   "metadata": {
    "scrolled": false
   },
   "outputs": [
    {
     "name": "stdout",
     "output_type": "stream",
     "text": [
      "Test episode: 1\tReward: 200.00\n",
      "Test episode: 2\tReward: 200.00\n"
     ]
    }
   ],
   "source": [
    "agent.test()"
   ]
  },
  {
   "cell_type": "code",
   "execution_count": null,
   "metadata": {},
   "outputs": [],
   "source": []
  },
  {
   "cell_type": "code",
   "execution_count": null,
   "metadata": {},
   "outputs": [],
   "source": []
  },
  {
   "cell_type": "code",
   "execution_count": null,
   "metadata": {},
   "outputs": [],
   "source": []
  },
  {
   "cell_type": "code",
   "execution_count": null,
   "metadata": {},
   "outputs": [],
   "source": []
  },
  {
   "cell_type": "code",
   "execution_count": null,
   "metadata": {},
   "outputs": [],
   "source": []
  },
  {
   "cell_type": "code",
   "execution_count": null,
   "metadata": {},
   "outputs": [],
   "source": []
  },
  {
   "cell_type": "code",
   "execution_count": null,
   "metadata": {},
   "outputs": [],
   "source": []
  },
  {
   "cell_type": "code",
   "execution_count": null,
   "metadata": {},
   "outputs": [],
   "source": []
  }
 ],
 "metadata": {
  "kernelspec": {
   "display_name": "Python 3",
   "language": "python",
   "name": "python3"
  },
  "language_info": {
   "codemirror_mode": {
    "name": "ipython",
    "version": 3
   },
   "file_extension": ".py",
   "mimetype": "text/x-python",
   "name": "python",
   "nbconvert_exporter": "python",
   "pygments_lexer": "ipython3",
   "version": "3.6.8"
  }
 },
 "nbformat": 4,
 "nbformat_minor": 2
}
