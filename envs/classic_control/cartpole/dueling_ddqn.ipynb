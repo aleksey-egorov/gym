{
 "cells": [
  {
   "cell_type": "code",
   "execution_count": 1,
   "metadata": {},
   "outputs": [],
   "source": [
    "import os\n",
    "import sys\n",
    "folder = os.path.dirname('../../../algorithms/')\n",
    "sys.path.append(folder)\n",
    "\n",
    "from DuelingDDQN.trainer import DuelingDDQN_Trainer"
   ]
  },
  {
   "cell_type": "code",
   "execution_count": 2,
   "metadata": {},
   "outputs": [],
   "source": [
    "env_name = 'CartPole-v1'\n",
    "lr_base = 0.001\n",
    "lr_decay = 0.0001\n",
    "epsilon_base = 0.5 \n",
    "epsilon_decay = 0.002\n",
    "\n",
    "random_seed = 43\n",
    "gamma = 0.99                # discount for future rewards\n",
    "batch_size = 256         # num of transitions sampled from replay buffer\n",
    "polyak = 0.999               # target policy update parameter (1-tau)\n",
    "max_episodes = 100000         # max num of episodes\n",
    "max_timesteps = 3000        # max timesteps in one episode\n",
    "max_buffer_length = 5000000\n",
    "log_interval = 10           # print avg reward after interval\n"
   ]
  },
  {
   "cell_type": "code",
   "execution_count": 3,
   "metadata": {},
   "outputs": [],
   "source": [
    "fc_config = [\n",
    "        {'dim': [None, 64], 'dropout': False, 'activation': 'relu'},           \n",
    "    ] \n",
    "adv_stream_config = [      \n",
    "        {'dim': [64, None], 'dropout': False, 'activation': False}\n",
    "    ] \n",
    "value_stream_config = [      \n",
    "        {'dim': [64, 1], 'dropout': False, 'activation': False}\n",
    "    ] \n",
    "config = [fc_config, adv_stream_config, value_stream_config]\n"
   ]
  },
  {
   "cell_type": "code",
   "execution_count": 4,
   "metadata": {
    "scrolled": false
   },
   "outputs": [
    {
     "name": "stdout",
     "output_type": "stream",
     "text": [
      "NETWORK: Sequential(\n",
      "  (0): Linear(in_features=4, out_features=64, bias=True)\n",
      "  (1): ReLU()\n",
      ") Sequential(\n",
      "  (0): Linear(in_features=64, out_features=2, bias=True)\n",
      ") Sequential(\n",
      "  (0): Linear(in_features=64, out_features=1, bias=True)\n",
      ")\n",
      "Device: cuda:0\n",
      "NETWORK: Sequential(\n",
      "  (0): Linear(in_features=4, out_features=64, bias=True)\n",
      "  (1): ReLU()\n",
      ") Sequential(\n",
      "  (0): Linear(in_features=64, out_features=2, bias=True)\n",
      ") Sequential(\n",
      "  (0): Linear(in_features=64, out_features=1, bias=True)\n",
      ")\n",
      "Device: cuda:0\n",
      "Random Seed: 43\n",
      "action_space=Discrete(2)\n",
      "obs_space=Box(4,)\n",
      "threshold=475.0 \n",
      "\n",
      "DIR=./preTrained/duel_ddqn NAME=duel_ddqn_CartPole-v1_43\n",
      "No models to load\n",
      "\n",
      "Training started ... \n",
      "Ep:    0  Rew:  163.00  Avg Rew:  163.00  LR:0.00100000  Bf: 0  EPS:0.5000  Loss: 0.042058\n",
      "Ep:   10  Rew:   13.00  Avg Rew:   29.55  LR:0.00099900  Bf: 0  EPS:0.4902  Loss: 1.825520\n",
      "Ep:   20  Rew:   10.00  Avg Rew:   22.00  LR:0.00099800  Bf: 0  EPS:0.4808  Loss: 10.007072\n",
      "Ep:   30  Rew:   11.00  Avg Rew:   18.48  LR:0.00099701  Bf: 0  EPS:0.4717  Loss: 20.228683\n",
      "Ep:   40  Rew:   22.00  Avg Rew:   18.24  LR:0.00099602  Bf: 0  EPS:0.4630  Loss: 10.038519\n",
      "Ep:   50  Rew:   11.00  Avg Rew:   17.10  LR:0.00099502  Bf: 0  EPS:0.4545  Loss: 12.391126\n",
      "Ep:   60  Rew:   23.00  Avg Rew:   16.54  LR:0.00099404  Bf: 0  EPS:0.4464  Loss: 24.350741\n",
      "Ep:   70  Rew:   82.00  Avg Rew:   21.25  LR:0.00099305  Bf: 0  EPS:0.4386  Loss: 16.674850\n",
      "Ep:   80  Rew:  133.00  Avg Rew:   26.27  LR:0.00099206  Bf: 0  EPS:0.4310  Loss: 18.304580\n",
      "Ep:   90  Rew:  124.00  Avg Rew:   29.56  LR:0.00099108  Bf: 0  EPS:0.4237  Loss: 18.280341\n",
      "Ep:  100  Rew:   98.00  Avg Rew:   33.14  LR:0.00099010  Bf: 0  EPS:0.4167  Loss: 16.577769\n",
      "Ep:  110  Rew:  173.00  Avg Rew:   42.73  LR:0.00098912  Bf: 0  EPS:0.4098  Loss: 16.518206\n",
      "Ep:  120  Rew:  160.00  Avg Rew:   52.68  LR:0.00098814  Bf: 0  EPS:0.4032  Loss: 11.963734\n",
      "Ep:  130  Rew:  212.00  Avg Rew:   69.69  LR:0.00098717  Bf: 0  EPS:0.3968  Loss: 10.732437\n",
      "Ep:  140  Rew:  302.00  Avg Rew:   88.09  LR:0.00098619  Bf: 0  EPS:0.3906  Loss: 9.863820\n",
      "Ep:  150  Rew:  233.00  Avg Rew:  116.32  LR:0.00098522  Bf: 0  EPS:0.3846  Loss: 9.798632\n",
      "Ep:  160  Rew:  108.00  Avg Rew:  142.42  LR:0.00098425  Bf: 0  EPS:0.3788  Loss: 9.837977\n",
      "Ep:  170  Rew:  128.00  Avg Rew:  153.33  LR:0.00098328  Bf: 0  EPS:0.3731  Loss: 12.095792\n",
      "Ep:  180  Rew:   22.00  Avg Rew:  166.95  LR:0.00098232  Bf: 0  EPS:0.3676  Loss: 13.225199\n",
      "Ep:  190  Rew:  221.00  Avg Rew:  182.51  LR:0.00098135  Bf: 0  EPS:0.3623  Loss: 13.804177\n",
      "Ep:  200  Rew:  189.00  Avg Rew:  191.95  LR:0.00098039  Bf: 0  EPS:0.3571  Loss: 14.053432\n",
      "Ep:  210  Rew:  122.00  Avg Rew:  201.16  LR:0.00097943  Bf: 0  EPS:0.3521  Loss: 14.999261\n",
      "Ep:  220  Rew:  246.00  Avg Rew:  211.37  LR:0.00097847  Bf: 1  EPS:0.3472  Loss: 13.417260\n",
      "Ep:  230  Rew:  238.00  Avg Rew:  215.48  LR:0.00097752  Bf: 1  EPS:0.3425  Loss: 13.000485\n",
      "Ep:  240  Rew:   93.00  Avg Rew:  215.32  LR:0.00097656  Bf: 1  EPS:0.3378  Loss: 12.198277\n",
      "Ep:  250  Rew:  258.00  Avg Rew:  208.22  LR:0.00097561  Bf: 1  EPS:0.3333  Loss: 12.688707\n",
      "Ep:  260  Rew:  227.00  Avg Rew:  205.25  LR:0.00097466  Bf: 1  EPS:0.3289  Loss: 11.047876\n",
      "Ep:  270  Rew:  223.00  Avg Rew:  211.54  LR:0.00097371  Bf: 1  EPS:0.3247  Loss: 12.130487\n",
      "Ep:  280  Rew:  190.00  Avg Rew:  213.42  LR:0.00097276  Bf: 1  EPS:0.3205  Loss: 12.757313\n",
      "Ep:  290  Rew:   48.00  Avg Rew:  214.80  LR:0.00097182  Bf: 1  EPS:0.3165  Loss: 12.433225\n",
      "Ep:  300  Rew:  275.00  Avg Rew:  223.86  LR:0.00097087  Bf: 1  EPS:0.3125  Loss: 10.843012\n",
      "Ep:  310  Rew:  316.00  Avg Rew:  230.29  LR:0.00096993  Bf: 1  EPS:0.3086  Loss: 10.647575\n",
      "Ep:  320  Rew:  250.00  Avg Rew:  228.78  LR:0.00096899  Bf: 1  EPS:0.3049  Loss: 9.300793\n",
      "Ep:  330  Rew:  199.00  Avg Rew:  228.57  LR:0.00096805  Bf: 1  EPS:0.3012  Loss: 12.395095\n",
      "Ep:  340  Rew:  200.00  Avg Rew:  237.33  LR:0.00096712  Bf: 1  EPS:0.2976  Loss: 11.073532\n",
      "Ep:  350  Rew:  231.00  Avg Rew:  242.40  LR:0.00096618  Bf: 1  EPS:0.2941  Loss: 10.335278\n",
      "Ep:  360  Rew:  186.00  Avg Rew:  236.81  LR:0.00096525  Bf: 1  EPS:0.2907  Loss: 9.612965\n",
      "Ep:  370  Rew:  164.00  Avg Rew:  239.41  LR:0.00096432  Bf: 1  EPS:0.2874  Loss: 12.006548\n",
      "Ep:  380  Rew:  230.00  Avg Rew:  240.18  LR:0.00096339  Bf: 1  EPS:0.2841  Loss: 10.453181\n",
      "Ep:  390  Rew:  265.00  Avg Rew:  239.53  LR:0.00096246  Bf: 1  EPS:0.2809  Loss: 10.373591\n",
      "Ep:  400  Rew:  351.00  Avg Rew:  241.85  LR:0.00096154  Bf: 1  EPS:0.2778  Loss: 8.349851\n",
      "Ep:  410  Rew:  121.00  Avg Rew:  243.74  LR:0.00096061  Bf: 1  EPS:0.2747  Loss: 7.060038\n",
      "Ep:  420  Rew:  341.00  Avg Rew:  246.20  LR:0.00095969  Bf: 1  EPS:0.2717  Loss: 10.375973\n",
      "Ep:  430  Rew:  170.00  Avg Rew:  262.76  LR:0.00095877  Bf: 2  EPS:0.2688  Loss: 8.714331\n",
      "Ep:  440  Rew:  500.00  Avg Rew:  270.62  LR:0.00095785  Bf: 2  EPS:0.2660  Loss: 7.796672\n",
      "Ep:  450  Rew:  500.00  Avg Rew:  267.43  LR:0.00095694  Bf: 2  EPS:0.2632  Loss: 7.048532\n",
      "Ep:  460  Rew:  247.00  Avg Rew:  279.55  LR:0.00095602  Bf: 2  EPS:0.2604  Loss: 10.658436\n",
      "Ep:  470  Rew:  170.00  Avg Rew:  279.01  LR:0.00095511  Bf: 2  EPS:0.2577  Loss: 8.041619\n",
      "Ep:  480  Rew:  286.00  Avg Rew:  287.75  LR:0.00095420  Bf: 2  EPS:0.2551  Loss: 9.334136\n",
      "Ep:  490  Rew:  500.00  Avg Rew:  304.20  LR:0.00095329  Bf: 2  EPS:0.2525  Loss: 8.843741\n",
      "Ep:  500  Rew:  154.00  Avg Rew:  304.88  LR:0.00095238  Bf: 2  EPS:0.2500  Loss: 10.529834\n",
      "Ep:  510  Rew:  500.00  Avg Rew:  312.21  LR:0.00095147  Bf: 2  EPS:0.2475  Loss: 8.535602\n",
      "Ep:  520  Rew:  500.00  Avg Rew:  339.73  LR:0.00095057  Bf: 2  EPS:0.2451  Loss: 11.868464\n",
      "Ep:  530  Rew:  500.00  Avg Rew:  345.76  LR:0.00094967  Bf: 2  EPS:0.2427  Loss: 10.271212\n",
      "Ep:  540  Rew:  500.00  Avg Rew:  355.45  LR:0.00094877  Bf: 2  EPS:0.2404  Loss: 12.410982\n",
      "Ep:  550  Rew:  500.00  Avg Rew:  381.20  LR:0.00094787  Bf: 2  EPS:0.2381  Loss: 15.553593\n",
      "Ep:  560  Rew:  500.00  Avg Rew:  397.95  LR:0.00094697  Bf: 3  EPS:0.2358  Loss: 23.042152\n",
      "Ep:  570  Rew:  500.00  Avg Rew:  423.69  LR:0.00094607  Bf: 3  EPS:0.2336  Loss: 18.236865\n",
      "Ep:  580  Rew:  500.00  Avg Rew:  439.48  LR:0.00094518  Bf: 3  EPS:0.2315  Loss: 25.270489\n",
      "Ep:  590  Rew:  258.00  Avg Rew:  437.22  LR:0.00094429  Bf: 3  EPS:0.2294  Loss: 26.399213\n",
      "Ep:  600  Rew:   60.00  Avg Rew:  428.97  LR:0.00094340  Bf: 3  EPS:0.2273  Loss: 33.360577\n",
      "Ep:  610  Rew:  274.00  Avg Rew:  422.41  LR:0.00094251  Bf: 3  EPS:0.2252  Loss: 22.276983\n",
      "Ep:  620  Rew:  500.00  Avg Rew:  410.03  LR:0.00094162  Bf: 3  EPS:0.2232  Loss: 21.313641\n",
      "Ep:  630  Rew:  500.00  Avg Rew:  403.52  LR:0.00094073  Bf: 3  EPS:0.2212  Loss: 25.855572\n",
      "Ep:  640  Rew:  210.00  Avg Rew:  386.96  LR:0.00093985  Bf: 3  EPS:0.2193  Loss: 22.915260\n",
      "Ep:  650  Rew:  145.00  Avg Rew:  364.84  LR:0.00093897  Bf: 3  EPS:0.2174  Loss: 25.073862\n",
      "Ep:  660  Rew:  500.00  Avg Rew:  352.92  LR:0.00093809  Bf: 3  EPS:0.2155  Loss: 25.997342\n",
      "Ep:  670  Rew:  500.00  Avg Rew:  346.24  LR:0.00093721  Bf: 3  EPS:0.2137  Loss: 29.164912\n",
      "Ep:  680  Rew:  169.00  Avg Rew:  333.31  LR:0.00093633  Bf: 3  EPS:0.2119  Loss: 25.526048\n",
      "Ep:  690  Rew:  500.00  Avg Rew:  322.89  LR:0.00093545  Bf: 3  EPS:0.2101  Loss: 31.662288\n",
      "Ep:  700  Rew:  500.00  Avg Rew:  335.88  LR:0.00093458  Bf: 4  EPS:0.2083  Loss: 26.170721\n",
      "Ep:  710  Rew:  500.00  Avg Rew:  342.86  LR:0.00093371  Bf: 4  EPS:0.2066  Loss: 27.936327\n",
      "Ep:  720  Rew:  500.00  Avg Rew:  326.43  LR:0.00093284  Bf: 4  EPS:0.2049  Loss: 24.026722\n",
      "Ep:  730  Rew:   13.00  Avg Rew:  330.21  LR:0.00093197  Bf: 4  EPS:0.2033  Loss: 15.382965\n",
      "Ep:  740  Rew:  157.00  Avg Rew:  321.78  LR:0.00093110  Bf: 4  EPS:0.2016  Loss: 22.152995\n",
      "Ep:  750  Rew:  146.00  Avg Rew:  305.69  LR:0.00093023  Bf: 4  EPS:0.2000  Loss: 19.948639\n",
      "Ep:  760  Rew:  179.00  Avg Rew:  292.58  LR:0.00092937  Bf: 4  EPS:0.1984  Loss: 24.404670\n",
      "Ep:  770  Rew:   15.00  Avg Rew:  270.50  LR:0.00092851  Bf: 4  EPS:0.1969  Loss: 17.539944\n",
      "Ep:  780  Rew:  294.00  Avg Rew:  265.20  LR:0.00092764  Bf: 4  EPS:0.1953  Loss: 20.354349\n",
      "Ep:  790  Rew:  500.00  Avg Rew:  278.66  LR:0.00092678  Bf: 4  EPS:0.1938  Loss: 14.960610\n",
      "Ep:  800  Rew:   26.00  Avg Rew:  269.46  LR:0.00092593  Bf: 4  EPS:0.1923  Loss: 17.147673\n",
      "Ep:  810  Rew:  500.00  Avg Rew:  257.85  LR:0.00092507  Bf: 4  EPS:0.1908  Loss: 16.664393\n"
     ]
    },
    {
     "name": "stdout",
     "output_type": "stream",
     "text": [
      "Ep:  820  Rew:  500.00  Avg Rew:  278.80  LR:0.00092421  Bf: 4  EPS:0.1894  Loss: 14.574535\n",
      "Ep:  830  Rew:  134.00  Avg Rew:  274.09  LR:0.00092336  Bf: 4  EPS:0.1880  Loss: 19.922316\n",
      "Ep:  840  Rew:  500.00  Avg Rew:  289.03  LR:0.00092251  Bf: 4  EPS:0.1866  Loss: 19.054456\n",
      "Ep:  850  Rew:  500.00  Avg Rew:  314.55  LR:0.00092166  Bf: 4  EPS:0.1852  Loss: 16.197883\n",
      "Ep:  860  Rew:  500.00  Avg Rew:  333.06  LR:0.00092081  Bf: 5  EPS:0.1838  Loss: 15.911447\n",
      "Ep:  870  Rew:  500.00  Avg Rew:  361.82  LR:0.00091996  Bf: 5  EPS:0.1825  Loss: 19.108210\n",
      "Ep:  880  Rew:  500.00  Avg Rew:  377.33  LR:0.00091912  Bf: 5  EPS:0.1812  Loss: 20.832803\n",
      "Ep:  890  Rew:  500.00  Avg Rew:  383.31  LR:0.00091827  Bf: 5  EPS:0.1799  Loss: 25.050940\n",
      "Ep:  900  Rew:  500.00  Avg Rew:  403.53  LR:0.00091743  Bf: 5  EPS:0.1786  Loss: 22.353118\n",
      "Ep:  910  Rew:  500.00  Avg Rew:  423.84  LR:0.00091659  Bf: 5  EPS:0.1773  Loss: 18.631009\n",
      "Ep:  920  Rew:  500.00  Avg Rew:  427.55  LR:0.00091575  Bf: 5  EPS:0.1761  Loss: 18.161622\n",
      "Ep:  930  Rew:  500.00  Avg Rew:  439.24  LR:0.00091491  Bf: 5  EPS:0.1748  Loss: 31.177576\n",
      "Ep:  940  Rew:  500.00  Avg Rew:  449.80  LR:0.00091408  Bf: 5  EPS:0.1736  Loss: 18.656736\n",
      "Ep:  950  Rew:  500.00  Avg Rew:  459.56  LR:0.00091324  Bf: 5  EPS:0.1724  Loss: 24.550725\n",
      "Ep:  960  Rew:  500.00  Avg Rew:  464.42  LR:0.00091241  Bf: 5  EPS:0.1712  Loss: 19.253507\n",
      "Ep:  970  Rew:  500.00  Avg Rew:  464.42  LR:0.00091158  Bf: 6  EPS:0.1701  Loss: 21.610177\n",
      "Ep:  980  Rew:  500.00  Avg Rew:  470.15  LR:0.00091075  Bf: 6  EPS:0.1689  Loss: 33.367492\n",
      "Ep:  983  Rew:  500.00  Avg Rew:  475.03  LR:0.00091050  Bf: 6  EPS:0.1686  Loss: 25.822904\n",
      "########## Solved! ###########\n",
      "Training time: 1132.29 sec\n"
     ]
    }
   ],
   "source": [
    "agent = DuelingDDQN_Trainer(env_name, config, random_seed=random_seed, lr_base=lr_base, lr_decay=lr_decay, \n",
    "                   epsilon_base=epsilon_base, epsilon_decay=epsilon_decay, gamma=gamma, batch_size=batch_size,\n",
    "                   max_episodes=max_episodes, max_timesteps=max_timesteps, \n",
    "                   max_buffer_length=max_buffer_length, log_interval=log_interval)\n",
    "agent.train()"
   ]
  },
  {
   "cell_type": "code",
   "execution_count": 5,
   "metadata": {
    "scrolled": false
   },
   "outputs": [
    {
     "name": "stdout",
     "output_type": "stream",
     "text": [
      "Test episode: 1\tReward: 500.00\n",
      "Test episode: 2\tReward: 500.00\n",
      "Test episode: 3\tReward: 500.00\n"
     ]
    }
   ],
   "source": [
    "agent.test()"
   ]
  },
  {
   "cell_type": "code",
   "execution_count": null,
   "metadata": {},
   "outputs": [],
   "source": []
  },
  {
   "cell_type": "code",
   "execution_count": null,
   "metadata": {},
   "outputs": [],
   "source": [
    "                \n",
    "            "
   ]
  },
  {
   "cell_type": "code",
   "execution_count": null,
   "metadata": {},
   "outputs": [],
   "source": []
  },
  {
   "cell_type": "code",
   "execution_count": null,
   "metadata": {},
   "outputs": [],
   "source": []
  },
  {
   "cell_type": "code",
   "execution_count": null,
   "metadata": {},
   "outputs": [],
   "source": []
  },
  {
   "cell_type": "code",
   "execution_count": null,
   "metadata": {},
   "outputs": [],
   "source": []
  },
  {
   "cell_type": "code",
   "execution_count": null,
   "metadata": {},
   "outputs": [],
   "source": []
  },
  {
   "cell_type": "code",
   "execution_count": null,
   "metadata": {},
   "outputs": [],
   "source": []
  }
 ],
 "metadata": {
  "kernelspec": {
   "display_name": "Python 3",
   "language": "python",
   "name": "python3"
  },
  "language_info": {
   "codemirror_mode": {
    "name": "ipython",
    "version": 3
   },
   "file_extension": ".py",
   "mimetype": "text/x-python",
   "name": "python",
   "nbconvert_exporter": "python",
   "pygments_lexer": "ipython3",
   "version": "3.6.8"
  }
 },
 "nbformat": 4,
 "nbformat_minor": 2
}
