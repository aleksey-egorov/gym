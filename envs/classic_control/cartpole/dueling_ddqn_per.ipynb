{
 "cells": [
  {
   "cell_type": "code",
   "execution_count": 1,
   "metadata": {},
   "outputs": [],
   "source": [
    "import os\n",
    "import sys\n",
    "folder = os.path.dirname('../../../algorithms/')\n",
    "sys.path.append(folder)\n",
    "\n",
    "from DuelingDDQN_PER.trainer import Dueling_DDQN_PER_Trainer"
   ]
  },
  {
   "cell_type": "code",
   "execution_count": 2,
   "metadata": {},
   "outputs": [],
   "source": [
    "env_name = 'CartPole-v1'\n",
    "lr_base = 0.001\n",
    "lr_decay = 0.0001\n",
    "epsilon_base = 0.5 \n",
    "epsilon_decay = 0.002\n",
    "\n",
    "random_seed = 43\n",
    "gamma = 0.99                # discount for future rewards\n",
    "batch_size = 256         # num of transitions sampled from replay buffer\n",
    "alpha=0.9\n",
    "beta_base=0.3\n",
    "beta_multiplier=0.0005\n",
    "max_episodes = 100000         # max num of episodes\n",
    "max_timesteps = 3000        # max timesteps in one episode\n",
    "max_buffer_length = 5000000\n",
    "log_interval = 10           # print avg reward after interval\n"
   ]
  },
  {
   "cell_type": "code",
   "execution_count": 3,
   "metadata": {},
   "outputs": [],
   "source": [
    "fc_config = [\n",
    "        {'dim': [None, 64], 'dropout': False, 'activation': 'relu'},           \n",
    "    ] \n",
    "adv_stream_config = [       \n",
    "        {'dim': [64, None], 'dropout': False, 'activation': False}\n",
    "    ] \n",
    "value_stream_config = [          \n",
    "        {'dim': [64, 1], 'dropout': False, 'activation': False}\n",
    "    ] \n",
    "\n",
    "config = [fc_config, adv_stream_config, value_stream_config]\n"
   ]
  },
  {
   "cell_type": "code",
   "execution_count": 4,
   "metadata": {
    "scrolled": false
   },
   "outputs": [
    {
     "name": "stdout",
     "output_type": "stream",
     "text": [
      "NETWORK: Sequential(\n",
      "  (0): Linear(in_features=4, out_features=64, bias=True)\n",
      "  (1): ReLU()\n",
      ") Sequential(\n",
      "  (0): Linear(in_features=64, out_features=2, bias=True)\n",
      ") Sequential(\n",
      "  (0): Linear(in_features=64, out_features=1, bias=True)\n",
      ")\n",
      "Device: cuda:0\n",
      "NETWORK: Sequential(\n",
      "  (0): Linear(in_features=4, out_features=64, bias=True)\n",
      "  (1): ReLU()\n",
      ") Sequential(\n",
      "  (0): Linear(in_features=64, out_features=2, bias=True)\n",
      ") Sequential(\n",
      "  (0): Linear(in_features=64, out_features=1, bias=True)\n",
      ")\n",
      "Device: cuda:0\n",
      "Random Seed: 43\n",
      "action_space=Discrete(2)\n",
      "obs_space=Box(4,)\n",
      "threshold=475.0 \n",
      "\n",
      "DIR=./preTrained/duel_ddqn_per NAME=duel_ddqn_per_CartPole-v1_43\n",
      "No models to load\n",
      "\n",
      "Training started ... \n",
      "Ep:    0  Rew:   14.00  Avg Rew:   14.00  LR:0.00100000  Bf: 0  Beta:0.3000  EPS:0.5000  Loss: 0.000000\n",
      "Ep:   10  Rew:   15.00  Avg Rew:   15.27  LR:0.00099900  Bf: 0  Beta:0.3050  EPS:0.4902  Loss: 0.000000\n",
      "Ep:   20  Rew:   11.00  Avg Rew:   15.48  LR:0.00099800  Bf: 0  Beta:0.3100  EPS:0.4808  Loss: 1.315518\n",
      "Ep:   30  Rew:   11.00  Avg Rew:   14.87  LR:0.00099701  Bf: 0  Beta:0.3150  EPS:0.4717  Loss: 2.413081\n",
      "Ep:   40  Rew:   13.00  Avg Rew:   14.29  LR:0.00099602  Bf: 0  Beta:0.3200  EPS:0.4630  Loss: 5.564494\n",
      "Ep:   50  Rew:   11.00  Avg Rew:   13.88  LR:0.00099502  Bf: 0  Beta:0.3250  EPS:0.4545  Loss: 5.560587\n",
      "Ep:   60  Rew:   10.00  Avg Rew:   13.64  LR:0.00099404  Bf: 0  Beta:0.3300  EPS:0.4464  Loss: 7.468078\n",
      "Ep:   70  Rew:   12.00  Avg Rew:   13.66  LR:0.00099305  Bf: 0  Beta:0.3350  EPS:0.4386  Loss: 13.029691\n",
      "Ep:   80  Rew:   31.00  Avg Rew:   14.21  LR:0.00099206  Bf: 0  Beta:0.3400  EPS:0.4310  Loss: 13.150994\n",
      "Ep:   90  Rew:   47.00  Avg Rew:   20.26  LR:0.00099108  Bf: 0  Beta:0.3450  EPS:0.4237  Loss: 7.381764\n",
      "Ep:  100  Rew:  129.00  Avg Rew:   24.65  LR:0.00099010  Bf: 0  Beta:0.3500  EPS:0.4167  Loss: 10.524006\n",
      "Ep:  110  Rew:   51.00  Avg Rew:   28.41  LR:0.00098912  Bf: 0  Beta:0.3550  EPS:0.4098  Loss: 13.015470\n",
      "Ep:  120  Rew:   91.00  Avg Rew:   34.11  LR:0.00098814  Bf: 0  Beta:0.3600  EPS:0.4032  Loss: 14.324183\n",
      "Ep:  130  Rew:  113.00  Avg Rew:   39.99  LR:0.00098717  Bf: 0  Beta:0.3650  EPS:0.3968  Loss: 16.389212\n",
      "Ep:  140  Rew:   68.00  Avg Rew:   52.85  LR:0.00098619  Bf: 0  Beta:0.3700  EPS:0.3906  Loss: 10.644151\n",
      "Ep:  150  Rew:  272.00  Avg Rew:   80.75  LR:0.00098522  Bf: 0  Beta:0.3750  EPS:0.3846  Loss: 6.373859\n",
      "Ep:  160  Rew:  266.00  Avg Rew:  110.92  LR:0.00098425  Bf: 0  Beta:0.3800  EPS:0.3788  Loss: 5.516604\n",
      "Ep:  170  Rew:  381.00  Avg Rew:  134.22  LR:0.00098328  Bf: 0  Beta:0.3850  EPS:0.3731  Loss: 7.070092\n",
      "Ep:  180  Rew:  347.00  Avg Rew:  156.05  LR:0.00098232  Bf: 0  Beta:0.3900  EPS:0.3676  Loss: 8.436543\n",
      "Ep:  190  Rew:  349.00  Avg Rew:  175.03  LR:0.00098135  Bf: 0  Beta:0.3950  EPS:0.3623  Loss: 8.556542\n",
      "Ep:  200  Rew:  494.00  Avg Rew:  205.85  LR:0.00098039  Bf: 0  Beta:0.4000  EPS:0.3571  Loss: 8.672811\n",
      "Ep:  210  Rew:  339.00  Avg Rew:  224.03  LR:0.00097943  Bf: 1  Beta:0.4050  EPS:0.3521  Loss: 9.696089\n",
      "Ep:  220  Rew:  335.00  Avg Rew:  242.28  LR:0.00097847  Bf: 1  Beta:0.4100  EPS:0.3472  Loss: 10.609658\n",
      "Ep:  230  Rew:  281.00  Avg Rew:  264.44  LR:0.00097752  Bf: 1  Beta:0.4150  EPS:0.3425  Loss: 9.831945\n",
      "Ep:  240  Rew:  205.00  Avg Rew:  281.02  LR:0.00097656  Bf: 1  Beta:0.4200  EPS:0.3378  Loss: 8.719998\n",
      "Ep:  250  Rew:  308.00  Avg Rew:  280.25  LR:0.00097561  Bf: 1  Beta:0.4250  EPS:0.3333  Loss: 8.486898\n",
      "Ep:  260  Rew:  220.00  Avg Rew:  271.33  LR:0.00097466  Bf: 1  Beta:0.4300  EPS:0.3289  Loss: 8.704229\n",
      "Ep:  270  Rew:  252.00  Avg Rew:  268.50  LR:0.00097371  Bf: 1  Beta:0.4350  EPS:0.3247  Loss: 8.747186\n",
      "Ep:  280  Rew:  372.00  Avg Rew:  274.74  LR:0.00097276  Bf: 1  Beta:0.4400  EPS:0.3205  Loss: 8.740380\n",
      "Ep:  290  Rew:  203.00  Avg Rew:  276.87  LR:0.00097182  Bf: 1  Beta:0.4450  EPS:0.3165  Loss: 7.238393\n",
      "Ep:  300  Rew:  221.00  Avg Rew:  263.09  LR:0.00097087  Bf: 1  Beta:0.4500  EPS:0.3125  Loss: 9.503456\n",
      "Ep:  310  Rew:  321.00  Avg Rew:  262.31  LR:0.00096993  Bf: 1  Beta:0.4550  EPS:0.3086  Loss: 7.146486\n",
      "Ep:  320  Rew:  287.00  Avg Rew:  263.80  LR:0.00096899  Bf: 1  Beta:0.4600  EPS:0.3049  Loss: 8.139326\n",
      "Ep:  330  Rew:  220.00  Avg Rew:  259.38  LR:0.00096805  Bf: 1  Beta:0.4650  EPS:0.3012  Loss: 8.191166\n",
      "Ep:  340  Rew:  244.00  Avg Rew:  253.02  LR:0.00096712  Bf: 1  Beta:0.4700  EPS:0.2976  Loss: 7.490251\n",
      "Ep:  350  Rew:  229.00  Avg Rew:  246.67  LR:0.00096618  Bf: 1  Beta:0.4750  EPS:0.2941  Loss: 7.549412\n",
      "Ep:  360  Rew:  227.00  Avg Rew:  244.67  LR:0.00096525  Bf: 1  Beta:0.4800  EPS:0.2907  Loss: 9.957182\n",
      "Ep:  370  Rew:  186.00  Avg Rew:  244.30  LR:0.00096432  Bf: 1  Beta:0.4850  EPS:0.2874  Loss: 6.320801\n",
      "Ep:  380  Rew:  269.00  Avg Rew:  236.53  LR:0.00096339  Bf: 1  Beta:0.4900  EPS:0.2841  Loss: 5.573461\n",
      "Ep:  390  Rew:  286.00  Avg Rew:  231.64  LR:0.00096246  Bf: 1  Beta:0.4950  EPS:0.2809  Loss: 7.161943\n",
      "Ep:  400  Rew:  279.00  Avg Rew:  230.19  LR:0.00096154  Bf: 1  Beta:0.5000  EPS:0.2778  Loss: 7.638505\n",
      "Ep:  410  Rew:  148.00  Avg Rew:  224.82  LR:0.00096061  Bf: 1  Beta:0.5050  EPS:0.2747  Loss: 7.648361\n",
      "Ep:  420  Rew:  245.00  Avg Rew:  219.60  LR:0.00095969  Bf: 2  Beta:0.5100  EPS:0.2717  Loss: 6.284977\n",
      "Ep:  430  Rew:  243.00  Avg Rew:  217.85  LR:0.00095877  Bf: 2  Beta:0.5150  EPS:0.2688  Loss: 5.347751\n",
      "Ep:  440  Rew:  246.00  Avg Rew:  216.50  LR:0.00095785  Bf: 2  Beta:0.5200  EPS:0.2660  Loss: 6.358780\n",
      "Ep:  450  Rew:  214.00  Avg Rew:  216.29  LR:0.00095694  Bf: 2  Beta:0.5250  EPS:0.2632  Loss: 6.957322\n",
      "Ep:  460  Rew:  500.00  Avg Rew:  221.52  LR:0.00095602  Bf: 2  Beta:0.5300  EPS:0.2604  Loss: 6.364437\n",
      "Ep:  470  Rew:  241.00  Avg Rew:  228.63  LR:0.00095511  Bf: 2  Beta:0.5350  EPS:0.2577  Loss: 6.018871\n",
      "Ep:  480  Rew:  174.00  Avg Rew:  224.78  LR:0.00095420  Bf: 2  Beta:0.5400  EPS:0.2551  Loss: 7.778430\n",
      "Ep:  490  Rew:  332.00  Avg Rew:  226.30  LR:0.00095329  Bf: 2  Beta:0.5450  EPS:0.2525  Loss: 6.615079\n",
      "Ep:  500  Rew:  169.00  Avg Rew:  234.83  LR:0.00095238  Bf: 2  Beta:0.5500  EPS:0.2500  Loss: 6.640180\n",
      "Ep:  510  Rew:  347.00  Avg Rew:  237.83  LR:0.00095147  Bf: 2  Beta:0.5550  EPS:0.2475  Loss: 7.285272\n",
      "Ep:  520  Rew:  436.00  Avg Rew:  247.66  LR:0.00095057  Bf: 2  Beta:0.5600  EPS:0.2451  Loss: 7.164643\n",
      "Ep:  530  Rew:  118.00  Avg Rew:  258.80  LR:0.00094967  Bf: 2  Beta:0.5650  EPS:0.2427  Loss: 6.734580\n",
      "Ep:  540  Rew:  306.00  Avg Rew:  268.56  LR:0.00094877  Bf: 2  Beta:0.5700  EPS:0.2404  Loss: 5.569386\n",
      "Ep:  550  Rew:  395.00  Avg Rew:  284.36  LR:0.00094787  Bf: 2  Beta:0.5750  EPS:0.2381  Loss: 6.605126\n",
      "Ep:  560  Rew:  500.00  Avg Rew:  292.49  LR:0.00094697  Bf: 2  Beta:0.5800  EPS:0.2358  Loss: 6.479317\n",
      "Ep:  570  Rew:  500.00  Avg Rew:  310.17  LR:0.00094607  Bf: 2  Beta:0.5850  EPS:0.2336  Loss: 8.342010\n",
      "Ep:  580  Rew:  500.00  Avg Rew:  340.90  LR:0.00094518  Bf: 2  Beta:0.5900  EPS:0.2315  Loss: 5.782036\n",
      "Ep:  590  Rew:  500.00  Avg Rew:  366.23  LR:0.00094429  Bf: 3  Beta:0.5950  EPS:0.2294  Loss: 8.462418\n",
      "Ep:  600  Rew:  500.00  Avg Rew:  384.03  LR:0.00094340  Bf: 3  Beta:0.6000  EPS:0.2273  Loss: 8.007168\n",
      "Ep:  610  Rew:  500.00  Avg Rew:  413.70  LR:0.00094251  Bf: 3  Beta:0.6050  EPS:0.2252  Loss: 8.372545\n",
      "Ep:  620  Rew:  500.00  Avg Rew:  432.08  LR:0.00094162  Bf: 3  Beta:0.6100  EPS:0.2232  Loss: 11.969712\n",
      "Ep:  630  Rew:  390.00  Avg Rew:  442.59  LR:0.00094073  Bf: 3  Beta:0.6150  EPS:0.2212  Loss: 10.760533\n",
      "Ep:  640  Rew:  297.00  Avg Rew:  454.17  LR:0.00093985  Bf: 3  Beta:0.6200  EPS:0.2193  Loss: 13.856293\n",
      "Ep:  650  Rew:  134.00  Avg Rew:  448.59  LR:0.00093897  Bf: 3  Beta:0.6250  EPS:0.2174  Loss: 12.278536\n",
      "Ep:  660  Rew:  500.00  Avg Rew:  452.32  LR:0.00093809  Bf: 3  Beta:0.6300  EPS:0.2155  Loss: 15.368784\n",
      "Ep:  670  Rew:  500.00  Avg Rew:  446.00  LR:0.00093721  Bf: 3  Beta:0.6350  EPS:0.2137  Loss: 13.692464\n",
      "Ep:  680  Rew:  500.00  Avg Rew:  447.01  LR:0.00093633  Bf: 3  Beta:0.6400  EPS:0.2119  Loss: 13.460622\n",
      "Ep:  690  Rew:  500.00  Avg Rew:  447.01  LR:0.00093545  Bf: 3  Beta:0.6450  EPS:0.2101  Loss: 10.543563\n",
      "Ep:  700  Rew:  500.00  Avg Rew:  438.24  LR:0.00093458  Bf: 4  Beta:0.6500  EPS:0.2083  Loss: 13.808731\n",
      "Ep:  710  Rew:  500.00  Avg Rew:  434.48  LR:0.00093371  Bf: 4  Beta:0.6550  EPS:0.2066  Loss: 14.018395\n",
      "Ep:  720  Rew:  500.00  Avg Rew:  433.39  LR:0.00093284  Bf: 4  Beta:0.6600  EPS:0.2049  Loss: 12.467933\n"
     ]
    },
    {
     "name": "stdout",
     "output_type": "stream",
     "text": [
      "Ep:  730  Rew:  500.00  Avg Rew:  438.51  LR:0.00093197  Bf: 4  Beta:0.6650  EPS:0.2033  Loss: 19.048164\n",
      "Ep:  740  Rew:  500.00  Avg Rew:  442.47  LR:0.00093110  Bf: 4  Beta:0.6700  EPS:0.2016  Loss: 18.048669\n",
      "Ep:  750  Rew:  500.00  Avg Rew:  455.64  LR:0.00093023  Bf: 4  Beta:0.6750  EPS:0.2000  Loss: 12.615096\n",
      "Ep:  760  Rew:  500.00  Avg Rew:  462.17  LR:0.00092937  Bf: 4  Beta:0.6800  EPS:0.1984  Loss: 13.769461\n",
      "Ep:  770  Rew:  500.00  Avg Rew:  472.22  LR:0.00092851  Bf: 4  Beta:0.6850  EPS:0.1969  Loss: 14.789423\n",
      "Ep:  780  Rew:  500.00  Avg Rew:  472.22  LR:0.00092764  Bf: 4  Beta:0.6900  EPS:0.1953  Loss: 15.992314\n",
      "Ep:  790  Rew:  500.00  Avg Rew:  467.94  LR:0.00092678  Bf: 4  Beta:0.6950  EPS:0.1938  Loss: 16.519867\n",
      "Ep:  796  Rew:  500.00  Avg Rew:  475.15  LR:0.00092627  Bf: 4  Beta:0.6980 EPS:0.1929  Loss: 16.168663\n",
      "########## Solved! ###########\n",
      "Training time: 1253.35 sec\n"
     ]
    }
   ],
   "source": [
    "agent = Dueling_DDQN_PER_Trainer(env_name, config, random_seed=random_seed, lr_base=lr_base, lr_decay=lr_decay, \n",
    "                   epsilon_base=epsilon_base, epsilon_decay=epsilon_decay, gamma=gamma, batch_size=batch_size,\n",
    "                   max_episodes=max_episodes, max_timesteps=max_timesteps, \n",
    "                   max_buffer_length=max_buffer_length, log_interval=log_interval,\n",
    "                   alpha=alpha, beta_base=beta_base, beta_multiplier=beta_multiplier)\n",
    "agent.train()"
   ]
  },
  {
   "cell_type": "code",
   "execution_count": 5,
   "metadata": {
    "scrolled": false
   },
   "outputs": [
    {
     "name": "stdout",
     "output_type": "stream",
     "text": [
      "Test episode: 1\tReward: 500.00\n",
      "Test episode: 2\tReward: 500.00\n",
      "Test episode: 3\tReward: 500.00\n"
     ]
    }
   ],
   "source": [
    "agent.test()"
   ]
  },
  {
   "cell_type": "code",
   "execution_count": null,
   "metadata": {},
   "outputs": [],
   "source": []
  },
  {
   "cell_type": "code",
   "execution_count": null,
   "metadata": {},
   "outputs": [],
   "source": []
  },
  {
   "cell_type": "code",
   "execution_count": null,
   "metadata": {},
   "outputs": [],
   "source": []
  },
  {
   "cell_type": "code",
   "execution_count": null,
   "metadata": {},
   "outputs": [],
   "source": []
  },
  {
   "cell_type": "code",
   "execution_count": null,
   "metadata": {},
   "outputs": [],
   "source": []
  },
  {
   "cell_type": "code",
   "execution_count": null,
   "metadata": {},
   "outputs": [],
   "source": [
    "\n",
    "                   \n",
    "            "
   ]
  },
  {
   "cell_type": "code",
   "execution_count": null,
   "metadata": {},
   "outputs": [],
   "source": []
  },
  {
   "cell_type": "code",
   "execution_count": null,
   "metadata": {},
   "outputs": [],
   "source": []
  }
 ],
 "metadata": {
  "kernelspec": {
   "display_name": "Python 3",
   "language": "python",
   "name": "python3"
  },
  "language_info": {
   "codemirror_mode": {
    "name": "ipython",
    "version": 3
   },
   "file_extension": ".py",
   "mimetype": "text/x-python",
   "name": "python",
   "nbconvert_exporter": "python",
   "pygments_lexer": "ipython3",
   "version": "3.6.8"
  }
 },
 "nbformat": 4,
 "nbformat_minor": 2
}
