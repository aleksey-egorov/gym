{
 "cells": [
  {
   "cell_type": "code",
   "execution_count": 1,
   "metadata": {},
   "outputs": [],
   "source": [
    "import os\n",
    "import sys\n",
    "folder = os.path.dirname('../../../algorithms/')\n",
    "sys.path.append(folder)\n",
    "\n",
    "from PG.trainer import PG_Trainer"
   ]
  },
  {
   "cell_type": "code",
   "execution_count": 2,
   "metadata": {},
   "outputs": [],
   "source": [
    "env_name = 'CartPole-v1'\n",
    "lr_base = 0.0001\n",
    "lr_decay = 0.0001\n",
    "\n",
    "random_seed = 42\n",
    "gamma = 0.99                # discount for future rewards\n",
    "batch_size = 64         # num of transitions sampled from replay buffer\n",
    "\n",
    "max_episodes = 100000         # max num of episodes\n",
    "max_timesteps = 3000        # max timesteps in one episode\n",
    "log_interval = 50           # print avg reward after interval\n",
    "\n",
    "entropy_beta = 0.01\n",
    "bellman_steps = 50\n",
    "baseline_steps = 50000\n"
   ]
  },
  {
   "cell_type": "code",
   "execution_count": 3,
   "metadata": {},
   "outputs": [],
   "source": [
    "config = [\n",
    "     {'dim': [None, 128], 'dropout': False, 'activation': 'relu'},    \n",
    "     {'dim': [128, None], 'dropout': False, 'activation': False},    \n",
    "] "
   ]
  },
  {
   "cell_type": "code",
   "execution_count": 4,
   "metadata": {
    "scrolled": false
   },
   "outputs": [
    {
     "name": "stdout",
     "output_type": "stream",
     "text": [
      "NETWORK: Sequential(\n",
      "  (0): Linear(in_features=4, out_features=128, bias=True)\n",
      "  (1): ReLU()\n",
      "  (2): Linear(in_features=128, out_features=2, bias=True)\n",
      ") Device: cuda:0\n",
      "Random Seed: 42\n",
      "action_space=Discrete(2)\n",
      "obs_space=Box(4,)\n",
      "threshold=475.0 \n",
      "\n",
      "DIR=./preTrained/pg NAME=pg_CartPole-v1_42\n",
      "No models to load\n",
      "\n",
      "Training started ... \n",
      "Ep:   50  Rew:   28.00  Avg Rew:   23.10  LR:0.00009951  Loss: -1.845298\n",
      "Ep:  100  Rew:   16.00  Avg Rew:   25.23  LR:0.00009902  Loss: 0.007866\n",
      "Ep:  150  Rew:   26.00  Avg Rew:   26.17  LR:0.00009853  Loss: -0.247397\n",
      "Ep:  200  Rew:   30.00  Avg Rew:   26.59  LR:0.00009805  Loss: 0.039433\n",
      "Ep:  250  Rew:   13.00  Avg Rew:   27.50  LR:0.00009757  Loss: 0.088303\n",
      "Ep:  300  Rew:   45.00  Avg Rew:   26.81  LR:0.00009710  Loss: 0.339025\n",
      "Ep:  350  Rew:   25.00  Avg Rew:   29.58  LR:0.00009663  Loss: 0.321097\n",
      "Ep:  400  Rew:   25.00  Avg Rew:   30.35  LR:0.00009616  Loss: 0.579626\n",
      "Ep:  450  Rew:   26.00  Avg Rew:   27.71  LR:0.00009570  Loss: 0.331722\n",
      "Ep:  500  Rew:  100.00  Avg Rew:   27.47  LR:0.00009525  Loss: 0.392847\n",
      "Ep:  550  Rew:   30.00  Avg Rew:   29.33  LR:0.00009480  Loss: 0.280206\n",
      "Ep:  600  Rew:   26.00  Avg Rew:   31.60  LR:0.00009435  Loss: 0.507905\n",
      "Ep:  650  Rew:   39.00  Avg Rew:   33.11  LR:0.00009391  Loss: 0.941276\n",
      "Ep:  700  Rew:   31.00  Avg Rew:   35.48  LR:0.00009347  Loss: 1.638428\n",
      "Ep:  750  Rew:   14.00  Avg Rew:   34.67  LR:0.00009303  Loss: 1.599682\n",
      "Ep:  800  Rew:   29.00  Avg Rew:   34.81  LR:0.00009260  Loss: 1.890229\n",
      "Ep:  850  Rew:   36.00  Avg Rew:   43.86  LR:0.00009217  Loss: 2.449188\n",
      "Ep:  900  Rew:   32.00  Avg Rew:   44.31  LR:0.00009175  Loss: 2.635180\n",
      "Ep:  950  Rew:   40.00  Avg Rew:   39.64  LR:0.00009133  Loss: 2.545910\n",
      "Ep: 1000  Rew:   33.00  Avg Rew:   41.37  LR:0.00009092  Loss: 1.468909\n",
      "Ep: 1050  Rew:   34.00  Avg Rew:   43.32  LR:0.00009051  Loss: 1.934125\n",
      "Ep: 1100  Rew:   73.00  Avg Rew:   46.44  LR:0.00009010  Loss: 2.330843\n",
      "Ep: 1150  Rew:   70.00  Avg Rew:   48.59  LR:0.00008969  Loss: 2.358458\n",
      "Ep: 1200  Rew:   82.00  Avg Rew:   49.61  LR:0.00008929  Loss: 2.762993\n",
      "Ep: 1250  Rew:   21.00  Avg Rew:   54.83  LR:0.00008890  Loss: 3.329301\n",
      "Ep: 1300  Rew:   62.00  Avg Rew:   59.64  LR:0.00008850  Loss: 3.511173\n",
      "Ep: 1350  Rew:   43.00  Avg Rew:   57.67  LR:0.00008811  Loss: 3.381988\n",
      "Ep: 1400  Rew:   18.00  Avg Rew:   60.14  LR:0.00008773  Loss: 3.213774\n",
      "Ep: 1450  Rew:   24.00  Avg Rew:   67.13  LR:0.00008734  Loss: 3.455740\n",
      "Ep: 1500  Rew:   16.00  Avg Rew:   69.97  LR:0.00008696  Loss: 3.101980\n",
      "Ep: 1550  Rew:   45.00  Avg Rew:   72.07  LR:0.00008659  Loss: 2.676269\n",
      "Ep: 1600  Rew:  103.00  Avg Rew:   83.14  LR:0.00008621  Loss: 3.291116\n",
      "Ep: 1650  Rew:  177.00  Avg Rew:   90.63  LR:0.00008584  Loss: 2.980788\n",
      "Ep: 1700  Rew:  197.00  Avg Rew:   92.77  LR:0.00008548  Loss: 2.581748\n",
      "Ep: 1750  Rew:   51.00  Avg Rew:  106.01  LR:0.00008511  Loss: 2.691886\n",
      "Ep: 1800  Rew:   34.00  Avg Rew:  120.20  LR:0.00008475  Loss: 2.247862\n",
      "Ep: 1850  Rew:  150.00  Avg Rew:  125.19  LR:0.00008440  Loss: 1.614482\n",
      "Ep: 1900  Rew:  262.00  Avg Rew:  130.17  LR:0.00008404  Loss: 1.423335\n",
      "Ep: 1950  Rew:   90.00  Avg Rew:  142.26  LR:0.00008369  Loss: 1.092216\n",
      "Ep: 2000  Rew:  167.00  Avg Rew:  158.68  LR:0.00008334  Loss: 1.126204\n",
      "Ep: 2050  Rew:  146.00  Avg Rew:  168.96  LR:0.00008299  Loss: 0.621615\n",
      "Ep: 2100  Rew:  165.00  Avg Rew:  176.47  LR:0.00008265  Loss: 0.476410\n",
      "Ep: 2150  Rew:  348.00  Avg Rew:  178.07  LR:0.00008231  Loss: 0.153379\n",
      "Ep: 2200  Rew:  233.00  Avg Rew:  175.99  LR:0.00008197  Loss: -0.007115\n",
      "Ep: 2250  Rew:  393.00  Avg Rew:  187.78  LR:0.00008164  Loss: 0.193827\n",
      "Ep: 2300  Rew:   67.00  Avg Rew:  197.03  LR:0.00008131  Loss: 0.166743\n",
      "Ep: 2350  Rew:  480.00  Avg Rew:  199.39  LR:0.00008098  Loss: 0.343862\n",
      "Ep: 2400  Rew:  287.00  Avg Rew:  208.53  LR:0.00008065  Loss: 0.242540\n",
      "Ep: 2450  Rew:  158.00  Avg Rew:  212.56  LR:0.00008033  Loss: -0.194260\n",
      "Ep: 2500  Rew:  136.00  Avg Rew:  217.94  LR:0.00008001  Loss: 0.172308\n",
      "Ep: 2550  Rew:  231.00  Avg Rew:  212.19  LR:0.00007969  Loss: -0.333172\n",
      "Ep: 2600  Rew:  265.00  Avg Rew:  211.65  LR:0.00007937  Loss: 0.142668\n",
      "Ep: 2650  Rew:  104.00  Avg Rew:  229.47  LR:0.00007906  Loss: 0.000550\n",
      "Ep: 2700  Rew:  138.00  Avg Rew:  242.39  LR:0.00007875  Loss: 0.162730\n",
      "Ep: 2750  Rew:  425.00  Avg Rew:  251.20  LR:0.00007844  Loss: 0.207348\n",
      "Ep: 2800  Rew:  352.00  Avg Rew:  240.01  LR:0.00007813  Loss: -0.065210\n",
      "Ep: 2850  Rew:  315.00  Avg Rew:  225.25  LR:0.00007783  Loss: -0.183218\n",
      "Ep: 2900  Rew:  278.00  Avg Rew:  223.51  LR:0.00007753  Loss: -0.018476\n",
      "Ep: 2950  Rew:  173.00  Avg Rew:  240.83  LR:0.00007723  Loss: 0.305329\n",
      "Ep: 3000  Rew:  383.00  Avg Rew:  263.60  LR:0.00007693  Loss: -0.006680\n",
      "Ep: 3050  Rew:  112.00  Avg Rew:  271.14  LR:0.00007663  Loss: 0.300117\n",
      "Ep: 3100  Rew:  116.00  Avg Rew:  274.92  LR:0.00007634  Loss: 0.012392\n",
      "Ep: 3150  Rew:  109.00  Avg Rew:  294.35  LR:0.00007605  Loss: 0.174142\n",
      "Ep: 3200  Rew:  175.00  Avg Rew:  294.33  LR:0.00007576  Loss: 0.140767\n",
      "Ep: 3250  Rew:  355.00  Avg Rew:  294.65  LR:0.00007548  Loss: 0.020040\n",
      "Ep: 3300  Rew:  214.00  Avg Rew:  302.77  LR:0.00007519  Loss: 0.026474\n",
      "Ep: 3350  Rew:  220.00  Avg Rew:  317.91  LR:0.00007491  Loss: 0.077480\n",
      "Ep: 3400  Rew:  163.00  Avg Rew:  329.55  LR:0.00007463  Loss: -0.225738\n",
      "Ep: 3450  Rew:  161.00  Avg Rew:  312.15  LR:0.00007435  Loss: -0.100761\n",
      "Ep: 3500  Rew:  500.00  Avg Rew:  299.92  LR:0.00007408  Loss: 0.013099\n",
      "Ep: 3550  Rew:  500.00  Avg Rew:  296.87  LR:0.00007381  Loss: 0.186686\n",
      "Ep: 3600  Rew:  382.00  Avg Rew:  292.11  LR:0.00007353  Loss: -0.027262\n",
      "Ep: 3650  Rew:  430.00  Avg Rew:  284.75  LR:0.00007327  Loss: -0.065715\n",
      "Ep: 3700  Rew:  210.00  Avg Rew:  284.02  LR:0.00007300  Loss: -0.013107\n",
      "Ep: 3750  Rew:  289.00  Avg Rew:  306.15  LR:0.00007273  Loss: 0.066258\n",
      "Ep: 3800  Rew:  177.00  Avg Rew:  342.34  LR:0.00007247  Loss: 0.138339\n",
      "Ep: 3850  Rew:  164.00  Avg Rew:  347.34  LR:0.00007221  Loss: -0.221894\n",
      "Ep: 3900  Rew:  382.00  Avg Rew:  324.80  LR:0.00007195  Loss: 0.107044\n",
      "Ep: 3950  Rew:  250.00  Avg Rew:  347.23  LR:0.00007169  Loss: -0.003399\n",
      "Ep: 4000  Rew:  390.00  Avg Rew:  347.82  LR:0.00007143  Loss: 0.045696\n",
      "Ep: 4050  Rew:  500.00  Avg Rew:  309.30  LR:0.00007118  Loss: -0.073597\n",
      "Ep: 4100  Rew:  125.00  Avg Rew:  350.78  LR:0.00007093  Loss: 0.101747\n",
      "Ep: 4150  Rew:  500.00  Avg Rew:  383.71  LR:0.00007068  Loss: -0.140785\n",
      "Ep: 4200  Rew:  500.00  Avg Rew:  364.59  LR:0.00007043  Loss: -0.021483\n",
      "Ep: 4250  Rew:  192.00  Avg Rew:  365.96  LR:0.00007018  Loss: -0.311819\n",
      "Ep: 4300  Rew:  492.00  Avg Rew:  340.69  LR:0.00006993  Loss: -0.123070\n",
      "Ep: 4350  Rew:  500.00  Avg Rew:  310.20  LR:0.00006969  Loss: -0.391067\n",
      "Ep: 4400  Rew:  343.00  Avg Rew:  329.93  LR:0.00006945  Loss: 0.310676\n",
      "Ep: 4450  Rew:  390.00  Avg Rew:  358.77  LR:0.00006921  Loss: 0.101835\n",
      "Ep: 4500  Rew:  449.00  Avg Rew:  360.98  LR:0.00006897  Loss: -0.142111\n",
      "Ep: 4550  Rew:  203.00  Avg Rew:  358.90  LR:0.00006873  Loss: -0.117789\n",
      "Ep: 4600  Rew:  500.00  Avg Rew:  388.85  LR:0.00006850  Loss: 0.214642\n",
      "Ep: 4650  Rew:  172.00  Avg Rew:  384.67  LR:0.00006826  Loss: -0.379252\n",
      "Ep: 4700  Rew:  500.00  Avg Rew:  337.81  LR:0.00006803  Loss: -0.153910\n",
      "Ep: 4750  Rew:  414.00  Avg Rew:  317.17  LR:0.00006780  Loss: -0.089464\n",
      "Ep: 4800  Rew:  295.00  Avg Rew:  287.81  LR:0.00006757  Loss: -0.484769\n",
      "Ep: 4850  Rew:  276.00  Avg Rew:  286.81  LR:0.00006734  Loss: -0.016478\n",
      "Ep: 4900  Rew:  261.00  Avg Rew:  327.34  LR:0.00006712  Loss: 0.063725\n",
      "Ep: 4950  Rew:  275.00  Avg Rew:  319.71  LR:0.00006689  Loss: -0.038589\n",
      "Ep: 5000  Rew:  316.00  Avg Rew:  323.53  LR:0.00006667  Loss: 0.065359\n",
      "Ep: 5050  Rew:  253.00  Avg Rew:  346.47  LR:0.00006645  Loss: -0.065460\n",
      "Ep: 5100  Rew:  500.00  Avg Rew:  347.69  LR:0.00006623  Loss: 0.069028\n",
      "Ep: 5150  Rew:  500.00  Avg Rew:  341.11  LR:0.00006601  Loss: -0.109597\n",
      "Ep: 5200  Rew:  284.00  Avg Rew:  364.75  LR:0.00006579  Loss: -0.021089\n",
      "Ep: 5250  Rew:  397.00  Avg Rew:  346.42  LR:0.00006558  Loss: -0.207755\n",
      "Ep: 5300  Rew:  500.00  Avg Rew:  320.71  LR:0.00006536  Loss: 0.019961\n",
      "Ep: 5350  Rew:  364.00  Avg Rew:  380.69  LR:0.00006515  Loss: 0.166640\n",
      "Ep: 5400  Rew:  500.00  Avg Rew:  428.28  LR:0.00006494  Loss: 0.029480\n",
      "Ep: 5450  Rew:  500.00  Avg Rew:  445.08  LR:0.00006473  Loss: 0.002725\n"
     ]
    },
    {
     "name": "stdout",
     "output_type": "stream",
     "text": [
      "Ep: 5500  Rew:  463.00  Avg Rew:  447.87  LR:0.00006452  Loss: -0.043458\n",
      "Ep: 5550  Rew:  345.00  Avg Rew:  445.01  LR:0.00006431  Loss: 0.031269\n",
      "Ep: 5600  Rew:  209.00  Avg Rew:  456.00  LR:0.00006411  Loss: 0.044635\n",
      "Ep: 5650  Rew:  294.00  Avg Rew:  461.13  LR:0.00006390  Loss: -0.004703\n",
      "Ep: 5700  Rew:  424.00  Avg Rew:  431.53  LR:0.00006370  Loss: -0.170769\n",
      "Ep: 5750  Rew:  466.00  Avg Rew:  407.45  LR:0.00006350  Loss: 0.064876\n",
      "Ep: 5800  Rew:  500.00  Avg Rew:  406.40  LR:0.00006330  Loss: 0.013180\n",
      "Ep: 5850  Rew:  500.00  Avg Rew:  415.01  LR:0.00006310  Loss: 0.161146\n",
      "Ep: 5900  Rew:  500.00  Avg Rew:  448.79  LR:0.00006290  Loss: 0.089693\n",
      "Ep: 5950  Rew:  500.00  Avg Rew:  465.48  LR:0.00006270  Loss: -0.035755\n",
      "Ep: 6000  Rew:  291.00  Avg Rew:  431.91  LR:0.00006250  Loss: -0.065503\n",
      "Ep: 6050  Rew:  335.00  Avg Rew:  410.97  LR:0.00006231  Loss: -0.069374\n",
      "Ep: 6100  Rew:  420.00  Avg Rew:  429.89  LR:0.00006212  Loss: 0.020865\n",
      "Ep: 6150  Rew:  194.00  Avg Rew:  439.65  LR:0.00006192  Loss: -0.182888\n",
      "Ep: 6200  Rew:  500.00  Avg Rew:  433.15  LR:0.00006173  Loss: -0.130620\n",
      "Ep: 6250  Rew:  204.00  Avg Rew:  406.70  LR:0.00006154  Loss: -0.100192\n",
      "Ep: 6300  Rew:  500.00  Avg Rew:  411.21  LR:0.00006135  Loss: 0.084359\n",
      "Ep: 6350  Rew:  399.00  Avg Rew:  415.31  LR:0.00006117  Loss: -0.090334\n",
      "Ep: 6400  Rew:  405.00  Avg Rew:  378.36  LR:0.00006098  Loss: -0.070296\n",
      "Ep: 6450  Rew:  320.00  Avg Rew:  388.27  LR:0.00006079  Loss: 0.023882\n",
      "Ep: 6500  Rew:  422.00  Avg Rew:  372.25  LR:0.00006061  Loss: -0.222469\n",
      "Ep: 6550  Rew:  500.00  Avg Rew:  370.19  LR:0.00006043  Loss: 0.094999\n",
      "Ep: 6600  Rew:  408.00  Avg Rew:  420.53  LR:0.00006024  Loss: 0.048106\n",
      "Ep: 6650  Rew:  500.00  Avg Rew:  414.64  LR:0.00006006  Loss: -0.055122\n",
      "Ep: 6700  Rew:  183.00  Avg Rew:  405.60  LR:0.00005988  Loss: -0.259524\n",
      "Ep: 6750  Rew:  251.00  Avg Rew:  386.76  LR:0.00005971  Loss: -0.258940\n",
      "Ep: 6800  Rew:  208.00  Avg Rew:  351.34  LR:0.00005953  Loss: -0.356698\n",
      "Ep: 6850  Rew:  395.00  Avg Rew:  372.16  LR:0.00005935  Loss: 0.070531\n",
      "Ep: 6900  Rew:  283.00  Avg Rew:  383.34  LR:0.00005918  Loss: -0.244692\n",
      "Ep: 6950  Rew:  132.00  Avg Rew:  364.78  LR:0.00005900  Loss: -0.039695\n",
      "Ep: 7000  Rew:  232.00  Avg Rew:  347.78  LR:0.00005883  Loss: -0.143858\n",
      "Ep: 7050  Rew:  340.00  Avg Rew:  356.60  LR:0.00005865  Loss: 0.112756\n",
      "Ep: 7100  Rew:  500.00  Avg Rew:  387.16  LR:0.00005848  Loss: 0.086089\n",
      "Ep: 7150  Rew:  500.00  Avg Rew:  400.09  LR:0.00005831  Loss: 0.143352\n",
      "Ep: 7200  Rew:  500.00  Avg Rew:  428.90  LR:0.00005814  Loss: 0.106273\n",
      "Ep: 7250  Rew:  500.00  Avg Rew:  440.75  LR:0.00005797  Loss: -0.013623\n",
      "Ep: 7300  Rew:  500.00  Avg Rew:  451.34  LR:0.00005781  Loss: 0.130506\n",
      "Ep: 7350  Rew:  205.00  Avg Rew:  461.50  LR:0.00005764  Loss: -0.241008\n",
      "Ep: 7400  Rew:  500.00  Avg Rew:  456.61  LR:0.00005747  Loss: 0.027769\n",
      "Ep: 7450  Rew:  500.00  Avg Rew:  461.13  LR:0.00005731  Loss: 0.158888\n",
      "Ep: 7500  Rew:  500.00  Avg Rew:  474.14  LR:0.00005715  Loss: 0.084083\n",
      "Ep: 7502  Rew:  500.00  Avg Rew:  477.38  LR:0.00005714  Loss: 0.092352\n",
      "########## Solved! ###########\n",
      "Training time: 844.73 sec\n"
     ]
    }
   ],
   "source": [
    "agent = PG_Trainer(env_name, config, random_seed=random_seed, lr_base=lr_base, lr_decay=lr_decay, \n",
    "                   gamma=gamma, batch_size=batch_size,\n",
    "                   max_episodes=max_episodes, max_timesteps=max_timesteps, \n",
    "                   log_interval=log_interval, entropy_beta=entropy_beta, \n",
    "                   bellman_steps=bellman_steps, baseline_steps=baseline_steps\n",
    "                   )\n",
    "agent.train()"
   ]
  },
  {
   "cell_type": "code",
   "execution_count": 5,
   "metadata": {
    "scrolled": false
   },
   "outputs": [
    {
     "name": "stdout",
     "output_type": "stream",
     "text": [
      "Test episode: 1\tReward: 500.00\n",
      "Test episode: 2\tReward: 267.00\n",
      "Test episode: 3\tReward: 500.00\n"
     ]
    }
   ],
   "source": [
    "agent.test()"
   ]
  },
  {
   "cell_type": "code",
   "execution_count": null,
   "metadata": {},
   "outputs": [],
   "source": []
  },
  {
   "cell_type": "code",
   "execution_count": null,
   "metadata": {},
   "outputs": [],
   "source": []
  },
  {
   "cell_type": "code",
   "execution_count": null,
   "metadata": {},
   "outputs": [],
   "source": [
    "\n",
    "            "
   ]
  },
  {
   "cell_type": "code",
   "execution_count": null,
   "metadata": {},
   "outputs": [],
   "source": []
  },
  {
   "cell_type": "code",
   "execution_count": null,
   "metadata": {},
   "outputs": [],
   "source": []
  },
  {
   "cell_type": "code",
   "execution_count": null,
   "metadata": {},
   "outputs": [],
   "source": []
  },
  {
   "cell_type": "code",
   "execution_count": null,
   "metadata": {},
   "outputs": [],
   "source": []
  },
  {
   "cell_type": "code",
   "execution_count": null,
   "metadata": {},
   "outputs": [],
   "source": []
  }
 ],
 "metadata": {
  "kernelspec": {
   "display_name": "Python 3",
   "language": "python",
   "name": "python3"
  },
  "language_info": {
   "codemirror_mode": {
    "name": "ipython",
    "version": 3
   },
   "file_extension": ".py",
   "mimetype": "text/x-python",
   "name": "python",
   "nbconvert_exporter": "python",
   "pygments_lexer": "ipython3",
   "version": "3.6.8"
  }
 },
 "nbformat": 4,
 "nbformat_minor": 2
}
