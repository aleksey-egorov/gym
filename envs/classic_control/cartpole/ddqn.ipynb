{
 "cells": [
  {
   "cell_type": "code",
   "execution_count": 1,
   "metadata": {},
   "outputs": [],
   "source": [
    "import os\n",
    "import sys\n",
    "folder = os.path.dirname('../../../algorithms/')\n",
    "sys.path.append(folder)\n",
    "\n",
    "from DDQN.trainer import DDQN_Trainer"
   ]
  },
  {
   "cell_type": "code",
   "execution_count": 2,
   "metadata": {},
   "outputs": [],
   "source": [
    "env_name = 'CartPole-v1'\n",
    "lr_base = 0.001\n",
    "lr_decay = 0.0001\n",
    "epsilon_base = 0.5 \n",
    "epsilon_decay = 0.002\n",
    "\n",
    "random_seed = 42\n",
    "gamma = 0.99                # discount for future rewards\n",
    "batch_size = 256         # num of transitions sampled from replay buffer\n",
    "polyak = 0.999               # target policy update parameter (1-tau)\n",
    "max_episodes = 100000         # max num of episodes\n",
    "max_timesteps = 3000        # max timesteps in one episode\n",
    "max_buffer_length = 5000000\n",
    "log_interval = 10           # print avg reward after interval\n"
   ]
  },
  {
   "cell_type": "code",
   "execution_count": 3,
   "metadata": {},
   "outputs": [],
   "source": [
    "fc_config = [\n",
    "        {'dim': [None, 64], 'dropout': False, 'activation': 'relu'},      \n",
    "        {'dim': [64, None], 'dropout': False, 'activation': False}\n",
    "    ] "
   ]
  },
  {
   "cell_type": "code",
   "execution_count": null,
   "metadata": {},
   "outputs": [],
   "source": []
  },
  {
   "cell_type": "code",
   "execution_count": 4,
   "metadata": {
    "scrolled": false
   },
   "outputs": [
    {
     "name": "stdout",
     "output_type": "stream",
     "text": [
      "NETWORK=Sequential(\n",
      "  (0): Linear(in_features=4, out_features=64, bias=True)\n",
      "  (1): ReLU()\n",
      "  (2): Linear(in_features=64, out_features=2, bias=True)\n",
      ")\n",
      "Device: cuda:0\n",
      "NETWORK=Sequential(\n",
      "  (0): Linear(in_features=4, out_features=64, bias=True)\n",
      "  (1): ReLU()\n",
      "  (2): Linear(in_features=64, out_features=2, bias=True)\n",
      ")\n",
      "Device: cuda:0\n",
      "Random Seed: 42\n",
      "action_space=Discrete(2)\n",
      "obs_space=Box(4,)\n",
      "threshold=475.0 \n",
      "\n",
      "DIR=./preTrained/ddqn NAME=ddqn_CartPole-v1_42\n",
      "No models to load\n",
      "\n",
      "Training started ... \n",
      "Ep:    0  Rew:   10.00  Avg Rew:   10.00  LR:0.00100000  Bf: 0  EPS:0.5000  Loss: 0.798356\n",
      "Ep:   10  Rew:   12.00  Avg Rew:   11.73  LR:0.00099900  Bf: 0  EPS:0.4902  Loss: 1.389566\n",
      "Ep:   20  Rew:   12.00  Avg Rew:   12.52  LR:0.00099800  Bf: 0  EPS:0.4808  Loss: 4.546784\n",
      "Ep:   30  Rew:   10.00  Avg Rew:   12.77  LR:0.00099701  Bf: 0  EPS:0.4717  Loss: 5.003213\n",
      "Ep:   40  Rew:   10.00  Avg Rew:   12.59  LR:0.00099602  Bf: 0  EPS:0.4630  Loss: 3.712140\n",
      "Ep:   50  Rew:   13.00  Avg Rew:   13.51  LR:0.00099502  Bf: 0  EPS:0.4545  Loss: 5.067682\n",
      "Ep:   60  Rew:   12.00  Avg Rew:   13.36  LR:0.00099404  Bf: 0  EPS:0.4464  Loss: 12.879929\n",
      "Ep:   70  Rew:   13.00  Avg Rew:   13.59  LR:0.00099305  Bf: 0  EPS:0.4386  Loss: 16.880648\n",
      "Ep:   80  Rew:   37.00  Avg Rew:   13.89  LR:0.00099206  Bf: 0  EPS:0.4310  Loss: 12.653125\n",
      "Ep:   90  Rew:   44.00  Avg Rew:   20.90  LR:0.00099108  Bf: 0  EPS:0.4237  Loss: 8.076701\n",
      "Ep:  100  Rew:   29.00  Avg Rew:   23.13  LR:0.00099010  Bf: 0  EPS:0.4167  Loss: 11.566731\n",
      "Ep:  110  Rew:   72.00  Avg Rew:   27.38  LR:0.00098912  Bf: 0  EPS:0.4098  Loss: 13.652094\n",
      "Ep:  120  Rew:   95.00  Avg Rew:   32.51  LR:0.00098814  Bf: 0  EPS:0.4032  Loss: 15.941770\n",
      "Ep:  130  Rew:  149.00  Avg Rew:   41.88  LR:0.00098717  Bf: 0  EPS:0.3968  Loss: 14.046331\n",
      "Ep:  140  Rew:  200.00  Avg Rew:   60.51  LR:0.00098619  Bf: 0  EPS:0.3906  Loss: 10.197203\n",
      "Ep:  150  Rew:  263.00  Avg Rew:   83.31  LR:0.00098522  Bf: 0  EPS:0.3846  Loss: 8.469748\n",
      "Ep:  160  Rew:  315.00  Avg Rew:  108.34  LR:0.00098425  Bf: 0  EPS:0.3788  Loss: 9.295279\n",
      "Ep:  170  Rew:  267.00  Avg Rew:  129.74  LR:0.00098328  Bf: 0  EPS:0.3731  Loss: 10.232727\n",
      "Ep:  180  Rew:  169.00  Avg Rew:  149.54  LR:0.00098232  Bf: 0  EPS:0.3676  Loss: 11.490361\n",
      "Ep:  190  Rew:  175.00  Avg Rew:  163.84  LR:0.00098135  Bf: 0  EPS:0.3623  Loss: 11.184267\n",
      "Ep:  200  Rew:  361.00  Avg Rew:  185.65  LR:0.00098039  Bf: 0  EPS:0.3571  Loss: 10.621036\n",
      "Ep:  210  Rew:  199.00  Avg Rew:  204.41  LR:0.00097943  Bf: 0  EPS:0.3521  Loss: 9.847326\n",
      "Ep:  220  Rew:  226.00  Avg Rew:  222.37  LR:0.00097847  Bf: 1  EPS:0.3472  Loss: 12.554340\n",
      "Ep:  230  Rew:  299.00  Avg Rew:  239.23  LR:0.00097752  Bf: 1  EPS:0.3425  Loss: 10.038621\n",
      "Ep:  240  Rew:  223.00  Avg Rew:  246.47  LR:0.00097656  Bf: 1  EPS:0.3378  Loss: 9.527273\n",
      "Ep:  250  Rew:  259.00  Avg Rew:  248.55  LR:0.00097561  Bf: 1  EPS:0.3333  Loss: 11.146513\n",
      "Ep:  260  Rew:  238.00  Avg Rew:  250.58  LR:0.00097466  Bf: 1  EPS:0.3289  Loss: 10.701420\n",
      "Ep:  270  Rew:  265.00  Avg Rew:  253.14  LR:0.00097371  Bf: 1  EPS:0.3247  Loss: 8.934417\n",
      "Ep:  280  Rew:  290.00  Avg Rew:  257.57  LR:0.00097276  Bf: 1  EPS:0.3205  Loss: 10.633678\n",
      "Ep:  290  Rew:  456.00  Avg Rew:  270.57  LR:0.00097182  Bf: 1  EPS:0.3165  Loss: 8.769228\n",
      "Ep:  300  Rew:   85.00  Avg Rew:  273.02  LR:0.00097087  Bf: 1  EPS:0.3125  Loss: 10.736412\n",
      "Ep:  310  Rew:  320.00  Avg Rew:  278.96  LR:0.00096993  Bf: 1  EPS:0.3086  Loss: 9.369978\n",
      "Ep:  320  Rew:  330.00  Avg Rew:  288.21  LR:0.00096899  Bf: 1  EPS:0.3049  Loss: 8.363351\n",
      "Ep:  330  Rew:  296.00  Avg Rew:  288.85  LR:0.00096805  Bf: 1  EPS:0.3012  Loss: 8.944464\n",
      "Ep:  340  Rew:  271.00  Avg Rew:  297.72  LR:0.00096712  Bf: 1  EPS:0.2976  Loss: 8.866354\n",
      "Ep:  350  Rew:  383.00  Avg Rew:  308.22  LR:0.00096618  Bf: 1  EPS:0.2941  Loss: 7.794546\n",
      "Ep:  360  Rew:  218.00  Avg Rew:  311.16  LR:0.00096525  Bf: 1  EPS:0.2907  Loss: 10.192625\n",
      "Ep:  370  Rew:  419.00  Avg Rew:  320.68  LR:0.00096432  Bf: 1  EPS:0.2874  Loss: 8.671549\n",
      "Ep:  380  Rew:  435.00  Avg Rew:  330.50  LR:0.00096339  Bf: 1  EPS:0.2841  Loss: 7.846222\n",
      "Ep:  390  Rew:  500.00  Avg Rew:  324.46  LR:0.00096246  Bf: 2  EPS:0.2809  Loss: 8.240837\n",
      "Ep:  400  Rew:  500.00  Avg Rew:  333.76  LR:0.00096154  Bf: 2  EPS:0.2778  Loss: 10.442636\n",
      "Ep:  410  Rew:  211.00  Avg Rew:  336.37  LR:0.00096061  Bf: 2  EPS:0.2747  Loss: 10.245972\n",
      "Ep:  420  Rew:  318.00  Avg Rew:  329.50  LR:0.00095969  Bf: 2  EPS:0.2717  Loss: 8.028596\n",
      "Ep:  430  Rew:  393.00  Avg Rew:  333.92  LR:0.00095877  Bf: 2  EPS:0.2688  Loss: 8.168211\n",
      "Ep:  440  Rew:  448.00  Avg Rew:  329.40  LR:0.00095785  Bf: 2  EPS:0.2660  Loss: 6.856205\n",
      "Ep:  450  Rew:   36.00  Avg Rew:  322.15  LR:0.00095694  Bf: 2  EPS:0.2632  Loss: 6.707781\n",
      "Ep:  460  Rew:  309.00  Avg Rew:  317.69  LR:0.00095602  Bf: 2  EPS:0.2604  Loss: 6.948666\n",
      "Ep:  470  Rew:  311.00  Avg Rew:  321.35  LR:0.00095511  Bf: 2  EPS:0.2577  Loss: 7.884628\n",
      "Ep:  480  Rew:  240.00  Avg Rew:  312.84  LR:0.00095420  Bf: 2  EPS:0.2551  Loss: 7.536190\n",
      "Ep:  490  Rew:   86.00  Avg Rew:  316.80  LR:0.00095329  Bf: 2  EPS:0.2525  Loss: 7.544706\n",
      "Ep:  500  Rew:  332.00  Avg Rew:  312.25  LR:0.00095238  Bf: 2  EPS:0.2500  Loss: 4.796402\n",
      "Ep:  510  Rew:  190.00  Avg Rew:  305.14  LR:0.00095147  Bf: 2  EPS:0.2475  Loss: 5.675609\n",
      "Ep:  520  Rew:  411.00  Avg Rew:  313.09  LR:0.00095057  Bf: 2  EPS:0.2451  Loss: 7.232735\n",
      "Ep:  530  Rew:  298.00  Avg Rew:  308.76  LR:0.00094967  Bf: 2  EPS:0.2427  Loss: 6.894225\n",
      "Ep:  540  Rew:  279.00  Avg Rew:  310.73  LR:0.00094877  Bf: 2  EPS:0.2404  Loss: 7.280258\n",
      "Ep:  550  Rew:  293.00  Avg Rew:  311.79  LR:0.00094787  Bf: 3  EPS:0.2381  Loss: 6.195480\n",
      "Ep:  560  Rew:  367.00  Avg Rew:  314.96  LR:0.00094697  Bf: 3  EPS:0.2358  Loss: 5.165769\n",
      "Ep:  570  Rew:  500.00  Avg Rew:  308.74  LR:0.00094607  Bf: 3  EPS:0.2336  Loss: 4.712835\n",
      "Ep:  580  Rew:  500.00  Avg Rew:  328.75  LR:0.00094518  Bf: 3  EPS:0.2315  Loss: 5.281992\n",
      "Ep:  590  Rew:  500.00  Avg Rew:  343.08  LR:0.00094429  Bf: 3  EPS:0.2294  Loss: 5.697310\n",
      "Ep:  600  Rew:  500.00  Avg Rew:  359.86  LR:0.00094340  Bf: 3  EPS:0.2273  Loss: 5.263924\n",
      "Ep:  610  Rew:  500.00  Avg Rew:  384.22  LR:0.00094251  Bf: 3  EPS:0.2252  Loss: 9.465625\n",
      "Ep:  620  Rew:  500.00  Avg Rew:  399.46  LR:0.00094162  Bf: 3  EPS:0.2232  Loss: 7.779395\n",
      "Ep:  630  Rew:  500.00  Avg Rew:  421.17  LR:0.00094073  Bf: 3  EPS:0.2212  Loss: 8.558525\n",
      "Ep:  640  Rew:  500.00  Avg Rew:  437.78  LR:0.00093985  Bf: 3  EPS:0.2193  Loss: 8.434604\n",
      "Ep:  650  Rew:  500.00  Avg Rew:  456.86  LR:0.00093897  Bf: 3  EPS:0.2174  Loss: 12.280870\n",
      "Ep:  659  Rew:  500.00  Avg Rew:  475.56  LR:0.00093817  Bf: 4  EPS:0.2157  Loss: 11.541259\n",
      "########## Solved! ###########\n",
      "Training time: 726.84 sec\n"
     ]
    }
   ],
   "source": [
    "agent = DDQN_Trainer(env_name, fc_config, random_seed=random_seed, lr_base=lr_base, lr_decay=lr_decay, \n",
    "                   epsilon_base=epsilon_base, epsilon_decay=epsilon_decay, gamma=gamma, batch_size=batch_size,\n",
    "                   max_episodes=max_episodes, max_timesteps=max_timesteps, \n",
    "                   max_buffer_length=max_buffer_length, log_interval=log_interval)\n",
    "agent.train()"
   ]
  },
  {
   "cell_type": "code",
   "execution_count": 5,
   "metadata": {
    "scrolled": false
   },
   "outputs": [
    {
     "name": "stdout",
     "output_type": "stream",
     "text": [
      "Test episode: 1\tReward: 500.00\n",
      "Test episode: 2\tReward: 500.00\n",
      "Test episode: 3\tReward: 500.00\n"
     ]
    }
   ],
   "source": [
    "agent.test()"
   ]
  },
  {
   "cell_type": "code",
   "execution_count": null,
   "metadata": {},
   "outputs": [],
   "source": []
  },
  {
   "cell_type": "code",
   "execution_count": null,
   "metadata": {},
   "outputs": [],
   "source": []
  },
  {
   "cell_type": "code",
   "execution_count": null,
   "metadata": {},
   "outputs": [],
   "source": []
  },
  {
   "cell_type": "code",
   "execution_count": null,
   "metadata": {},
   "outputs": [],
   "source": []
  },
  {
   "cell_type": "code",
   "execution_count": null,
   "metadata": {},
   "outputs": [],
   "source": []
  },
  {
   "cell_type": "code",
   "execution_count": null,
   "metadata": {},
   "outputs": [],
   "source": []
  },
  {
   "cell_type": "code",
   "execution_count": null,
   "metadata": {},
   "outputs": [],
   "source": []
  }
 ],
 "metadata": {
  "kernelspec": {
   "display_name": "Python 3",
   "language": "python",
   "name": "python3"
  },
  "language_info": {
   "codemirror_mode": {
    "name": "ipython",
    "version": 3
   },
   "file_extension": ".py",
   "mimetype": "text/x-python",
   "name": "python",
   "nbconvert_exporter": "python",
   "pygments_lexer": "ipython3",
   "version": "3.6.8"
  }
 },
 "nbformat": 4,
 "nbformat_minor": 2
}
