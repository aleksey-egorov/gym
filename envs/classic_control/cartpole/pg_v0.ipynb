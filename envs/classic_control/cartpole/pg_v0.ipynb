{
 "cells": [
  {
   "cell_type": "code",
   "execution_count": 1,
   "metadata": {},
   "outputs": [],
   "source": [
    "import os\n",
    "import sys\n",
    "folder = os.path.dirname('../../../algorithms/')\n",
    "sys.path.append(folder)\n",
    "\n",
    "from PG.trainer import PG_Trainer"
   ]
  },
  {
   "cell_type": "code",
   "execution_count": 2,
   "metadata": {},
   "outputs": [],
   "source": [
    "env_name = 'CartPole-v0'\n",
    "lr_base = 0.001\n",
    "lr_decay = 0.0001\n",
    "\n",
    "random_seed = 42\n",
    "gamma = 0.99                # discount for future rewards\n",
    "batch_size = 32         # num of transitions sampled from replay buffer\n",
    "\n",
    "max_episodes = 100000         # max num of episodes\n",
    "max_timesteps = 3000        # max timesteps in one episode\n",
    "log_interval = 50           # print avg reward after interval\n",
    "\n",
    "entropy_beta = 0.01\n",
    "bellman_steps = 10\n",
    "baseline_steps = 50000\n"
   ]
  },
  {
   "cell_type": "code",
   "execution_count": 3,
   "metadata": {},
   "outputs": [],
   "source": [
    "config = [\n",
    "     {'dim': [None, 128], 'dropout': False, 'activation': 'relu'},    \n",
    "     {'dim': [128, None], 'dropout': False, 'activation': False},    \n",
    "] "
   ]
  },
  {
   "cell_type": "code",
   "execution_count": 4,
   "metadata": {
    "scrolled": false
   },
   "outputs": [
    {
     "name": "stdout",
     "output_type": "stream",
     "text": [
      "NETWORK: Sequential(\n",
      "  (0): Linear(in_features=4, out_features=128, bias=True)\n",
      "  (1): ReLU()\n",
      "  (2): Linear(in_features=128, out_features=2, bias=True)\n",
      ") Device: cuda:0\n",
      "Random Seed: 42\n",
      "action_space=Discrete(2)\n",
      "obs_space=Box(4,)\n",
      "threshold=195.0 \n",
      "\n",
      "DIR=./preTrained/pg NAME=pg_CartPole-v0_42\n",
      "No models to load\n",
      "\n",
      "Training started ... \n",
      "Ep:   50  Rew:   32.00  Avg Rew:   29.32  LR:0.00099512  Loss: 0.024668\n",
      "Ep:  100  Rew:   16.00  Avg Rew:   35.45  LR:0.00099020  Loss: 0.131598\n",
      "Ep:  150  Rew:   42.00  Avg Rew:   46.32  LR:0.00098532  Loss: 0.119714\n",
      "Ep:  200  Rew:  106.00  Avg Rew:   77.91  LR:0.00098049  Loss: 0.260722\n",
      "Ep:  250  Rew:  200.00  Avg Rew:  133.91  LR:0.00097570  Loss: 0.173722\n",
      "Ep:  300  Rew:  200.00  Avg Rew:  155.66  LR:0.00097097  Loss: 0.097179\n",
      "Ep:  350  Rew:  200.00  Avg Rew:  165.20  LR:0.00096628  Loss: 0.091477\n",
      "Ep:  400  Rew:  200.00  Avg Rew:  187.95  LR:0.00096163  Loss: 0.083099\n",
      "Ep:  449  Rew:  200.00  Avg Rew:  195.24  LR:0.00095703  Loss: 0.040412\n",
      "########## Solved! ###########\n",
      "Training time:  24.20 sec\n"
     ]
    }
   ],
   "source": [
    "agent = PG_Trainer(env_name, config, random_seed=random_seed, lr_base=lr_base, lr_decay=lr_decay, \n",
    "                   gamma=gamma, batch_size=batch_size,\n",
    "                   max_episodes=max_episodes, max_timesteps=max_timesteps, \n",
    "                   log_interval=log_interval, entropy_beta=entropy_beta, \n",
    "                   bellman_steps=bellman_steps, baseline_steps=baseline_steps\n",
    "                   )\n",
    "agent.train()"
   ]
  },
  {
   "cell_type": "code",
   "execution_count": 5,
   "metadata": {
    "scrolled": false
   },
   "outputs": [
    {
     "name": "stdout",
     "output_type": "stream",
     "text": [
      "Test episode: 1\tReward: 200.00\n",
      "Test episode: 2\tReward: 200.00\n",
      "Test episode: 3\tReward: 200.00\n"
     ]
    }
   ],
   "source": [
    "agent.test()"
   ]
  },
  {
   "cell_type": "code",
   "execution_count": null,
   "metadata": {},
   "outputs": [],
   "source": []
  },
  {
   "cell_type": "code",
   "execution_count": null,
   "metadata": {},
   "outputs": [],
   "source": []
  },
  {
   "cell_type": "code",
   "execution_count": null,
   "metadata": {},
   "outputs": [],
   "source": [
    "                   \n",
    "            "
   ]
  },
  {
   "cell_type": "code",
   "execution_count": null,
   "metadata": {},
   "outputs": [],
   "source": []
  },
  {
   "cell_type": "code",
   "execution_count": null,
   "metadata": {},
   "outputs": [],
   "source": []
  },
  {
   "cell_type": "code",
   "execution_count": null,
   "metadata": {},
   "outputs": [],
   "source": []
  },
  {
   "cell_type": "code",
   "execution_count": null,
   "metadata": {},
   "outputs": [],
   "source": []
  },
  {
   "cell_type": "code",
   "execution_count": null,
   "metadata": {},
   "outputs": [],
   "source": []
  }
 ],
 "metadata": {
  "kernelspec": {
   "display_name": "Python 3",
   "language": "python",
   "name": "python3"
  },
  "language_info": {
   "codemirror_mode": {
    "name": "ipython",
    "version": 3
   },
   "file_extension": ".py",
   "mimetype": "text/x-python",
   "name": "python",
   "nbconvert_exporter": "python",
   "pygments_lexer": "ipython3",
   "version": "3.6.8"
  }
 },
 "nbformat": 4,
 "nbformat_minor": 2
}
