{
 "cells": [
  {
   "cell_type": "code",
   "execution_count": 1,
   "metadata": {},
   "outputs": [],
   "source": [
    "import os\n",
    "import sys\n",
    "folder = os.path.dirname('../../../algorithms/')\n",
    "sys.path.append(folder)\n",
    "\n",
    "from DQN.trainer import DQN_Trainer"
   ]
  },
  {
   "cell_type": "code",
   "execution_count": 2,
   "metadata": {},
   "outputs": [],
   "source": [
    "env_name = 'Acrobot-v1'\n",
    "lr_base = 0.001\n",
    "lr_decay = 0.0001\n",
    "epsilon_base = 0.5 \n",
    "epsilon_decay = 0.002\n",
    "\n",
    "random_seed = 42\n",
    "gamma = 0.99                # discount for future rewards\n",
    "batch_size = 256         # num of transitions sampled from replay buffer\n",
    "polyak = 0.999               # target policy update parameter (1-tau)\n",
    "max_episodes = 100000         # max num of episodes\n",
    "max_timesteps = 3000        # max timesteps in one episode\n",
    "max_buffer_length = 5000000\n",
    "log_interval = 10           # print avg reward after interval\n",
    "threshold = -100"
   ]
  },
  {
   "cell_type": "code",
   "execution_count": 3,
   "metadata": {},
   "outputs": [],
   "source": [
    "fc_config = [\n",
    "        {'dim': [None, 64], 'dropout': False, 'activation': 'relu'},      \n",
    "        {'dim': [64, None], 'dropout': False, 'activation': False}\n",
    "    ] "
   ]
  },
  {
   "cell_type": "code",
   "execution_count": 4,
   "metadata": {
    "scrolled": false
   },
   "outputs": [
    {
     "name": "stdout",
     "output_type": "stream",
     "text": [
      "NETWORK=Sequential(\n",
      "  (0): Linear(in_features=6, out_features=64, bias=True)\n",
      "  (1): ReLU()\n",
      "  (2): Linear(in_features=64, out_features=3, bias=True)\n",
      ")\n",
      "Device: cuda:0\n",
      "NETWORK=Sequential(\n",
      "  (0): Linear(in_features=6, out_features=64, bias=True)\n",
      "  (1): ReLU()\n",
      "  (2): Linear(in_features=64, out_features=3, bias=True)\n",
      ")\n",
      "Device: cuda:0\n",
      "Random Seed: 42\n",
      "action_space=Discrete(3)\n",
      "obs_space=Box(6,)\n",
      "threshold=-100 \n",
      "\n",
      "DIR=./preTrained/dqn NAME=dqn_Acrobot-v1_42\n",
      "Models loaded\n",
      "Training started ... \n",
      "Ep:    0  Rew: -154.00  Avg Rew: -154.00  LR:0.00100000  Bf: 0  EPS:0.5000  Loss: 0.334\n",
      "Ep:   10  Rew: -144.00  Avg Rew: -160.09  LR:0.00099900  Bf: 0  EPS:0.4902  Loss: 1.580\n",
      "Ep:   20  Rew: -168.00  Avg Rew: -158.38  LR:0.00099800  Bf: 0  EPS:0.4808  Loss: 1.716\n",
      "Ep:   30  Rew: -151.00  Avg Rew: -163.10  LR:0.00099701  Bf: 0  EPS:0.4717  Loss: 1.802\n",
      "Ep:   40  Rew: -101.00  Avg Rew: -154.51  LR:0.00099602  Bf: 0  EPS:0.4630  Loss: 1.787\n",
      "Ep:   50  Rew: -123.00  Avg Rew: -155.75  LR:0.00099502  Bf: 0  EPS:0.4545  Loss: 1.677\n",
      "Ep:   60  Rew: -155.00  Avg Rew: -156.85  LR:0.00099404  Bf: 0  EPS:0.4464  Loss: 1.772\n",
      "Ep:   70  Rew: -236.00  Avg Rew: -161.42  LR:0.00099305  Bf: 0  EPS:0.4386  Loss: 1.764\n",
      "Ep:   80  Rew: -133.00  Avg Rew: -158.85  LR:0.00099206  Bf: 0  EPS:0.4310  Loss: 1.754\n",
      "Ep:   90  Rew: -189.00  Avg Rew: -158.30  LR:0.00099108  Bf: 0  EPS:0.4237  Loss: 1.910\n",
      "Ep:  100  Rew: -147.00  Avg Rew: -155.25  LR:0.00099010  Bf: 0  EPS:0.4167  Loss: 1.801\n",
      "Ep:  110  Rew:  -81.00  Avg Rew: -152.26  LR:0.00098912  Bf: 0  EPS:0.4098  Loss: 1.839\n",
      "Ep:  120  Rew: -144.00  Avg Rew: -149.80  LR:0.00098814  Bf: 0  EPS:0.4032  Loss: 1.909\n",
      "Ep:  130  Rew: -148.00  Avg Rew: -144.85  LR:0.00098717  Bf: 0  EPS:0.3968  Loss: 1.851\n",
      "Ep:  140  Rew: -121.00  Avg Rew: -144.64  LR:0.00098619  Bf: 0  EPS:0.3906  Loss: 1.921\n",
      "Ep:  150  Rew:  -90.00  Avg Rew: -140.90  LR:0.00098522  Bf: 0  EPS:0.3846  Loss: 1.970\n",
      "Ep:  160  Rew: -124.00  Avg Rew: -136.43  LR:0.00098425  Bf: 0  EPS:0.3788  Loss: 1.850\n",
      "Ep:  170  Rew:  -97.00  Avg Rew: -128.88  LR:0.00098328  Bf: 0  EPS:0.3731  Loss: 1.881\n",
      "Ep:  180  Rew: -124.00  Avg Rew: -127.77  LR:0.00098232  Bf: 1  EPS:0.3676  Loss: 1.787\n",
      "Ep:  190  Rew: -141.00  Avg Rew: -124.61  LR:0.00098135  Bf: 1  EPS:0.3623  Loss: 1.843\n",
      "Ep:  200  Rew: -134.00  Avg Rew: -125.67  LR:0.00098039  Bf: 1  EPS:0.3571  Loss: 1.807\n",
      "Ep:  210  Rew: -119.00  Avg Rew: -124.55  LR:0.00097943  Bf: 1  EPS:0.3521  Loss: 1.867\n",
      "Ep:  220  Rew: -101.00  Avg Rew: -123.25  LR:0.00097847  Bf: 1  EPS:0.3472  Loss: 1.849\n",
      "Ep:  230  Rew: -126.00  Avg Rew: -122.41  LR:0.00097752  Bf: 1  EPS:0.3425  Loss: 1.729\n",
      "Ep:  240  Rew: -104.00  Avg Rew: -122.03  LR:0.00097656  Bf: 1  EPS:0.3378  Loss: 1.798\n",
      "Ep:  250  Rew: -111.00  Avg Rew: -120.80  LR:0.00097561  Bf: 1  EPS:0.3333  Loss: 1.765\n",
      "Ep:  260  Rew:  -99.00  Avg Rew: -122.25  LR:0.00097466  Bf: 1  EPS:0.3289  Loss: 1.782\n",
      "Ep:  270  Rew: -144.00  Avg Rew: -123.59  LR:0.00097371  Bf: 1  EPS:0.3247  Loss: 1.696\n",
      "Ep:  280  Rew: -142.00  Avg Rew: -123.77  LR:0.00097276  Bf: 1  EPS:0.3205  Loss: 1.744\n",
      "Ep:  290  Rew:  -95.00  Avg Rew: -122.44  LR:0.00097182  Bf: 1  EPS:0.3165  Loss: 1.765\n",
      "Ep:  300  Rew:  -91.00  Avg Rew: -119.40  LR:0.00097087  Bf: 1  EPS:0.3125  Loss: 1.800\n",
      "Ep:  310  Rew: -117.00  Avg Rew: -120.22  LR:0.00096993  Bf: 1  EPS:0.3086  Loss: 1.712\n",
      "Ep:  320  Rew:  -95.00  Avg Rew: -119.04  LR:0.00096899  Bf: 1  EPS:0.3049  Loss: 1.632\n",
      "Ep:  330  Rew: -128.00  Avg Rew: -118.88  LR:0.00096805  Bf: 1  EPS:0.3012  Loss: 1.729\n",
      "Ep:  340  Rew: -188.00  Avg Rew: -118.98  LR:0.00096712  Bf: 1  EPS:0.2976  Loss: 1.732\n",
      "Ep:  350  Rew: -112.00  Avg Rew: -118.31  LR:0.00096618  Bf: 1  EPS:0.2941  Loss: 1.711\n",
      "Ep:  360  Rew: -105.00  Avg Rew: -116.43  LR:0.00096525  Bf: 1  EPS:0.2907  Loss: 1.809\n",
      "Ep:  370  Rew: -123.00  Avg Rew: -115.68  LR:0.00096432  Bf: 1  EPS:0.2874  Loss: 1.717\n",
      "Ep:  380  Rew: -149.00  Avg Rew: -115.12  LR:0.00096339  Bf: 1  EPS:0.2841  Loss: 1.731\n",
      "Ep:  390  Rew: -122.00  Avg Rew: -114.31  LR:0.00096246  Bf: 1  EPS:0.2809  Loss: 1.766\n",
      "Ep:  400  Rew: -117.00  Avg Rew: -117.52  LR:0.00096154  Bf: 1  EPS:0.2778  Loss: 1.847\n",
      "Ep:  410  Rew: -126.00  Avg Rew: -115.26  LR:0.00096061  Bf: 1  EPS:0.2747  Loss: 1.852\n",
      "Ep:  420  Rew:  -78.00  Avg Rew: -114.96  LR:0.00095969  Bf: 1  EPS:0.2717  Loss: 1.793\n",
      "Ep:  430  Rew: -128.00  Avg Rew: -116.01  LR:0.00095877  Bf: 1  EPS:0.2688  Loss: 1.828\n",
      "Ep:  440  Rew: -148.00  Avg Rew: -114.69  LR:0.00095785  Bf: 1  EPS:0.2660  Loss: 1.833\n",
      "Ep:  450  Rew:  -91.00  Avg Rew: -114.02  LR:0.00095694  Bf: 1  EPS:0.2632  Loss: 1.767\n",
      "Ep:  460  Rew: -125.00  Avg Rew: -113.52  LR:0.00095602  Bf: 1  EPS:0.2604  Loss: 1.836\n",
      "Ep:  470  Rew:  -75.00  Avg Rew: -114.35  LR:0.00095511  Bf: 1  EPS:0.2577  Loss: 1.863\n",
      "Ep:  480  Rew:  -98.00  Avg Rew: -111.32  LR:0.00095420  Bf: 1  EPS:0.2551  Loss: 1.768\n",
      "Ep:  490  Rew: -176.00  Avg Rew: -113.66  LR:0.00095329  Bf: 1  EPS:0.2525  Loss: 1.829\n",
      "Ep:  500  Rew:  -90.00  Avg Rew: -109.28  LR:0.00095238  Bf: 1  EPS:0.2500  Loss: 1.864\n",
      "Ep:  510  Rew:  -76.00  Avg Rew: -108.99  LR:0.00095147  Bf: 1  EPS:0.2475  Loss: 1.858\n",
      "Ep:  520  Rew:  -86.00  Avg Rew: -110.61  LR:0.00095057  Bf: 1  EPS:0.2451  Loss: 1.946\n",
      "Ep:  530  Rew:  -98.00  Avg Rew: -109.95  LR:0.00094967  Bf: 1  EPS:0.2427  Loss: 1.885\n",
      "Ep:  540  Rew: -126.00  Avg Rew: -110.23  LR:0.00094877  Bf: 1  EPS:0.2404  Loss: 1.932\n",
      "Ep:  550  Rew:  -96.00  Avg Rew: -112.24  LR:0.00094787  Bf: 1  EPS:0.2381  Loss: 1.855\n",
      "Ep:  560  Rew: -121.00  Avg Rew: -112.58  LR:0.00094697  Bf: 1  EPS:0.2358  Loss: 1.871\n",
      "Ep:  570  Rew: -145.00  Avg Rew: -111.00  LR:0.00094607  Bf: 1  EPS:0.2336  Loss: 1.840\n",
      "Ep:  580  Rew:  -87.00  Avg Rew: -112.18  LR:0.00094518  Bf: 1  EPS:0.2315  Loss: 1.959\n",
      "Ep:  590  Rew:  -88.00  Avg Rew: -110.34  LR:0.00094429  Bf: 1  EPS:0.2294  Loss: 1.963\n",
      "Ep:  600  Rew: -107.00  Avg Rew: -110.98  LR:0.00094340  Bf: 1  EPS:0.2273  Loss: 2.019\n",
      "Ep:  610  Rew: -136.00  Avg Rew: -112.12  LR:0.00094251  Bf: 2  EPS:0.2252  Loss: 1.978\n",
      "Ep:  620  Rew: -118.00  Avg Rew: -110.97  LR:0.00094162  Bf: 2  EPS:0.2232  Loss: 1.999\n",
      "Ep:  630  Rew: -120.00  Avg Rew: -109.56  LR:0.00094073  Bf: 2  EPS:0.2212  Loss: 1.980\n",
      "Ep:  640  Rew: -108.00  Avg Rew: -108.96  LR:0.00093985  Bf: 2  EPS:0.2193  Loss: 1.932\n",
      "Ep:  650  Rew:  -98.00  Avg Rew: -107.04  LR:0.00093897  Bf: 2  EPS:0.2174  Loss: 1.851\n",
      "Ep:  660  Rew: -109.00  Avg Rew: -106.64  LR:0.00093809  Bf: 2  EPS:0.2155  Loss: 1.876\n",
      "Ep:  670  Rew: -120.00  Avg Rew: -105.79  LR:0.00093721  Bf: 2  EPS:0.2137  Loss: 1.857\n",
      "Ep:  680  Rew:  -86.00  Avg Rew: -105.26  LR:0.00093633  Bf: 2  EPS:0.2119  Loss: 1.887\n",
      "Ep:  690  Rew: -114.00  Avg Rew: -106.90  LR:0.00093545  Bf: 2  EPS:0.2101  Loss: 1.875\n",
      "Ep:  700  Rew: -131.00  Avg Rew: -107.00  LR:0.00093458  Bf: 2  EPS:0.2083  Loss: 1.856\n",
      "Ep:  710  Rew: -103.00  Avg Rew: -105.66  LR:0.00093371  Bf: 2  EPS:0.2066  Loss: 1.931\n",
      "Ep:  720  Rew:  -95.00  Avg Rew: -104.38  LR:0.00093284  Bf: 2  EPS:0.2049  Loss: 1.945\n",
      "Ep:  730  Rew: -122.00  Avg Rew: -103.91  LR:0.00093197  Bf: 2  EPS:0.2033  Loss: 1.816\n",
      "Ep:  740  Rew:  -97.00  Avg Rew: -103.67  LR:0.00093110  Bf: 2  EPS:0.2016  Loss: 1.850\n",
      "Ep:  750  Rew: -115.00  Avg Rew: -103.67  LR:0.00093023  Bf: 2  EPS:0.2000  Loss: 1.962\n",
      "Ep:  760  Rew: -100.00  Avg Rew: -102.77  LR:0.00092937  Bf: 2  EPS:0.1984  Loss: 1.938\n",
      "Ep:  770  Rew:  -76.00  Avg Rew: -102.21  LR:0.00092851  Bf: 2  EPS:0.1969  Loss: 1.824\n",
      "Ep:  780  Rew: -107.00  Avg Rew: -102.67  LR:0.00092764  Bf: 2  EPS:0.1953  Loss: 2.023\n",
      "Ep:  790  Rew: -111.00  Avg Rew: -100.72  LR:0.00092678  Bf: 2  EPS:0.1938  Loss: 1.851\n",
      "Ep:  800  Rew:  -95.00  Avg Rew: -100.08  LR:0.00092593  Bf: 2  EPS:0.1923  Loss: 1.947\n",
      "Ep:  810  Rew: -107.00  Avg Rew: -100.89  LR:0.00092507  Bf: 2  EPS:0.1908  Loss: 1.881\n",
      "Ep:  820  Rew: -101.00  Avg Rew: -101.16  LR:0.00092421  Bf: 2  EPS:0.1894  Loss: 1.788\n",
      "Ep:  830  Rew: -105.00  Avg Rew: -101.00  LR:0.00092336  Bf: 2  EPS:0.1880  Loss: 1.825\n",
      "Ep:  838  Rew:  -82.00  Avg Rew:  -99.89  LR:0.00092268  Bf: 2  EPS:0.1868  Loss: 1.856\n",
      "########## Solved! ###########\n",
      "Training time: 392.84 sec\n"
     ]
    }
   ],
   "source": [
    "agent = DQN_Trainer(env_name, fc_config, random_seed=random_seed, lr_base=lr_base, lr_decay=lr_decay, \n",
    "                   epsilon_base=epsilon_base, epsilon_decay=epsilon_decay, gamma=gamma, batch_size=batch_size,\n",
    "                   max_episodes=max_episodes, max_timesteps=max_timesteps, \n",
    "                   max_buffer_length=max_buffer_length, log_interval=log_interval, threshold=threshold)\n",
    "agent.train()"
   ]
  },
  {
   "cell_type": "code",
   "execution_count": 5,
   "metadata": {
    "scrolled": false
   },
   "outputs": [
    {
     "name": "stdout",
     "output_type": "stream",
     "text": [
      "Test episode: 1\tReward: -84.00\n",
      "Test episode: 2\tReward: -104.00\n",
      "Test episode: 3\tReward: -86.00\n"
     ]
    }
   ],
   "source": [
    "agent.test()"
   ]
  },
  {
   "cell_type": "code",
   "execution_count": null,
   "metadata": {},
   "outputs": [],
   "source": []
  },
  {
   "cell_type": "code",
   "execution_count": null,
   "metadata": {},
   "outputs": [],
   "source": []
  },
  {
   "cell_type": "code",
   "execution_count": null,
   "metadata": {},
   "outputs": [],
   "source": []
  },
  {
   "cell_type": "code",
   "execution_count": null,
   "metadata": {},
   "outputs": [],
   "source": []
  },
  {
   "cell_type": "code",
   "execution_count": null,
   "metadata": {},
   "outputs": [],
   "source": []
  },
  {
   "cell_type": "code",
   "execution_count": null,
   "metadata": {},
   "outputs": [],
   "source": []
  },
  {
   "cell_type": "code",
   "execution_count": null,
   "metadata": {},
   "outputs": [],
   "source": []
  }
 ],
 "metadata": {
  "kernelspec": {
   "display_name": "Python 3",
   "language": "python",
   "name": "python3"
  },
  "language_info": {
   "codemirror_mode": {
    "name": "ipython",
    "version": 3
   },
   "file_extension": ".py",
   "mimetype": "text/x-python",
   "name": "python",
   "nbconvert_exporter": "python",
   "pygments_lexer": "ipython3",
   "version": "3.6.8"
  }
 },
 "nbformat": 4,
 "nbformat_minor": 2
}
