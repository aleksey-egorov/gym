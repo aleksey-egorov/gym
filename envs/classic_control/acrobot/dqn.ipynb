{
 "cells": [
  {
   "cell_type": "code",
   "execution_count": 1,
   "metadata": {},
   "outputs": [],
   "source": [
    "import os\n",
    "import sys\n",
    "folder = os.path.dirname('../../../algorithms/DQN/')\n",
    "sys.path.append(folder)\n",
    "\n",
    "from trainer import DQN_Trainer"
   ]
  },
  {
   "cell_type": "code",
   "execution_count": 2,
   "metadata": {},
   "outputs": [],
   "source": [
    "env_name = 'Acrobot-v1'\n",
    "lr_base = 0.001\n",
    "lr_decay = 0.0001\n",
    "epsilon_base = 0.5 \n",
    "epsilon_decay = 0.002\n",
    "\n",
    "random_seed = 42\n",
    "gamma = 0.99                # discount for future rewards\n",
    "batch_size = 256         # num of transitions sampled from replay buffer\n",
    "polyak = 0.999               # target policy update parameter (1-tau)\n",
    "max_episodes = 100000         # max num of episodes\n",
    "max_timesteps = 3000        # max timesteps in one episode\n",
    "max_buffer_length = 5000000\n",
    "log_interval = 10           # print avg reward after interval\n",
    "threshold = -100"
   ]
  },
  {
   "cell_type": "code",
   "execution_count": 3,
   "metadata": {},
   "outputs": [],
   "source": [
    "fc_config = [\n",
    "        {'dim': [None, 64], 'dropout': False, 'activation': 'relu'},      \n",
    "        {'dim': [64, None], 'dropout': False, 'activation': False}\n",
    "    ] "
   ]
  },
  {
   "cell_type": "code",
   "execution_count": 5,
   "metadata": {
    "scrolled": false
   },
   "outputs": [
    {
     "name": "stdout",
     "output_type": "stream",
     "text": [
      "NETWORK=Sequential(\n",
      "  (0): Linear(in_features=6, out_features=64, bias=True)\n",
      "  (1): ReLU()\n",
      "  (2): Linear(in_features=64, out_features=3, bias=True)\n",
      ")\n",
      "Device: cuda:0\n",
      "NETWORK=Sequential(\n",
      "  (0): Linear(in_features=6, out_features=64, bias=True)\n",
      "  (1): ReLU()\n",
      "  (2): Linear(in_features=64, out_features=3, bias=True)\n",
      ")\n",
      "Device: cuda:0\n",
      "Random Seed: 42\n",
      "Action_space: Discrete(3)\n",
      "Obs_space: Box(6,)\n",
      "Threshold: -100 \n",
      "\n",
      "DIR=./preTrained/dqn NAME=dqn_Acrobot-v1_42\n",
      "No models to load\n",
      "\n",
      "Training started ... \n",
      "Ep:    0  Rew: -463.00  Avg Rew: -463.00  LR:0.00100000  Bf: 0  EPS:0.5000  Loss: 0.004\n",
      "Ep:   10  Rew: -500.00  Avg Rew: -484.36  LR:0.00099900  Bf: 0  EPS:0.4902  Loss: 0.113\n",
      "Ep:   20  Rew: -363.00  Avg Rew: -466.81  LR:0.00099800  Bf: 0  EPS:0.4808  Loss: 0.448\n",
      "Ep:   30  Rew: -224.00  Avg Rew: -420.42  LR:0.00099701  Bf: 0  EPS:0.4717  Loss: 0.960\n",
      "Ep:   40  Rew: -237.00  Avg Rew: -377.34  LR:0.00099602  Bf: 0  EPS:0.4630  Loss: 1.414\n",
      "Ep:   50  Rew: -113.00  Avg Rew: -338.98  LR:0.00099502  Bf: 0  EPS:0.4545  Loss: 2.116\n",
      "Ep:   60  Rew: -233.00  Avg Rew: -311.90  LR:0.00099404  Bf: 0  EPS:0.4464  Loss: 2.050\n",
      "Ep:   70  Rew: -190.00  Avg Rew: -291.10  LR:0.00099305  Bf: 0  EPS:0.4386  Loss: 2.662\n",
      "Ep:   80  Rew: -158.00  Avg Rew: -273.14  LR:0.00099206  Bf: 0  EPS:0.4310  Loss: 2.190\n",
      "Ep:   90  Rew: -134.00  Avg Rew: -259.71  LR:0.00099108  Bf: 0  EPS:0.4237  Loss: 2.515\n",
      "Ep:  100  Rew: -130.00  Avg Rew: -249.57  LR:0.00099010  Bf: 1  EPS:0.4167  Loss: 2.280\n",
      "Ep:  110  Rew: -142.00  Avg Rew: -217.39  LR:0.00098912  Bf: 1  EPS:0.4098  Loss: 2.465\n",
      "Ep:  120  Rew: -121.00  Avg Rew: -186.43  LR:0.00098814  Bf: 1  EPS:0.4032  Loss: 2.401\n",
      "Ep:  130  Rew: -155.00  Avg Rew: -167.92  LR:0.00098717  Bf: 1  EPS:0.3968  Loss: 2.195\n",
      "Ep:  140  Rew: -169.00  Avg Rew: -157.57  LR:0.00098619  Bf: 1  EPS:0.3906  Loss: 2.410\n",
      "Ep:  150  Rew: -102.00  Avg Rew: -151.30  LR:0.00098522  Bf: 1  EPS:0.3846  Loss: 2.407\n",
      "Ep:  160  Rew: -111.00  Avg Rew: -147.49  LR:0.00098425  Bf: 1  EPS:0.3788  Loss: 2.408\n",
      "Ep:  170  Rew: -107.00  Avg Rew: -143.73  LR:0.00098328  Bf: 1  EPS:0.3731  Loss: 2.721\n",
      "Ep:  180  Rew: -116.00  Avg Rew: -143.42  LR:0.00098232  Bf: 1  EPS:0.3676  Loss: 2.793\n",
      "Ep:  190  Rew: -468.00  Avg Rew: -145.29  LR:0.00098135  Bf: 1  EPS:0.3623  Loss: 2.405\n",
      "Ep:  200  Rew: -122.00  Avg Rew: -139.85  LR:0.00098039  Bf: 1  EPS:0.3571  Loss: 2.253\n",
      "Ep:  210  Rew: -101.00  Avg Rew: -135.69  LR:0.00097943  Bf: 1  EPS:0.3521  Loss: 2.372\n",
      "Ep:  220  Rew: -103.00  Avg Rew: -133.23  LR:0.00097847  Bf: 1  EPS:0.3472  Loss: 2.465\n",
      "Ep:  230  Rew:  -96.00  Avg Rew: -131.95  LR:0.00097752  Bf: 1  EPS:0.3425  Loss: 2.450\n",
      "Ep:  240  Rew: -149.00  Avg Rew: -131.47  LR:0.00097656  Bf: 1  EPS:0.3378  Loss: 2.018\n",
      "Ep:  250  Rew: -108.00  Avg Rew: -131.28  LR:0.00097561  Bf: 1  EPS:0.3333  Loss: 2.363\n",
      "Ep:  260  Rew: -110.00  Avg Rew: -131.01  LR:0.00097466  Bf: 1  EPS:0.3289  Loss: 2.267\n",
      "Ep:  270  Rew: -107.00  Avg Rew: -133.55  LR:0.00097371  Bf: 1  EPS:0.3247  Loss: 2.268\n",
      "Ep:  280  Rew: -112.00  Avg Rew: -132.73  LR:0.00097276  Bf: 1  EPS:0.3205  Loss: 2.572\n",
      "Ep:  290  Rew: -137.00  Avg Rew: -127.16  LR:0.00097182  Bf: 1  EPS:0.3165  Loss: 2.655\n",
      "Ep:  300  Rew: -126.00  Avg Rew: -127.33  LR:0.00097087  Bf: 1  EPS:0.3125  Loss: 2.453\n",
      "Ep:  310  Rew: -149.00  Avg Rew: -128.15  LR:0.00096993  Bf: 1  EPS:0.3086  Loss: 2.189\n",
      "Ep:  320  Rew: -118.00  Avg Rew: -128.91  LR:0.00096899  Bf: 1  EPS:0.3049  Loss: 2.254\n",
      "Ep:  330  Rew: -149.00  Avg Rew: -127.95  LR:0.00096805  Bf: 1  EPS:0.3012  Loss: 2.335\n",
      "Ep:  340  Rew: -122.00  Avg Rew: -125.30  LR:0.00096712  Bf: 1  EPS:0.2976  Loss: 2.665\n",
      "Ep:  350  Rew: -100.00  Avg Rew: -124.38  LR:0.00096618  Bf: 1  EPS:0.2941  Loss: 2.335\n",
      "Ep:  360  Rew: -111.00  Avg Rew: -124.27  LR:0.00096525  Bf: 1  EPS:0.2907  Loss: 2.483\n",
      "Ep:  370  Rew:  -94.00  Avg Rew: -125.46  LR:0.00096432  Bf: 1  EPS:0.2874  Loss: 2.315\n",
      "Ep:  380  Rew:  -88.00  Avg Rew: -123.29  LR:0.00096339  Bf: 1  EPS:0.2841  Loss: 2.387\n",
      "Ep:  390  Rew: -133.00  Avg Rew: -122.84  LR:0.00096246  Bf: 1  EPS:0.2809  Loss: 2.206\n",
      "Ep:  400  Rew: -108.00  Avg Rew: -121.15  LR:0.00096154  Bf: 1  EPS:0.2778  Loss: 2.374\n",
      "Ep:  410  Rew:  -81.00  Avg Rew: -118.65  LR:0.00096061  Bf: 1  EPS:0.2747  Loss: 2.395\n",
      "Ep:  420  Rew: -107.00  Avg Rew: -116.92  LR:0.00095969  Bf: 1  EPS:0.2717  Loss: 2.229\n",
      "Ep:  430  Rew: -109.00  Avg Rew: -116.00  LR:0.00095877  Bf: 1  EPS:0.2688  Loss: 2.382\n",
      "Ep:  440  Rew: -108.00  Avg Rew: -115.60  LR:0.00095785  Bf: 1  EPS:0.2660  Loss: 2.312\n",
      "Ep:  450  Rew: -114.00  Avg Rew: -115.01  LR:0.00095694  Bf: 1  EPS:0.2632  Loss: 2.468\n",
      "Ep:  460  Rew: -116.00  Avg Rew: -113.77  LR:0.00095602  Bf: 1  EPS:0.2604  Loss: 2.340\n",
      "Ep:  470  Rew: -124.00  Avg Rew: -108.12  LR:0.00095511  Bf: 1  EPS:0.2577  Loss: 2.224\n",
      "Ep:  480  Rew: -118.00  Avg Rew: -110.90  LR:0.00095420  Bf: 1  EPS:0.2551  Loss: 2.580\n",
      "Ep:  490  Rew:  -80.00  Avg Rew: -109.87  LR:0.00095329  Bf: 1  EPS:0.2525  Loss: 2.358\n",
      "Ep:  500  Rew:  -75.00  Avg Rew: -109.64  LR:0.00095238  Bf: 2  EPS:0.2500  Loss: 2.404\n",
      "Ep:  510  Rew: -132.00  Avg Rew: -110.28  LR:0.00095147  Bf: 2  EPS:0.2475  Loss: 2.683\n",
      "Ep:  520  Rew:  -97.00  Avg Rew: -112.32  LR:0.00095057  Bf: 2  EPS:0.2451  Loss: 2.550\n",
      "Ep:  530  Rew:  -84.00  Avg Rew: -115.13  LR:0.00094967  Bf: 2  EPS:0.2427  Loss: 2.321\n",
      "Ep:  540  Rew: -103.00  Avg Rew: -115.34  LR:0.00094877  Bf: 2  EPS:0.2404  Loss: 2.359\n",
      "Ep:  550  Rew:  -90.00  Avg Rew: -116.02  LR:0.00094787  Bf: 2  EPS:0.2381  Loss: 2.332\n",
      "Ep:  560  Rew:  -90.00  Avg Rew: -114.59  LR:0.00094697  Bf: 2  EPS:0.2358  Loss: 2.354\n",
      "Ep:  570  Rew: -102.00  Avg Rew: -114.31  LR:0.00094607  Bf: 2  EPS:0.2336  Loss: 2.483\n",
      "Ep:  580  Rew: -371.00  Avg Rew: -114.19  LR:0.00094518  Bf: 2  EPS:0.2315  Loss: 2.354\n",
      "Ep:  590  Rew:  -89.00  Avg Rew: -114.35  LR:0.00094429  Bf: 2  EPS:0.2294  Loss: 2.515\n",
      "Ep:  600  Rew:  -86.00  Avg Rew: -113.81  LR:0.00094340  Bf: 2  EPS:0.2273  Loss: 2.310\n",
      "Ep:  610  Rew:  -84.00  Avg Rew: -112.73  LR:0.00094251  Bf: 2  EPS:0.2252  Loss: 2.288\n",
      "Ep:  620  Rew: -128.00  Avg Rew: -110.52  LR:0.00094162  Bf: 2  EPS:0.2232  Loss: 2.448\n",
      "Ep:  630  Rew: -263.00  Avg Rew: -110.06  LR:0.00094073  Bf: 2  EPS:0.2212  Loss: 2.378\n",
      "Ep:  640  Rew:  -76.00  Avg Rew: -109.69  LR:0.00093985  Bf: 2  EPS:0.2193  Loss: 2.425\n",
      "Ep:  650  Rew:  -82.00  Avg Rew: -108.71  LR:0.00093897  Bf: 2  EPS:0.2174  Loss: 2.383\n",
      "Ep:  660  Rew: -126.00  Avg Rew: -112.63  LR:0.00093809  Bf: 2  EPS:0.2155  Loss: 2.540\n",
      "Ep:  670  Rew: -116.00  Avg Rew: -113.37  LR:0.00093721  Bf: 2  EPS:0.2137  Loss: 2.487\n",
      "Ep:  680  Rew: -108.00  Avg Rew: -109.95  LR:0.00093633  Bf: 2  EPS:0.2119  Loss: 2.322\n",
      "Ep:  690  Rew: -112.00  Avg Rew: -109.97  LR:0.00093545  Bf: 2  EPS:0.2101  Loss: 2.510\n",
      "Ep:  700  Rew:  -86.00  Avg Rew: -110.11  LR:0.00093458  Bf: 2  EPS:0.2083  Loss: 2.574\n",
      "Ep:  710  Rew:  -99.00  Avg Rew: -109.71  LR:0.00093371  Bf: 2  EPS:0.2066  Loss: 2.403\n",
      "Ep:  720  Rew:  -95.00  Avg Rew: -109.26  LR:0.00093284  Bf: 2  EPS:0.2049  Loss: 2.362\n",
      "Ep:  730  Rew:  -89.00  Avg Rew: -108.31  LR:0.00093197  Bf: 2  EPS:0.2033  Loss: 2.376\n",
      "Ep:  740  Rew: -109.00  Avg Rew: -108.94  LR:0.00093110  Bf: 2  EPS:0.2016  Loss: 2.410\n",
      "Ep:  750  Rew: -117.00  Avg Rew: -109.15  LR:0.00093023  Bf: 2  EPS:0.2000  Loss: 2.316\n",
      "Ep:  760  Rew: -500.00  Avg Rew: -108.54  LR:0.00092937  Bf: 2  EPS:0.1984  Loss: 2.450\n",
      "Ep:  770  Rew:  -89.00  Avg Rew: -107.45  LR:0.00092851  Bf: 2  EPS:0.1969  Loss: 2.551\n",
      "Ep:  780  Rew:  -91.00  Avg Rew: -106.42  LR:0.00092764  Bf: 2  EPS:0.1953  Loss: 2.641\n",
      "Ep:  790  Rew:  -75.00  Avg Rew: -106.17  LR:0.00092678  Bf: 2  EPS:0.1938  Loss: 2.720\n",
      "Ep:  800  Rew: -161.00  Avg Rew: -106.61  LR:0.00092593  Bf: 2  EPS:0.1923  Loss: 2.704\n",
      "Ep:  810  Rew: -104.00  Avg Rew: -107.46  LR:0.00092507  Bf: 2  EPS:0.1908  Loss: 2.770\n",
      "Ep:  820  Rew:  -91.00  Avg Rew: -107.01  LR:0.00092421  Bf: 2  EPS:0.1894  Loss: 2.651\n",
      "Ep:  830  Rew:  -87.00  Avg Rew: -104.21  LR:0.00092336  Bf: 2  EPS:0.1880  Loss: 2.391\n",
      "Ep:  840  Rew: -258.00  Avg Rew: -104.79  LR:0.00092251  Bf: 2  EPS:0.1866  Loss: 2.633\n",
      "Ep:  850  Rew: -111.00  Avg Rew: -105.76  LR:0.00092166  Bf: 2  EPS:0.1852  Loss: 2.659\n",
      "Ep:  860  Rew:  -90.00  Avg Rew: -102.53  LR:0.00092081  Bf: 2  EPS:0.1838  Loss: 2.512\n",
      "Ep:  870  Rew:  -90.00  Avg Rew: -102.62  LR:0.00091996  Bf: 2  EPS:0.1825  Loss: 2.768\n"
     ]
    },
    {
     "name": "stdout",
     "output_type": "stream",
     "text": [
      "Ep:  880  Rew:  -80.00  Avg Rew: -102.33  LR:0.00091912  Bf: 2  EPS:0.1812  Loss: 2.723\n",
      "Ep:  890  Rew: -112.00  Avg Rew: -102.54  LR:0.00091827  Bf: 2  EPS:0.1799  Loss: 2.745\n",
      "Ep:  900  Rew: -107.00  Avg Rew: -101.42  LR:0.00091743  Bf: 2  EPS:0.1786  Loss: 2.474\n",
      "Ep:  910  Rew: -177.00  Avg Rew: -101.37  LR:0.00091659  Bf: 2  EPS:0.1773  Loss: 2.525\n",
      "Ep:  920  Rew: -110.00  Avg Rew: -102.41  LR:0.00091575  Bf: 2  EPS:0.1761  Loss: 2.567\n",
      "Ep:  930  Rew: -105.00  Avg Rew: -104.06  LR:0.00091491  Bf: 2  EPS:0.1748  Loss: 2.630\n",
      "Ep:  940  Rew: -100.00  Avg Rew: -102.74  LR:0.00091408  Bf: 2  EPS:0.1736  Loss: 2.712\n",
      "Ep:  950  Rew:  -98.00  Avg Rew: -101.87  LR:0.00091324  Bf: 2  EPS:0.1724  Loss: 2.563\n",
      "Ep:  960  Rew:  -95.00  Avg Rew: -101.43  LR:0.00091241  Bf: 3  EPS:0.1712  Loss: 2.452\n",
      "Ep:  970  Rew:  -87.00  Avg Rew: -102.84  LR:0.00091158  Bf: 3  EPS:0.1701  Loss: 2.613\n",
      "Ep:  980  Rew:  -92.00  Avg Rew: -103.32  LR:0.00091075  Bf: 3  EPS:0.1689  Loss: 2.442\n",
      "Ep:  990  Rew: -137.00  Avg Rew: -103.26  LR:0.00090992  Bf: 3  EPS:0.1678  Loss: 2.580\n",
      "Ep: 1000  Rew: -102.00  Avg Rew: -104.16  LR:0.00090909  Bf: 3  EPS:0.1667  Loss: 2.449\n",
      "Ep: 1010  Rew:  -92.00  Avg Rew: -103.76  LR:0.00090827  Bf: 3  EPS:0.1656  Loss: 2.417\n",
      "Ep: 1020  Rew: -102.00  Avg Rew: -103.13  LR:0.00090744  Bf: 3  EPS:0.1645  Loss: 2.550\n",
      "Ep: 1030  Rew:  -92.00  Avg Rew: -101.78  LR:0.00090662  Bf: 3  EPS:0.1634  Loss: 2.624\n",
      "Ep: 1040  Rew: -125.00  Avg Rew: -101.63  LR:0.00090580  Bf: 3  EPS:0.1623  Loss: 2.519\n",
      "Ep: 1050  Rew: -105.00  Avg Rew: -102.01  LR:0.00090498  Bf: 3  EPS:0.1613  Loss: 2.451\n",
      "Ep: 1060  Rew:  -94.00  Avg Rew: -100.69  LR:0.00090416  Bf: 3  EPS:0.1603  Loss: 2.357\n",
      "Ep: 1062  Rew:  -94.00  Avg Rew:  -99.33  LR:0.00090400  Bf: 3  EPS:0.1601  Loss: 2.450\n",
      "########## Solved! ###########\n",
      "Training time: 481.55 sec\n"
     ]
    }
   ],
   "source": [
    "agent = DQN_Trainer(env_name, fc_config, random_seed=random_seed, lr_base=lr_base, lr_decay=lr_decay, \n",
    "                   epsilon_base=epsilon_base, epsilon_decay=epsilon_decay, gamma=gamma, batch_size=batch_size,\n",
    "                   max_episodes=max_episodes, max_timesteps=max_timesteps, \n",
    "                   max_buffer_length=max_buffer_length, log_interval=log_interval, threshold=threshold)\n",
    "agent.train()"
   ]
  },
  {
   "cell_type": "code",
   "execution_count": 6,
   "metadata": {
    "scrolled": false
   },
   "outputs": [
    {
     "name": "stdout",
     "output_type": "stream",
     "text": [
      "Test episode: 1\tReward: -72.00\n",
      "Test episode: 2\tReward: -92.00\n",
      "Test episode: 3\tReward: -74.00\n"
     ]
    }
   ],
   "source": [
    "agent.test()"
   ]
  },
  {
   "cell_type": "code",
   "execution_count": null,
   "metadata": {},
   "outputs": [],
   "source": []
  },
  {
   "cell_type": "code",
   "execution_count": null,
   "metadata": {},
   "outputs": [],
   "source": []
  },
  {
   "cell_type": "code",
   "execution_count": null,
   "metadata": {},
   "outputs": [],
   "source": []
  },
  {
   "cell_type": "code",
   "execution_count": null,
   "metadata": {},
   "outputs": [],
   "source": []
  },
  {
   "cell_type": "code",
   "execution_count": null,
   "metadata": {},
   "outputs": [],
   "source": []
  },
  {
   "cell_type": "code",
   "execution_count": null,
   "metadata": {},
   "outputs": [],
   "source": []
  },
  {
   "cell_type": "code",
   "execution_count": null,
   "metadata": {},
   "outputs": [],
   "source": []
  }
 ],
 "metadata": {
  "kernelspec": {
   "display_name": "Python 3",
   "language": "python",
   "name": "python3"
  },
  "language_info": {
   "codemirror_mode": {
    "name": "ipython",
    "version": 3
   },
   "file_extension": ".py",
   "mimetype": "text/x-python",
   "name": "python",
   "nbconvert_exporter": "python",
   "pygments_lexer": "ipython3",
   "version": "3.6.8"
  }
 },
 "nbformat": 4,
 "nbformat_minor": 2
}
