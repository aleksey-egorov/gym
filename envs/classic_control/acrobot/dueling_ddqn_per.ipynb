{
 "cells": [
  {
   "cell_type": "code",
   "execution_count": 1,
   "metadata": {},
   "outputs": [],
   "source": [
    "import os\n",
    "import sys\n",
    "folder = os.path.dirname('../../../algorithms/')\n",
    "sys.path.append(folder)\n",
    "\n",
    "from DuelingDDQN_PER.trainer import Dueling_DDQN_PER_Trainer"
   ]
  },
  {
   "cell_type": "code",
   "execution_count": 2,
   "metadata": {},
   "outputs": [],
   "source": [
    "env_name = 'Acrobot-v1'\n",
    "lr_base = 0.001\n",
    "lr_decay = 0.0001\n",
    "epsilon_base = 0.5 \n",
    "epsilon_decay = 0.002\n",
    "\n",
    "random_seed = 43\n",
    "gamma = 0.99                # discount for future rewards\n",
    "batch_size = 256         # num of transitions sampled from replay buffer\n",
    "alpha=0.9\n",
    "beta_base=0.3\n",
    "beta_multiplier=0.0005\n",
    "max_episodes = 100000         # max num of episodes\n",
    "max_timesteps = 3000        # max timesteps in one episode\n",
    "max_buffer_length = 5000000\n",
    "log_interval = 10           # print avg reward after interval\n",
    "threshold = -100"
   ]
  },
  {
   "cell_type": "code",
   "execution_count": 3,
   "metadata": {},
   "outputs": [],
   "source": [
    "fc_config = [\n",
    "        {'dim': [None, 64], 'dropout': False, 'activation': 'relu'},           \n",
    "    ] \n",
    "adv_stream_config = [\n",
    "        {'dim': [64, 64], 'dropout': False, 'activation': 'relu'},      \n",
    "        {'dim': [64, None], 'dropout': False, 'activation': False}\n",
    "    ] \n",
    "value_stream_config = [\n",
    "        {'dim': [64, 64], 'dropout': False, 'activation': 'relu'},      \n",
    "        {'dim': [64, 1], 'dropout': False, 'activation': False}\n",
    "    ] \n",
    "\n",
    "config = [fc_config, adv_stream_config, value_stream_config]\n"
   ]
  },
  {
   "cell_type": "code",
   "execution_count": 4,
   "metadata": {
    "scrolled": false
   },
   "outputs": [
    {
     "name": "stdout",
     "output_type": "stream",
     "text": [
      "NETWORK: Sequential(\n",
      "  (0): Linear(in_features=6, out_features=64, bias=True)\n",
      "  (1): ReLU()\n",
      ") Sequential(\n",
      "  (0): Linear(in_features=64, out_features=64, bias=True)\n",
      "  (1): ReLU()\n",
      "  (2): Linear(in_features=64, out_features=3, bias=True)\n",
      ") Sequential(\n",
      "  (0): Linear(in_features=64, out_features=64, bias=True)\n",
      "  (1): ReLU()\n",
      "  (2): Linear(in_features=64, out_features=1, bias=True)\n",
      ")\n",
      "Device: cuda:0\n",
      "NETWORK: Sequential(\n",
      "  (0): Linear(in_features=6, out_features=64, bias=True)\n",
      "  (1): ReLU()\n",
      ") Sequential(\n",
      "  (0): Linear(in_features=64, out_features=64, bias=True)\n",
      "  (1): ReLU()\n",
      "  (2): Linear(in_features=64, out_features=3, bias=True)\n",
      ") Sequential(\n",
      "  (0): Linear(in_features=64, out_features=64, bias=True)\n",
      "  (1): ReLU()\n",
      "  (2): Linear(in_features=64, out_features=1, bias=True)\n",
      ")\n",
      "Device: cuda:0\n",
      "Random Seed: 43\n",
      "action_space=Discrete(3)\n",
      "obs_space=Box(6,)\n",
      "threshold=-100 \n",
      "\n",
      "DIR=./preTrained/duel_ddqn_per NAME=duel_ddqn_per_Acrobot-v1_43\n",
      "No models to load\n",
      "\n",
      "Training started ... \n",
      "Ep:    0  Rew: -500.00  Avg Rew: -500.00  LR:0.00100000  Bf: 0  Beta:0.3000  EPS:0.5000  Loss: 0.006796\n",
      "Ep:   10  Rew: -500.00  Avg Rew: -463.82  LR:0.00099900  Bf: 0  Beta:0.3050  EPS:0.4902  Loss: 0.110720\n",
      "Ep:   20  Rew: -274.00  Avg Rew: -425.24  LR:0.00099800  Bf: 0  Beta:0.3100  EPS:0.4808  Loss: 0.320463\n",
      "Ep:   30  Rew: -392.00  Avg Rew: -396.94  LR:0.00099701  Bf: 0  Beta:0.3150  EPS:0.4717  Loss: 0.573550\n",
      "Ep:   40  Rew: -254.00  Avg Rew: -367.78  LR:0.00099602  Bf: 0  Beta:0.3200  EPS:0.4630  Loss: 0.760741\n",
      "Ep:   50  Rew: -158.00  Avg Rew: -332.37  LR:0.00099502  Bf: 0  Beta:0.3250  EPS:0.4545  Loss: 0.952319\n",
      "Ep:   60  Rew: -150.00  Avg Rew: -301.89  LR:0.00099404  Bf: 0  Beta:0.3300  EPS:0.4464  Loss: 1.026718\n",
      "Ep:   70  Rew: -127.00  Avg Rew: -277.30  LR:0.00099305  Bf: 0  Beta:0.3350  EPS:0.4386  Loss: 1.202417\n",
      "Ep:   80  Rew: -207.00  Avg Rew: -262.41  LR:0.00099206  Bf: 0  Beta:0.3400  EPS:0.4310  Loss: 0.946390\n",
      "Ep:   90  Rew: -186.00  Avg Rew: -247.96  LR:0.00099108  Bf: 0  Beta:0.3450  EPS:0.4237  Loss: 1.087165\n",
      "Ep:  100  Rew: -160.00  Avg Rew: -233.47  LR:0.00099010  Bf: 0  Beta:0.3500  EPS:0.4167  Loss: 0.827468\n",
      "Ep:  110  Rew: -158.00  Avg Rew: -201.62  LR:0.00098912  Bf: 1  Beta:0.3550  EPS:0.4098  Loss: 0.946630\n",
      "Ep:  120  Rew: -142.00  Avg Rew: -177.79  LR:0.00098814  Bf: 1  Beta:0.3600  EPS:0.4032  Loss: 0.605832\n",
      "Ep:  130  Rew: -141.00  Avg Rew: -157.12  LR:0.00098717  Bf: 1  Beta:0.3650  EPS:0.3968  Loss: 1.004816\n",
      "Ep:  140  Rew: -111.00  Avg Rew: -141.60  LR:0.00098619  Bf: 1  Beta:0.3700  EPS:0.3906  Loss: 0.801353\n",
      "Ep:  150  Rew: -138.00  Avg Rew: -135.67  LR:0.00098522  Bf: 1  Beta:0.3750  EPS:0.3846  Loss: 0.886395\n",
      "Ep:  160  Rew: -112.00  Avg Rew: -131.47  LR:0.00098425  Bf: 1  Beta:0.3800  EPS:0.3788  Loss: 1.213486\n",
      "Ep:  170  Rew: -131.00  Avg Rew: -130.65  LR:0.00098328  Bf: 1  Beta:0.3850  EPS:0.3731  Loss: 0.842030\n",
      "Ep:  180  Rew: -125.00  Avg Rew: -126.93  LR:0.00098232  Bf: 1  Beta:0.3900  EPS:0.3676  Loss: 1.022928\n",
      "Ep:  190  Rew: -204.00  Avg Rew: -125.23  LR:0.00098135  Bf: 1  Beta:0.3950  EPS:0.3623  Loss: 1.075556\n",
      "Ep:  200  Rew: -145.00  Avg Rew: -125.76  LR:0.00098039  Bf: 1  Beta:0.4000  EPS:0.3571  Loss: 0.954577\n",
      "Ep:  210  Rew: -108.00  Avg Rew: -124.00  LR:0.00097943  Bf: 1  Beta:0.4050  EPS:0.3521  Loss: 0.902581\n",
      "Ep:  220  Rew: -134.00  Avg Rew: -121.83  LR:0.00097847  Bf: 1  Beta:0.4100  EPS:0.3472  Loss: 1.152267\n",
      "Ep:  230  Rew: -122.00  Avg Rew: -120.83  LR:0.00097752  Bf: 1  Beta:0.4150  EPS:0.3425  Loss: 0.851642\n",
      "Ep:  240  Rew: -111.00  Avg Rew: -119.83  LR:0.00097656  Bf: 1  Beta:0.4200  EPS:0.3378  Loss: 0.843351\n",
      "Ep:  250  Rew: -122.00  Avg Rew: -119.16  LR:0.00097561  Bf: 1  Beta:0.4250  EPS:0.3333  Loss: 0.965631\n",
      "Ep:  260  Rew: -102.00  Avg Rew: -119.38  LR:0.00097466  Bf: 1  Beta:0.4300  EPS:0.3289  Loss: 1.258485\n",
      "Ep:  270  Rew:  -99.00  Avg Rew: -120.18  LR:0.00097371  Bf: 1  Beta:0.4350  EPS:0.3247  Loss: 1.048129\n",
      "Ep:  280  Rew: -100.00  Avg Rew: -118.99  LR:0.00097276  Bf: 1  Beta:0.4400  EPS:0.3205  Loss: 1.012292\n",
      "Ep:  290  Rew:  -96.00  Avg Rew: -120.19  LR:0.00097182  Bf: 1  Beta:0.4450  EPS:0.3165  Loss: 1.133847\n",
      "Ep:  300  Rew: -100.00  Avg Rew: -118.94  LR:0.00097087  Bf: 1  Beta:0.4500  EPS:0.3125  Loss: 1.032427\n",
      "Ep:  310  Rew: -127.00  Avg Rew: -118.13  LR:0.00096993  Bf: 1  Beta:0.4550  EPS:0.3086  Loss: 1.005538\n",
      "Ep:  320  Rew: -111.00  Avg Rew: -116.53  LR:0.00096899  Bf: 1  Beta:0.4600  EPS:0.3049  Loss: 1.306173\n",
      "Ep:  330  Rew: -133.00  Avg Rew: -114.90  LR:0.00096805  Bf: 1  Beta:0.4650  EPS:0.3012  Loss: 0.834017\n",
      "Ep:  340  Rew: -101.00  Avg Rew: -113.94  LR:0.00096712  Bf: 1  Beta:0.4700  EPS:0.2976  Loss: 1.092565\n",
      "Ep:  350  Rew: -127.00  Avg Rew: -113.49  LR:0.00096618  Bf: 1  Beta:0.4750  EPS:0.2941  Loss: 1.038259\n",
      "Ep:  360  Rew: -129.00  Avg Rew: -113.40  LR:0.00096525  Bf: 1  Beta:0.4800  EPS:0.2907  Loss: 1.203591\n",
      "Ep:  370  Rew: -123.00  Avg Rew: -112.83  LR:0.00096432  Bf: 1  Beta:0.4850  EPS:0.2874  Loss: 0.880622\n",
      "Ep:  380  Rew:  -98.00  Avg Rew: -112.40  LR:0.00096339  Bf: 1  Beta:0.4900  EPS:0.2841  Loss: 0.964726\n",
      "Ep:  390  Rew: -106.00  Avg Rew: -110.24  LR:0.00096246  Bf: 1  Beta:0.4950  EPS:0.2809  Loss: 0.984380\n",
      "Ep:  400  Rew: -107.00  Avg Rew: -108.56  LR:0.00096154  Bf: 1  Beta:0.5000  EPS:0.2778  Loss: 0.878001\n",
      "Ep:  410  Rew:  -86.00  Avg Rew: -107.81  LR:0.00096061  Bf: 1  Beta:0.5050  EPS:0.2747  Loss: 1.165373\n",
      "Ep:  420  Rew: -146.00  Avg Rew: -108.49  LR:0.00095969  Bf: 1  Beta:0.5100  EPS:0.2717  Loss: 1.118067\n",
      "Ep:  430  Rew: -105.00  Avg Rew: -109.61  LR:0.00095877  Bf: 1  Beta:0.5150  EPS:0.2688  Loss: 1.285160\n",
      "Ep:  440  Rew:  -85.00  Avg Rew: -109.97  LR:0.00095785  Bf: 1  Beta:0.5200  EPS:0.2660  Loss: 1.179009\n",
      "Ep:  450  Rew:  -86.00  Avg Rew: -109.71  LR:0.00095694  Bf: 1  Beta:0.5250  EPS:0.2632  Loss: 1.058240\n",
      "Ep:  460  Rew: -101.00  Avg Rew: -108.82  LR:0.00095602  Bf: 1  Beta:0.5300  EPS:0.2604  Loss: 1.116866\n",
      "Ep:  470  Rew: -100.00  Avg Rew: -107.08  LR:0.00095511  Bf: 1  Beta:0.5350  EPS:0.2577  Loss: 1.179227\n",
      "Ep:  480  Rew: -106.00  Avg Rew: -106.62  LR:0.00095420  Bf: 1  Beta:0.5400  EPS:0.2551  Loss: 1.259347\n",
      "Ep:  490  Rew: -116.00  Avg Rew: -106.15  LR:0.00095329  Bf: 1  Beta:0.5450  EPS:0.2525  Loss: 0.999078\n",
      "Ep:  500  Rew:  -76.00  Avg Rew: -105.30  LR:0.00095238  Bf: 1  Beta:0.5500  EPS:0.2500  Loss: 1.181455\n",
      "Ep:  510  Rew:  -87.00  Avg Rew: -105.26  LR:0.00095147  Bf: 1  Beta:0.5550  EPS:0.2475  Loss: 1.217312\n",
      "Ep:  520  Rew: -116.00  Avg Rew: -103.93  LR:0.00095057  Bf: 1  Beta:0.5600  EPS:0.2451  Loss: 1.068536\n",
      "Ep:  530  Rew: -111.00  Avg Rew: -101.74  LR:0.00094967  Bf: 1  Beta:0.5650  EPS:0.2427  Loss: 1.003674\n",
      "Ep:  540  Rew:  -97.00  Avg Rew: -101.57  LR:0.00094877  Bf: 1  Beta:0.5700  EPS:0.2404  Loss: 1.116487\n",
      "Ep:  550  Rew: -120.00  Avg Rew: -100.87  LR:0.00094787  Bf: 2  Beta:0.5750  EPS:0.2381  Loss: 1.174460\n",
      "Ep:  560  Rew: -115.00  Avg Rew: -101.51  LR:0.00094697  Bf: 2  Beta:0.5800  EPS:0.2358  Loss: 0.912544\n",
      "Ep:  570  Rew: -145.00  Avg Rew: -102.29  LR:0.00094607  Bf: 2  Beta:0.5850  EPS:0.2336  Loss: 0.839633\n",
      "Ep:  580  Rew:  -81.00  Avg Rew: -103.03  LR:0.00094518  Bf: 2  Beta:0.5900  EPS:0.2315  Loss: 0.949968\n",
      "Ep:  590  Rew:  -93.00  Avg Rew: -103.39  LR:0.00094429  Bf: 2  Beta:0.5950  EPS:0.2294  Loss: 0.886908\n",
      "Ep:  600  Rew: -110.00  Avg Rew: -104.02  LR:0.00094340  Bf: 2  Beta:0.6000  EPS:0.2273  Loss: 1.163349\n",
      "Ep:  610  Rew: -104.00  Avg Rew: -103.07  LR:0.00094251  Bf: 2  Beta:0.6050  EPS:0.2252  Loss: 1.068538\n",
      "Ep:  620  Rew: -101.00  Avg Rew: -102.99  LR:0.00094162  Bf: 2  Beta:0.6100  EPS:0.2232  Loss: 1.010430\n",
      "Ep:  630  Rew:  -97.00  Avg Rew: -104.27  LR:0.00094073  Bf: 2  Beta:0.6150  EPS:0.2212  Loss: 1.067969\n",
      "Ep:  640  Rew:  -82.00  Avg Rew: -103.69  LR:0.00093985  Bf: 2  Beta:0.6200  EPS:0.2193  Loss: 1.279660\n",
      "Ep:  650  Rew:  -99.00  Avg Rew: -102.65  LR:0.00093897  Bf: 2  Beta:0.6250  EPS:0.2174  Loss: 1.338342\n",
      "Ep:  660  Rew:  -92.00  Avg Rew: -101.74  LR:0.00093809  Bf: 2  Beta:0.6300  EPS:0.2155  Loss: 1.100373\n",
      "Ep:  670  Rew:  -98.00  Avg Rew: -100.53  LR:0.00093721  Bf: 2  Beta:0.6350  EPS:0.2137  Loss: 1.132454\n",
      "Ep:  680  Rew: -127.00  Avg Rew: -101.10  LR:0.00093633  Bf: 2  Beta:0.6400  EPS:0.2119  Loss: 1.011421\n",
      "Ep:  690  Rew: -133.00  Avg Rew: -100.91  LR:0.00093545  Bf: 2  Beta:0.6450  EPS:0.2101  Loss: 1.279093\n"
     ]
    },
    {
     "name": "stdout",
     "output_type": "stream",
     "text": [
      "Ep:  700  Rew: -102.00  Avg Rew: -101.28  LR:0.00093458  Bf: 2  Beta:0.6500  EPS:0.2083  Loss: 1.244856\n",
      "Ep:  710  Rew:  -92.00  Avg Rew: -102.50  LR:0.00093371  Bf: 2  Beta:0.6550  EPS:0.2066  Loss: 1.140522\n",
      "Ep:  720  Rew: -108.00  Avg Rew: -102.99  LR:0.00093284  Bf: 2  Beta:0.6600  EPS:0.2049  Loss: 1.199290\n",
      "Ep:  730  Rew: -107.00  Avg Rew: -103.23  LR:0.00093197  Bf: 2  Beta:0.6650  EPS:0.2033  Loss: 1.056143\n",
      "Ep:  740  Rew:  -90.00  Avg Rew: -102.41  LR:0.00093110  Bf: 2  Beta:0.6700  EPS:0.2016  Loss: 1.019071\n",
      "Ep:  750  Rew:  -97.00  Avg Rew: -101.83  LR:0.00093023  Bf: 2  Beta:0.6750  EPS:0.2000  Loss: 1.092978\n",
      "Ep:  760  Rew:  -92.00  Avg Rew: -101.44  LR:0.00092937  Bf: 2  Beta:0.6800  EPS:0.1984  Loss: 0.980482\n",
      "Ep:  770  Rew: -103.00  Avg Rew: -100.68  LR:0.00092851  Bf: 2  Beta:0.6850  EPS:0.1969  Loss: 1.118926\n",
      "Ep:  773  Rew:  -90.00  Avg Rew:  -99.91  LR:0.00092825  Bf: 2  Beta:0.6865 EPS:0.1964  Loss: 1.074178\n",
      "########## Solved! ###########\n",
      "Training time: 856.61 sec\n"
     ]
    }
   ],
   "source": [
    "agent = Dueling_DDQN_PER_Trainer(env_name, config, random_seed=random_seed, lr_base=lr_base, lr_decay=lr_decay, \n",
    "                   epsilon_base=epsilon_base, epsilon_decay=epsilon_decay, gamma=gamma, batch_size=batch_size,\n",
    "                   max_episodes=max_episodes, max_timesteps=max_timesteps, \n",
    "                   max_buffer_length=max_buffer_length, log_interval=log_interval, threshold=threshold,\n",
    "                   alpha=alpha, beta_base=beta_base, beta_multiplier=beta_multiplier)\n",
    "agent.train()"
   ]
  },
  {
   "cell_type": "code",
   "execution_count": 5,
   "metadata": {
    "scrolled": false
   },
   "outputs": [
    {
     "name": "stdout",
     "output_type": "stream",
     "text": [
      "Test episode: 1\tReward: -79.00\n",
      "Test episode: 2\tReward: -62.00\n",
      "Test episode: 3\tReward: -114.00\n"
     ]
    }
   ],
   "source": [
    "agent.test()"
   ]
  },
  {
   "cell_type": "code",
   "execution_count": null,
   "metadata": {},
   "outputs": [],
   "source": []
  },
  {
   "cell_type": "code",
   "execution_count": null,
   "metadata": {},
   "outputs": [],
   "source": []
  },
  {
   "cell_type": "code",
   "execution_count": null,
   "metadata": {},
   "outputs": [],
   "source": [
    "\n",
    "            "
   ]
  },
  {
   "cell_type": "code",
   "execution_count": null,
   "metadata": {},
   "outputs": [],
   "source": []
  },
  {
   "cell_type": "code",
   "execution_count": null,
   "metadata": {},
   "outputs": [],
   "source": []
  },
  {
   "cell_type": "code",
   "execution_count": null,
   "metadata": {},
   "outputs": [],
   "source": []
  },
  {
   "cell_type": "code",
   "execution_count": null,
   "metadata": {},
   "outputs": [],
   "source": []
  },
  {
   "cell_type": "code",
   "execution_count": null,
   "metadata": {},
   "outputs": [],
   "source": []
  }
 ],
 "metadata": {
  "kernelspec": {
   "display_name": "Python 3",
   "language": "python",
   "name": "python3"
  },
  "language_info": {
   "codemirror_mode": {
    "name": "ipython",
    "version": 3
   },
   "file_extension": ".py",
   "mimetype": "text/x-python",
   "name": "python",
   "nbconvert_exporter": "python",
   "pygments_lexer": "ipython3",
   "version": "3.6.8"
  }
 },
 "nbformat": 4,
 "nbformat_minor": 2
}
