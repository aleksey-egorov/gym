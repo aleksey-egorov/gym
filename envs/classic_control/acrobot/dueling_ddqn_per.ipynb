{
 "cells": [
  {
   "cell_type": "code",
   "execution_count": 1,
   "metadata": {},
   "outputs": [],
   "source": [
    "import os\n",
    "import sys\n",
    "folder = os.path.dirname('../../../algorithms/DuelingDDQN_PER/')\n",
    "sys.path.append(folder)\n",
    "\n",
    "from trainer import DuelingDDQN_PER_Trainer"
   ]
  },
  {
   "cell_type": "code",
   "execution_count": 2,
   "metadata": {},
   "outputs": [],
   "source": [
    "env_name = 'Acrobot-v1'\n",
    "lr_base = 0.001\n",
    "lr_decay = 0.0001\n",
    "epsilon_base = 0.5 \n",
    "epsilon_decay = 0.002\n",
    "\n",
    "random_seed = 43\n",
    "gamma = 0.99                # discount for future rewards\n",
    "batch_size = 256         # num of transitions sampled from replay buffer\n",
    "alpha=0.9\n",
    "beta_base=0.3\n",
    "beta_multiplier=0.0005\n",
    "max_episodes = 100000         # max num of episodes\n",
    "max_timesteps = 3000        # max timesteps in one episode\n",
    "max_buffer_length = 5000000\n",
    "log_interval = 10           # print avg reward after interval\n",
    "threshold = -100"
   ]
  },
  {
   "cell_type": "code",
   "execution_count": 3,
   "metadata": {},
   "outputs": [],
   "source": [
    "fc_config = [\n",
    "        {'dim': [None, 64], 'dropout': False, 'activation': 'relu'},           \n",
    "    ] \n",
    "adv_stream_config = [\n",
    "        {'dim': [64, 64], 'dropout': False, 'activation': 'relu'},      \n",
    "        {'dim': [64, None], 'dropout': False, 'activation': False}\n",
    "    ] \n",
    "value_stream_config = [\n",
    "        {'dim': [64, 64], 'dropout': False, 'activation': 'relu'},      \n",
    "        {'dim': [64, 1], 'dropout': False, 'activation': False}\n",
    "    ] \n",
    "\n",
    "config = [fc_config, adv_stream_config, value_stream_config]\n"
   ]
  },
  {
   "cell_type": "code",
   "execution_count": 5,
   "metadata": {
    "scrolled": false
   },
   "outputs": [
    {
     "name": "stdout",
     "output_type": "stream",
     "text": [
      "\u001b[33mWARN: gym.spaces.Box autodetected dtype as <class 'numpy.float32'>. Please provide explicit dtype.\u001b[0m\n",
      "NETWORK: Sequential(\n",
      "  (0): Linear(in_features=6, out_features=64, bias=True)\n",
      "  (1): ReLU()\n",
      ") Sequential(\n",
      "  (0): Linear(in_features=64, out_features=64, bias=True)\n",
      "  (1): ReLU()\n",
      "  (2): Linear(in_features=64, out_features=3, bias=True)\n",
      ") Sequential(\n",
      "  (0): Linear(in_features=64, out_features=64, bias=True)\n",
      "  (1): ReLU()\n",
      "  (2): Linear(in_features=64, out_features=1, bias=True)\n",
      ")\n",
      "Device: cpu\n",
      "NETWORK: Sequential(\n",
      "  (0): Linear(in_features=6, out_features=64, bias=True)\n",
      "  (1): ReLU()\n",
      ") Sequential(\n",
      "  (0): Linear(in_features=64, out_features=64, bias=True)\n",
      "  (1): ReLU()\n",
      "  (2): Linear(in_features=64, out_features=3, bias=True)\n",
      ") Sequential(\n",
      "  (0): Linear(in_features=64, out_features=64, bias=True)\n",
      "  (1): ReLU()\n",
      "  (2): Linear(in_features=64, out_features=1, bias=True)\n",
      ")\n",
      "Device: cpu\n",
      "Random Seed: 43\n",
      "action_space=Discrete(3)\n",
      "obs_space=Box(6,)\n",
      "threshold=-100 \n",
      "\n",
      "DIR=./preTrained/duel_ddqn_pre NAME=duel_ddqn_pre_Acrobot-v1_43\n",
      "Models loaded\n",
      "\n",
      "Training started ... \n",
      "Ep:    0  Rew: -500.00  Avg Rew: -500.00  LR:0.00100000  Bf: 0  Beta:0.3000  EPS:0.5000  Loss: 0.014045\n",
      "Ep:   10  Rew: -500.00  Avg Rew: -500.00  LR:0.00099900  Bf: 0  Beta:0.3050  EPS:0.4902  Loss: 0.133456\n",
      "Ep:   20  Rew: -336.00  Avg Rew: -478.48  LR:0.00099800  Bf: 0  Beta:0.3100  EPS:0.4808  Loss: 0.688645\n",
      "Ep:   30  Rew: -359.00  Avg Rew: -466.90  LR:0.00099701  Bf: 0  Beta:0.3150  EPS:0.4717  Loss: 0.837200\n",
      "Ep:   40  Rew: -210.00  Avg Rew: -438.15  LR:0.00099602  Bf: 0  Beta:0.3200  EPS:0.4630  Loss: 1.454049\n",
      "Ep:   50  Rew: -201.00  Avg Rew: -386.94  LR:0.00099502  Bf: 0  Beta:0.3250  EPS:0.4545  Loss: 1.307541\n",
      "Ep:   60  Rew: -154.00  Avg Rew: -348.54  LR:0.00099404  Bf: 0  Beta:0.3300  EPS:0.4464  Loss: 2.126004\n",
      "Ep:   70  Rew: -168.00  Avg Rew: -321.89  LR:0.00099305  Bf: 0  Beta:0.3350  EPS:0.4386  Loss: 2.544851\n",
      "Ep:   80  Rew: -166.00  Avg Rew: -306.64  LR:0.00099206  Bf: 0  Beta:0.3400  EPS:0.4310  Loss: 2.215453\n",
      "Ep:   90  Rew: -108.00  Avg Rew: -288.70  LR:0.00099108  Bf: 1  Beta:0.3450  EPS:0.4237  Loss: 2.818918\n",
      "Ep:  100  Rew: -158.00  Avg Rew: -273.71  LR:0.00099010  Bf: 1  Beta:0.3500  EPS:0.4167  Loss: 2.716878\n",
      "Ep:  110  Rew: -170.00  Avg Rew: -237.42  LR:0.00098912  Bf: 1  Beta:0.3550  EPS:0.4098  Loss: 2.257510\n",
      "Ep:  120  Rew: -124.00  Avg Rew: -204.63  LR:0.00098814  Bf: 1  Beta:0.3600  EPS:0.4032  Loss: 2.403285\n",
      "Ep:  130  Rew: -141.00  Avg Rew: -172.19  LR:0.00098717  Bf: 1  Beta:0.3650  EPS:0.3968  Loss: 2.163665\n",
      "Ep:  140  Rew: -121.00  Avg Rew: -149.53  LR:0.00098619  Bf: 1  Beta:0.3700  EPS:0.3906  Loss: 1.589478\n",
      "Ep:  150  Rew: -150.00  Avg Rew: -145.13  LR:0.00098522  Bf: 1  Beta:0.3750  EPS:0.3846  Loss: 1.932321\n",
      "Ep:  160  Rew: -157.00  Avg Rew: -141.46  LR:0.00098425  Bf: 1  Beta:0.3800  EPS:0.3788  Loss: 1.816751\n",
      "Ep:  170  Rew: -136.00  Avg Rew: -137.98  LR:0.00098328  Bf: 1  Beta:0.3850  EPS:0.3731  Loss: 1.697206\n",
      "Ep:  180  Rew: -110.00  Avg Rew: -131.54  LR:0.00098232  Bf: 1  Beta:0.3900  EPS:0.3676  Loss: 1.667971\n",
      "Ep:  190  Rew: -108.00  Avg Rew: -128.72  LR:0.00098135  Bf: 1  Beta:0.3950  EPS:0.3623  Loss: 1.872245\n",
      "Ep:  200  Rew: -143.00  Avg Rew: -123.86  LR:0.00098039  Bf: 1  Beta:0.4000  EPS:0.3571  Loss: 1.416231\n",
      "Ep:  210  Rew: -106.00  Avg Rew: -121.68  LR:0.00097943  Bf: 1  Beta:0.4050  EPS:0.3521  Loss: 1.410095\n",
      "Ep:  220  Rew:  -79.00  Avg Rew: -120.85  LR:0.00097847  Bf: 1  Beta:0.4100  EPS:0.3472  Loss: 1.187969\n",
      "Ep:  230  Rew: -125.00  Avg Rew: -121.15  LR:0.00097752  Bf: 1  Beta:0.4150  EPS:0.3425  Loss: 1.714637\n",
      "Ep:  240  Rew: -117.00  Avg Rew: -119.78  LR:0.00097656  Bf: 1  Beta:0.4200  EPS:0.3378  Loss: 2.181527\n",
      "Ep:  250  Rew: -133.00  Avg Rew: -118.69  LR:0.00097561  Bf: 1  Beta:0.4250  EPS:0.3333  Loss: 1.982417\n",
      "Ep:  260  Rew: -104.00  Avg Rew: -117.57  LR:0.00097466  Bf: 1  Beta:0.4300  EPS:0.3289  Loss: 1.252190\n",
      "Ep:  270  Rew: -102.00  Avg Rew: -116.04  LR:0.00097371  Bf: 1  Beta:0.4350  EPS:0.3247  Loss: 1.641623\n",
      "Ep:  280  Rew:  -89.00  Avg Rew: -112.82  LR:0.00097276  Bf: 1  Beta:0.4400  EPS:0.3205  Loss: 1.253019\n",
      "Ep:  290  Rew: -100.00  Avg Rew: -113.51  LR:0.00097182  Bf: 1  Beta:0.4450  EPS:0.3165  Loss: 1.525772\n",
      "Ep:  300  Rew: -123.00  Avg Rew: -112.86  LR:0.00097087  Bf: 1  Beta:0.4500  EPS:0.3125  Loss: 1.080995\n",
      "Ep:  310  Rew: -124.00  Avg Rew: -114.91  LR:0.00096993  Bf: 1  Beta:0.4550  EPS:0.3086  Loss: 1.354421\n",
      "Ep:  320  Rew: -119.00  Avg Rew: -113.78  LR:0.00096899  Bf: 1  Beta:0.4600  EPS:0.3049  Loss: 1.348234\n",
      "Ep:  330  Rew: -112.00  Avg Rew: -112.84  LR:0.00096805  Bf: 1  Beta:0.4650  EPS:0.3012  Loss: 1.406562\n",
      "Ep:  340  Rew:  -74.00  Avg Rew: -113.23  LR:0.00096712  Bf: 1  Beta:0.4700  EPS:0.2976  Loss: 1.553986\n",
      "Ep:  350  Rew: -140.00  Avg Rew: -112.28  LR:0.00096618  Bf: 1  Beta:0.4750  EPS:0.2941  Loss: 1.289827\n",
      "Ep:  360  Rew: -105.00  Avg Rew: -114.56  LR:0.00096525  Bf: 1  Beta:0.4800  EPS:0.2907  Loss: 1.748674\n",
      "Ep:  370  Rew: -125.00  Avg Rew: -115.25  LR:0.00096432  Bf: 1  Beta:0.4850  EPS:0.2874  Loss: 1.227526\n",
      "Ep:  380  Rew:  -94.00  Avg Rew: -115.68  LR:0.00096339  Bf: 1  Beta:0.4900  EPS:0.2841  Loss: 1.328038\n",
      "Ep:  390  Rew:  -90.00  Avg Rew: -113.56  LR:0.00096246  Bf: 1  Beta:0.4950  EPS:0.2809  Loss: 1.579938\n",
      "Ep:  400  Rew: -112.00  Avg Rew: -114.18  LR:0.00096154  Bf: 1  Beta:0.5000  EPS:0.2778  Loss: 1.384434\n",
      "Ep:  410  Rew: -104.00  Avg Rew: -111.63  LR:0.00096061  Bf: 1  Beta:0.5050  EPS:0.2747  Loss: 1.637252\n",
      "Ep:  420  Rew: -100.00  Avg Rew: -112.21  LR:0.00095969  Bf: 1  Beta:0.5100  EPS:0.2717  Loss: 1.546765\n",
      "Ep:  430  Rew: -117.00  Avg Rew: -111.41  LR:0.00095877  Bf: 1  Beta:0.5150  EPS:0.2688  Loss: 1.685180\n",
      "Ep:  440  Rew: -117.00  Avg Rew: -110.50  LR:0.00095785  Bf: 1  Beta:0.5200  EPS:0.2660  Loss: 1.167526\n",
      "Ep:  450  Rew: -123.00  Avg Rew: -111.08  LR:0.00095694  Bf: 1  Beta:0.5250  EPS:0.2632  Loss: 1.505609\n",
      "Ep:  460  Rew: -101.00  Avg Rew: -108.29  LR:0.00095602  Bf: 1  Beta:0.5300  EPS:0.2604  Loss: 1.509058\n",
      "Ep:  470  Rew: -102.00  Avg Rew: -106.93  LR:0.00095511  Bf: 1  Beta:0.5350  EPS:0.2577  Loss: 1.146139\n",
      "Ep:  480  Rew:  -70.00  Avg Rew: -105.81  LR:0.00095420  Bf: 1  Beta:0.5400  EPS:0.2551  Loss: 1.324683\n",
      "Ep:  490  Rew: -134.00  Avg Rew: -107.04  LR:0.00095329  Bf: 1  Beta:0.5450  EPS:0.2525  Loss: 1.736859\n",
      "Ep:  500  Rew: -107.00  Avg Rew: -106.05  LR:0.00095238  Bf: 1  Beta:0.5500  EPS:0.2500  Loss: 1.254060\n",
      "Ep:  510  Rew:  -91.00  Avg Rew: -105.38  LR:0.00095147  Bf: 2  Beta:0.5550  EPS:0.2475  Loss: 1.649416\n",
      "Ep:  520  Rew:  -94.00  Avg Rew: -104.24  LR:0.00095057  Bf: 2  Beta:0.5600  EPS:0.2451  Loss: 1.166399\n",
      "Ep:  530  Rew: -118.00  Avg Rew: -104.85  LR:0.00094967  Bf: 2  Beta:0.5650  EPS:0.2427  Loss: 1.591238\n",
      "Ep:  540  Rew:  -96.00  Avg Rew: -105.36  LR:0.00094877  Bf: 2  Beta:0.5700  EPS:0.2404  Loss: 1.207702\n",
      "Ep:  550  Rew: -113.00  Avg Rew: -104.56  LR:0.00094787  Bf: 2  Beta:0.5750  EPS:0.2381  Loss: 1.546535\n",
      "Ep:  560  Rew:  -90.00  Avg Rew: -103.65  LR:0.00094697  Bf: 2  Beta:0.5800  EPS:0.2358  Loss: 1.705148\n",
      "Ep:  570  Rew:  -77.00  Avg Rew: -102.94  LR:0.00094607  Bf: 2  Beta:0.5850  EPS:0.2336  Loss: 1.413463\n",
      "Ep:  580  Rew:  -84.00  Avg Rew: -103.58  LR:0.00094518  Bf: 2  Beta:0.5900  EPS:0.2315  Loss: 1.757762\n",
      "Ep:  590  Rew:  -87.00  Avg Rew: -102.99  LR:0.00094429  Bf: 2  Beta:0.5950  EPS:0.2294  Loss: 1.409474\n",
      "Ep:  600  Rew:  -93.00  Avg Rew: -103.39  LR:0.00094340  Bf: 2  Beta:0.6000  EPS:0.2273  Loss: 1.527826\n",
      "Ep:  610  Rew: -111.00  Avg Rew: -103.62  LR:0.00094251  Bf: 2  Beta:0.6050  EPS:0.2252  Loss: 1.948311\n",
      "Ep:  620  Rew: -110.00  Avg Rew: -103.61  LR:0.00094162  Bf: 2  Beta:0.6100  EPS:0.2232  Loss: 1.340588\n",
      "Ep:  630  Rew:  -87.00  Avg Rew: -102.82  LR:0.00094073  Bf: 2  Beta:0.6150  EPS:0.2212  Loss: 1.435683\n",
      "Ep:  640  Rew:  -98.00  Avg Rew: -101.02  LR:0.00093985  Bf: 2  Beta:0.6200  EPS:0.2193  Loss: 1.260581\n",
      "Ep:  647  Rew:  -75.00  Avg Rew:  -99.72  LR:0.00093923  Bf: 2  Beta:0.6235 EPS:0.2180  Loss: 1.208226\n",
      "########## Solved! ###########\n",
      "Training time: 1074.70 sec\n"
     ]
    }
   ],
   "source": [
    "agent = Dueling_DDQN_PER_Trainer(env_name, config, random_seed=random_seed, lr_base=lr_base, lr_decay=lr_decay, \n",
    "                   epsilon_base=epsilon_base, epsilon_decay=epsilon_decay, gamma=gamma, batch_size=batch_size,\n",
    "                   max_episodes=max_episodes, max_timesteps=max_timesteps, \n",
    "                   max_buffer_length=max_buffer_length, log_interval=log_interval, threshold=threshold,\n",
    "                   alpha=alpha, beta_base=beta_base, beta_multiplier=beta_multiplier)\n",
    "agent.train()"
   ]
  },
  {
   "cell_type": "code",
   "execution_count": 6,
   "metadata": {
    "scrolled": false
   },
   "outputs": [
    {
     "name": "stdout",
     "output_type": "stream",
     "text": [
      "Test episode: 1\tReward: -76.00\n",
      "Test episode: 2\tReward: -84.00\n",
      "Test episode: 3\tReward: -63.00\n"
     ]
    }
   ],
   "source": [
    "agent.test()"
   ]
  },
  {
   "cell_type": "code",
   "execution_count": null,
   "metadata": {},
   "outputs": [],
   "source": []
  },
  {
   "cell_type": "code",
   "execution_count": null,
   "metadata": {},
   "outputs": [],
   "source": []
  },
  {
   "cell_type": "code",
   "execution_count": 4,
   "metadata": {},
   "outputs": [],
   "source": [
    "\n",
    "            "
   ]
  },
  {
   "cell_type": "code",
   "execution_count": null,
   "metadata": {},
   "outputs": [],
   "source": []
  },
  {
   "cell_type": "code",
   "execution_count": null,
   "metadata": {},
   "outputs": [],
   "source": []
  },
  {
   "cell_type": "code",
   "execution_count": null,
   "metadata": {},
   "outputs": [],
   "source": []
  },
  {
   "cell_type": "code",
   "execution_count": null,
   "metadata": {},
   "outputs": [],
   "source": []
  },
  {
   "cell_type": "code",
   "execution_count": null,
   "metadata": {},
   "outputs": [],
   "source": []
  }
 ],
 "metadata": {
  "kernelspec": {
   "display_name": "Python 3",
   "language": "python",
   "name": "python3"
  },
  "language_info": {
   "codemirror_mode": {
    "name": "ipython",
    "version": 3
   },
   "file_extension": ".py",
   "mimetype": "text/x-python",
   "name": "python",
   "nbconvert_exporter": "python",
   "pygments_lexer": "ipython3",
   "version": "3.6.8"
  }
 },
 "nbformat": 4,
 "nbformat_minor": 2
}
