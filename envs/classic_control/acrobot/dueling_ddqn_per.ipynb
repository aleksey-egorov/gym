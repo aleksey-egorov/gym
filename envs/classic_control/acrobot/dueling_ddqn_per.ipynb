{
 "cells": [
  {
   "cell_type": "code",
   "execution_count": 1,
   "metadata": {},
   "outputs": [],
   "source": [
    "import os\n",
    "import sys\n",
    "folder = os.path.dirname('../../../algorithms/')\n",
    "sys.path.append(folder)\n",
    "\n",
    "from DuelingDDQN_PER.trainer import Dueling_DDQN_PER_Trainer"
   ]
  },
  {
   "cell_type": "code",
   "execution_count": 2,
   "metadata": {},
   "outputs": [],
   "source": [
    "env_name = 'Acrobot-v1'\n",
    "lr_base = 0.001\n",
    "lr_decay = 0.0001\n",
    "epsilon_base = 0.5 \n",
    "epsilon_decay = 0.002\n",
    "\n",
    "random_seed = 43\n",
    "gamma = 0.99                # discount for future rewards\n",
    "batch_size = 256         # num of transitions sampled from replay buffer\n",
    "alpha=0.9\n",
    "beta_base=0.3\n",
    "beta_multiplier=0.0005\n",
    "max_episodes = 100000         # max num of episodes\n",
    "max_timesteps = 3000        # max timesteps in one episode\n",
    "max_buffer_length = 5000000\n",
    "log_interval = 10           # print avg reward after interval\n",
    "threshold = -100"
   ]
  },
  {
   "cell_type": "code",
   "execution_count": 3,
   "metadata": {},
   "outputs": [],
   "source": [
    "fc_config = [\n",
    "        {'dim': [None, 64], 'dropout': False, 'activation': 'relu'},           \n",
    "    ] \n",
    "adv_stream_config = [\n",
    "        {'dim': [64, 64], 'dropout': False, 'activation': 'relu'},      \n",
    "        {'dim': [64, None], 'dropout': False, 'activation': False}\n",
    "    ] \n",
    "value_stream_config = [\n",
    "        {'dim': [64, 64], 'dropout': False, 'activation': 'relu'},      \n",
    "        {'dim': [64, 1], 'dropout': False, 'activation': False}\n",
    "    ] \n",
    "\n",
    "config = [fc_config, adv_stream_config, value_stream_config]\n"
   ]
  },
  {
   "cell_type": "code",
   "execution_count": 4,
   "metadata": {
    "scrolled": false
   },
   "outputs": [
    {
     "name": "stdout",
     "output_type": "stream",
     "text": [
      "NETWORK: Sequential(\n",
      "  (0): Linear(in_features=6, out_features=64, bias=True)\n",
      "  (1): ReLU()\n",
      ") Sequential(\n",
      "  (0): Linear(in_features=64, out_features=64, bias=True)\n",
      "  (1): ReLU()\n",
      "  (2): Linear(in_features=64, out_features=3, bias=True)\n",
      ") Sequential(\n",
      "  (0): Linear(in_features=64, out_features=64, bias=True)\n",
      "  (1): ReLU()\n",
      "  (2): Linear(in_features=64, out_features=1, bias=True)\n",
      ")\n",
      "Device: cuda:0\n",
      "NETWORK: Sequential(\n",
      "  (0): Linear(in_features=6, out_features=64, bias=True)\n",
      "  (1): ReLU()\n",
      ") Sequential(\n",
      "  (0): Linear(in_features=64, out_features=64, bias=True)\n",
      "  (1): ReLU()\n",
      "  (2): Linear(in_features=64, out_features=3, bias=True)\n",
      ") Sequential(\n",
      "  (0): Linear(in_features=64, out_features=64, bias=True)\n",
      "  (1): ReLU()\n",
      "  (2): Linear(in_features=64, out_features=1, bias=True)\n",
      ")\n",
      "Device: cuda:0\n",
      "Random Seed: 43\n",
      "action_space=Discrete(3)\n",
      "obs_space=Box(6,)\n",
      "threshold=-100 \n",
      "\n",
      "DIR=./preTrained/duel_ddqn_per NAME=duel_ddqn_per_Acrobot-v1_43\n",
      "Models loaded\n",
      "\n",
      "Training started ... \n",
      "Ep:    0  Rew: -163.00  Avg Rew: -163.00  LR:0.00100000  Bf: 0  Beta:0.3000  EPS:0.5000  Loss: 0.000000\n",
      "Ep:   10  Rew: -207.00  Avg Rew: -154.55  LR:0.00099900  Bf: 0  Beta:0.3050  EPS:0.4902  Loss: 0.713104\n",
      "Ep:   20  Rew: -139.00  Avg Rew: -149.67  LR:0.00099800  Bf: 0  Beta:0.3100  EPS:0.4808  Loss: 0.714124\n",
      "Ep:   30  Rew: -119.00  Avg Rew: -147.06  LR:0.00099701  Bf: 0  Beta:0.3150  EPS:0.4717  Loss: 0.814505\n",
      "Ep:   40  Rew:  -90.00  Avg Rew: -145.17  LR:0.00099602  Bf: 0  Beta:0.3200  EPS:0.4630  Loss: 0.880685\n",
      "Ep:   50  Rew: -100.00  Avg Rew: -144.82  LR:0.00099502  Bf: 0  Beta:0.3250  EPS:0.4545  Loss: 0.853931\n",
      "Ep:   60  Rew: -150.00  Avg Rew: -145.33  LR:0.00099404  Bf: 0  Beta:0.3300  EPS:0.4464  Loss: 0.742736\n",
      "Ep:   70  Rew:  -90.00  Avg Rew: -144.97  LR:0.00099305  Bf: 0  Beta:0.3350  EPS:0.4386  Loss: 0.772386\n",
      "Ep:   80  Rew: -103.00  Avg Rew: -142.90  LR:0.00099206  Bf: 0  Beta:0.3400  EPS:0.4310  Loss: 0.695393\n",
      "Ep:   90  Rew: -143.00  Avg Rew: -142.77  LR:0.00099108  Bf: 0  Beta:0.3450  EPS:0.4237  Loss: 0.659502\n",
      "Ep:  100  Rew: -173.00  Avg Rew: -142.36  LR:0.00099010  Bf: 0  Beta:0.3500  EPS:0.4167  Loss: 0.678278\n",
      "Ep:  110  Rew: -149.00  Avg Rew: -140.49  LR:0.00098912  Bf: 0  Beta:0.3550  EPS:0.4098  Loss: 0.696139\n",
      "Ep:  120  Rew: -131.00  Avg Rew: -138.87  LR:0.00098814  Bf: 0  Beta:0.3600  EPS:0.4032  Loss: 0.701556\n",
      "Ep:  130  Rew: -132.00  Avg Rew: -136.41  LR:0.00098717  Bf: 0  Beta:0.3650  EPS:0.3968  Loss: 0.690027\n",
      "Ep:  140  Rew: -131.00  Avg Rew: -136.01  LR:0.00098619  Bf: 0  Beta:0.3700  EPS:0.3906  Loss: 0.752122\n",
      "Ep:  150  Rew: -156.00  Avg Rew: -133.82  LR:0.00098522  Bf: 0  Beta:0.3750  EPS:0.3846  Loss: 0.805650\n",
      "Ep:  160  Rew: -129.00  Avg Rew: -130.60  LR:0.00098425  Bf: 0  Beta:0.3800  EPS:0.3788  Loss: 0.726631\n",
      "Ep:  170  Rew: -123.00  Avg Rew: -129.03  LR:0.00098328  Bf: 0  Beta:0.3850  EPS:0.3731  Loss: 0.714739\n",
      "Ep:  180  Rew: -177.00  Avg Rew: -129.90  LR:0.00098232  Bf: 0  Beta:0.3900  EPS:0.3676  Loss: 0.722402\n",
      "Ep:  190  Rew: -150.00  Avg Rew: -128.36  LR:0.00098135  Bf: 1  Beta:0.3950  EPS:0.3623  Loss: 0.749662\n",
      "Ep:  200  Rew:  -84.00  Avg Rew: -124.77  LR:0.00098039  Bf: 1  Beta:0.4000  EPS:0.3571  Loss: 0.817326\n",
      "Ep:  210  Rew:  -90.00  Avg Rew: -123.31  LR:0.00097943  Bf: 1  Beta:0.4050  EPS:0.3521  Loss: 0.828195\n",
      "Ep:  220  Rew: -147.00  Avg Rew: -122.54  LR:0.00097847  Bf: 1  Beta:0.4100  EPS:0.3472  Loss: 0.879384\n",
      "Ep:  230  Rew: -124.00  Avg Rew: -123.15  LR:0.00097752  Bf: 1  Beta:0.4150  EPS:0.3425  Loss: 0.915376\n",
      "Ep:  240  Rew: -143.00  Avg Rew: -120.48  LR:0.00097656  Bf: 1  Beta:0.4200  EPS:0.3378  Loss: 0.899196\n",
      "Ep:  250  Rew: -145.00  Avg Rew: -120.35  LR:0.00097561  Bf: 1  Beta:0.4250  EPS:0.3333  Loss: 0.907070\n",
      "Ep:  260  Rew: -117.00  Avg Rew: -119.51  LR:0.00097466  Bf: 1  Beta:0.4300  EPS:0.3289  Loss: 0.934925\n",
      "Ep:  270  Rew:  -95.00  Avg Rew: -117.30  LR:0.00097371  Bf: 1  Beta:0.4350  EPS:0.3247  Loss: 0.986056\n",
      "Ep:  280  Rew:  -92.00  Avg Rew: -115.60  LR:0.00097276  Bf: 1  Beta:0.4400  EPS:0.3205  Loss: 1.068925\n",
      "Ep:  290  Rew: -101.00  Avg Rew: -114.05  LR:0.00097182  Bf: 1  Beta:0.4450  EPS:0.3165  Loss: 1.034008\n",
      "Ep:  300  Rew: -106.00  Avg Rew: -114.41  LR:0.00097087  Bf: 1  Beta:0.4500  EPS:0.3125  Loss: 0.946604\n",
      "Ep:  310  Rew: -108.00  Avg Rew: -113.41  LR:0.00096993  Bf: 1  Beta:0.4550  EPS:0.3086  Loss: 0.904122\n",
      "Ep:  320  Rew:  -95.00  Avg Rew: -112.41  LR:0.00096899  Bf: 1  Beta:0.4600  EPS:0.3049  Loss: 0.940413\n",
      "Ep:  330  Rew: -107.00  Avg Rew: -111.02  LR:0.00096805  Bf: 1  Beta:0.4650  EPS:0.3012  Loss: 0.924076\n",
      "Ep:  340  Rew:  -86.00  Avg Rew: -111.62  LR:0.00096712  Bf: 1  Beta:0.4700  EPS:0.2976  Loss: 0.899117\n",
      "Ep:  350  Rew: -109.00  Avg Rew: -111.27  LR:0.00096618  Bf: 1  Beta:0.4750  EPS:0.2941  Loss: 1.014549\n",
      "Ep:  360  Rew:  -99.00  Avg Rew: -110.02  LR:0.00096525  Bf: 1  Beta:0.4800  EPS:0.2907  Loss: 1.016452\n",
      "Ep:  370  Rew: -122.00  Avg Rew: -110.62  LR:0.00096432  Bf: 1  Beta:0.4850  EPS:0.2874  Loss: 1.027699\n",
      "Ep:  380  Rew: -101.00  Avg Rew: -108.93  LR:0.00096339  Bf: 1  Beta:0.4900  EPS:0.2841  Loss: 1.030556\n",
      "Ep:  390  Rew: -126.00  Avg Rew: -109.21  LR:0.00096246  Bf: 1  Beta:0.4950  EPS:0.2809  Loss: 0.999315\n",
      "Ep:  400  Rew: -103.00  Avg Rew: -109.14  LR:0.00096154  Bf: 1  Beta:0.5000  EPS:0.2778  Loss: 1.092282\n",
      "Ep:  410  Rew:  -88.00  Avg Rew: -108.12  LR:0.00096061  Bf: 1  Beta:0.5050  EPS:0.2747  Loss: 1.023682\n",
      "Ep:  420  Rew: -107.00  Avg Rew: -107.40  LR:0.00095969  Bf: 1  Beta:0.5100  EPS:0.2717  Loss: 1.046205\n",
      "Ep:  430  Rew:  -88.00  Avg Rew: -106.43  LR:0.00095877  Bf: 1  Beta:0.5150  EPS:0.2688  Loss: 0.961198\n",
      "Ep:  440  Rew:  -96.00  Avg Rew: -105.86  LR:0.00095785  Bf: 1  Beta:0.5200  EPS:0.2660  Loss: 1.022195\n",
      "Ep:  450  Rew: -109.00  Avg Rew: -104.65  LR:0.00095694  Bf: 1  Beta:0.5250  EPS:0.2632  Loss: 1.023271\n",
      "Ep:  460  Rew: -106.00  Avg Rew: -105.90  LR:0.00095602  Bf: 1  Beta:0.5300  EPS:0.2604  Loss: 1.000905\n",
      "Ep:  470  Rew:  -91.00  Avg Rew: -104.39  LR:0.00095511  Bf: 1  Beta:0.5350  EPS:0.2577  Loss: 1.045186\n",
      "Ep:  480  Rew:  -78.00  Avg Rew: -103.80  LR:0.00095420  Bf: 1  Beta:0.5400  EPS:0.2551  Loss: 1.072749\n",
      "Ep:  490  Rew: -114.00  Avg Rew: -102.81  LR:0.00095329  Bf: 1  Beta:0.5450  EPS:0.2525  Loss: 1.007402\n",
      "Ep:  500  Rew: -116.00  Avg Rew: -102.41  LR:0.00095238  Bf: 1  Beta:0.5500  EPS:0.2500  Loss: 0.976734\n",
      "Ep:  510  Rew:  -94.00  Avg Rew: -103.58  LR:0.00095147  Bf: 1  Beta:0.5550  EPS:0.2475  Loss: 1.023997\n",
      "Ep:  520  Rew: -101.00  Avg Rew: -103.31  LR:0.00095057  Bf: 1  Beta:0.5600  EPS:0.2451  Loss: 1.108881\n",
      "Ep:  530  Rew:  -83.00  Avg Rew: -102.98  LR:0.00094967  Bf: 1  Beta:0.5650  EPS:0.2427  Loss: 1.096475\n",
      "Ep:  540  Rew:  -77.00  Avg Rew: -101.37  LR:0.00094877  Bf: 1  Beta:0.5700  EPS:0.2404  Loss: 1.023625\n",
      "Ep:  550  Rew:  -87.00  Avg Rew: -101.15  LR:0.00094787  Bf: 1  Beta:0.5750  EPS:0.2381  Loss: 1.013117\n",
      "Ep:  560  Rew:  -90.00  Avg Rew:  -99.85  LR:0.00094697  Bf: 1  Beta:0.5800  EPS:0.2358  Loss: 0.941687\n",
      "Ep:  560  Rew:  -90.00  Avg Rew:  -99.85  LR:0.00094697  Bf: 1  Beta:0.5800 EPS:0.2358  Loss: 0.941687\n",
      "########## Solved! ###########\n",
      "Training time: 422.24 sec\n"
     ]
    }
   ],
   "source": [
    "agent = Dueling_DDQN_PER_Trainer(env_name, config, random_seed=random_seed, lr_base=lr_base, lr_decay=lr_decay, \n",
    "                   epsilon_base=epsilon_base, epsilon_decay=epsilon_decay, gamma=gamma, batch_size=batch_size,\n",
    "                   max_episodes=max_episodes, max_timesteps=max_timesteps, \n",
    "                   max_buffer_length=max_buffer_length, log_interval=log_interval, threshold=threshold,\n",
    "                   alpha=alpha, beta_base=beta_base, beta_multiplier=beta_multiplier)\n",
    "agent.train()"
   ]
  },
  {
   "cell_type": "code",
   "execution_count": 5,
   "metadata": {
    "scrolled": false
   },
   "outputs": [
    {
     "name": "stdout",
     "output_type": "stream",
     "text": [
      "Test episode: 1\tReward: -71.00\n",
      "Test episode: 2\tReward: -70.00\n",
      "Test episode: 3\tReward: -71.00\n"
     ]
    }
   ],
   "source": [
    "agent.test()"
   ]
  },
  {
   "cell_type": "code",
   "execution_count": null,
   "metadata": {},
   "outputs": [],
   "source": []
  },
  {
   "cell_type": "code",
   "execution_count": null,
   "metadata": {},
   "outputs": [],
   "source": []
  },
  {
   "cell_type": "code",
   "execution_count": null,
   "metadata": {},
   "outputs": [],
   "source": [
    "\n",
    "            "
   ]
  },
  {
   "cell_type": "code",
   "execution_count": null,
   "metadata": {},
   "outputs": [],
   "source": []
  },
  {
   "cell_type": "code",
   "execution_count": null,
   "metadata": {},
   "outputs": [],
   "source": []
  },
  {
   "cell_type": "code",
   "execution_count": null,
   "metadata": {},
   "outputs": [],
   "source": []
  },
  {
   "cell_type": "code",
   "execution_count": null,
   "metadata": {},
   "outputs": [],
   "source": []
  },
  {
   "cell_type": "code",
   "execution_count": null,
   "metadata": {},
   "outputs": [],
   "source": []
  }
 ],
 "metadata": {
  "kernelspec": {
   "display_name": "Python 3",
   "language": "python",
   "name": "python3"
  },
  "language_info": {
   "codemirror_mode": {
    "name": "ipython",
    "version": 3
   },
   "file_extension": ".py",
   "mimetype": "text/x-python",
   "name": "python",
   "nbconvert_exporter": "python",
   "pygments_lexer": "ipython3",
   "version": "3.6.8"
  }
 },
 "nbformat": 4,
 "nbformat_minor": 2
}
