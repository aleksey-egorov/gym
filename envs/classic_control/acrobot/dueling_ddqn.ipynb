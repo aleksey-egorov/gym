{
 "cells": [
  {
   "cell_type": "code",
   "execution_count": 1,
   "metadata": {},
   "outputs": [],
   "source": [
    "import os\n",
    "import sys\n",
    "folder = os.path.dirname('../../../algorithms/')\n",
    "sys.path.append(folder)\n",
    "\n",
    "from DuelingDDQN.trainer import DuelingDDQN_Trainer"
   ]
  },
  {
   "cell_type": "code",
   "execution_count": 2,
   "metadata": {},
   "outputs": [],
   "source": [
    "env_name = 'Acrobot-v1'\n",
    "lr_base = 0.001\n",
    "lr_decay = 0.0001\n",
    "epsilon_base = 0.5 \n",
    "epsilon_decay = 0.002\n",
    "\n",
    "random_seed = 42\n",
    "gamma = 0.99                # discount for future rewards\n",
    "batch_size = 256         # num of transitions sampled from replay buffer\n",
    "max_episodes = 100000         # max num of episodes\n",
    "max_timesteps = 3000        # max timesteps in one episode\n",
    "max_buffer_length = 5000000\n",
    "log_interval = 10           # print avg reward after interval\n",
    "threshold = -100"
   ]
  },
  {
   "cell_type": "code",
   "execution_count": 3,
   "metadata": {},
   "outputs": [],
   "source": [
    "fc_config = [\n",
    "        {'dim': [None, 64], 'dropout': False, 'activation': 'relu'},              \n",
    "    ] \n",
    "adv_stream_config = [\n",
    "        {'dim': [64, 64], 'dropout': False, 'activation': 'relu'},      \n",
    "        {'dim': [64, None], 'dropout': False, 'activation': False}\n",
    "    ] \n",
    "value_stream_config = [\n",
    "        {'dim': [64, 64], 'dropout': False, 'activation': 'relu'},      \n",
    "        {'dim': [64, 1], 'dropout': False, 'activation': False}\n",
    "    ] \n",
    "\n",
    "config = [fc_config, adv_stream_config, value_stream_config]\n"
   ]
  },
  {
   "cell_type": "code",
   "execution_count": null,
   "metadata": {},
   "outputs": [],
   "source": []
  },
  {
   "cell_type": "code",
   "execution_count": 4,
   "metadata": {
    "scrolled": false
   },
   "outputs": [
    {
     "name": "stdout",
     "output_type": "stream",
     "text": [
      "NETWORK: Sequential(\n",
      "  (0): Linear(in_features=6, out_features=64, bias=True)\n",
      "  (1): ReLU()\n",
      ") Sequential(\n",
      "  (0): Linear(in_features=64, out_features=64, bias=True)\n",
      "  (1): ReLU()\n",
      "  (2): Linear(in_features=64, out_features=3, bias=True)\n",
      ") Sequential(\n",
      "  (0): Linear(in_features=64, out_features=64, bias=True)\n",
      "  (1): ReLU()\n",
      "  (2): Linear(in_features=64, out_features=1, bias=True)\n",
      ")\n",
      "Device: cuda:0\n",
      "NETWORK: Sequential(\n",
      "  (0): Linear(in_features=6, out_features=64, bias=True)\n",
      "  (1): ReLU()\n",
      ") Sequential(\n",
      "  (0): Linear(in_features=64, out_features=64, bias=True)\n",
      "  (1): ReLU()\n",
      "  (2): Linear(in_features=64, out_features=3, bias=True)\n",
      ") Sequential(\n",
      "  (0): Linear(in_features=64, out_features=64, bias=True)\n",
      "  (1): ReLU()\n",
      "  (2): Linear(in_features=64, out_features=1, bias=True)\n",
      ")\n",
      "Device: cuda:0\n",
      "Random Seed: 42\n",
      "action_space=Discrete(3)\n",
      "obs_space=Box(6,)\n",
      "threshold=-100 \n",
      "\n",
      "DIR=./preTrained/duel_ddqn NAME=duel_ddqn_Acrobot-v1_42\n",
      "No models to load\n",
      "\n",
      "Training started ... \n",
      "Ep:    0  Rew: -500.00  Avg Rew: -500.00  LR:0.00100000  Bf: 0  EPS:0.5000  Loss: 0.006043\n",
      "Ep:   10  Rew: -458.00  Avg Rew: -484.27  LR:0.00099900  Bf: 0  EPS:0.4902  Loss: 0.124058\n",
      "Ep:   20  Rew: -500.00  Avg Rew: -485.86  LR:0.00099800  Bf: 0  EPS:0.4808  Loss: 0.335218\n",
      "Ep:   30  Rew: -317.00  Avg Rew: -468.55  LR:0.00099701  Bf: 0  EPS:0.4717  Loss: 0.738943\n",
      "Ep:   40  Rew: -500.00  Avg Rew: -435.90  LR:0.00099602  Bf: 0  EPS:0.4630  Loss: 0.975462\n",
      "Ep:   50  Rew: -148.00  Avg Rew: -387.45  LR:0.00099502  Bf: 0  EPS:0.4545  Loss: 1.379147\n",
      "Ep:   60  Rew: -109.00  Avg Rew: -346.77  LR:0.00099404  Bf: 0  EPS:0.4464  Loss: 1.767733\n",
      "Ep:   70  Rew: -172.00  Avg Rew: -318.08  LR:0.00099305  Bf: 0  EPS:0.4386  Loss: 2.198278\n",
      "Ep:   80  Rew: -125.00  Avg Rew: -295.69  LR:0.00099206  Bf: 0  EPS:0.4310  Loss: 1.697561\n",
      "Ep:   90  Rew: -103.00  Avg Rew: -278.53  LR:0.00099108  Bf: 1  EPS:0.4237  Loss: 1.773166\n",
      "Ep:  100  Rew: -131.00  Avg Rew: -263.29  LR:0.00099010  Bf: 1  EPS:0.4167  Loss: 2.845697\n",
      "Ep:  110  Rew: -235.00  Avg Rew: -229.44  LR:0.00098912  Bf: 1  EPS:0.4098  Loss: 2.202655\n",
      "Ep:  120  Rew: -129.00  Avg Rew: -193.63  LR:0.00098814  Bf: 1  EPS:0.4032  Loss: 1.457972\n",
      "Ep:  130  Rew: -119.00  Avg Rew: -162.49  LR:0.00098717  Bf: 1  EPS:0.3968  Loss: 1.766521\n",
      "Ep:  140  Rew: -136.00  Avg Rew: -143.18  LR:0.00098619  Bf: 1  EPS:0.3906  Loss: 1.163350\n",
      "Ep:  150  Rew: -135.00  Avg Rew: -136.63  LR:0.00098522  Bf: 1  EPS:0.3846  Loss: 1.723708\n",
      "Ep:  160  Rew: -116.00  Avg Rew: -134.50  LR:0.00098425  Bf: 1  EPS:0.3788  Loss: 1.365465\n",
      "Ep:  170  Rew: -134.00  Avg Rew: -134.16  LR:0.00098328  Bf: 1  EPS:0.3731  Loss: 1.858239\n",
      "Ep:  180  Rew: -104.00  Avg Rew: -133.35  LR:0.00098232  Bf: 1  EPS:0.3676  Loss: 1.422914\n",
      "Ep:  190  Rew: -117.00  Avg Rew: -130.89  LR:0.00098135  Bf: 1  EPS:0.3623  Loss: 1.760120\n",
      "Ep:  200  Rew: -116.00  Avg Rew: -128.09  LR:0.00098039  Bf: 1  EPS:0.3571  Loss: 1.225706\n",
      "Ep:  210  Rew: -158.00  Avg Rew: -127.54  LR:0.00097943  Bf: 1  EPS:0.3521  Loss: 1.731629\n",
      "Ep:  220  Rew:  -96.00  Avg Rew: -126.11  LR:0.00097847  Bf: 1  EPS:0.3472  Loss: 1.606374\n",
      "Ep:  230  Rew:  -97.00  Avg Rew: -126.61  LR:0.00097752  Bf: 1  EPS:0.3425  Loss: 2.019950\n",
      "Ep:  240  Rew: -164.00  Avg Rew: -125.06  LR:0.00097656  Bf: 1  EPS:0.3378  Loss: 1.956294\n",
      "Ep:  250  Rew: -113.00  Avg Rew: -127.56  LR:0.00097561  Bf: 1  EPS:0.3333  Loss: 1.649917\n",
      "Ep:  260  Rew: -108.00  Avg Rew: -127.51  LR:0.00097466  Bf: 1  EPS:0.3289  Loss: 1.497114\n",
      "Ep:  270  Rew: -109.00  Avg Rew: -126.48  LR:0.00097371  Bf: 1  EPS:0.3247  Loss: 1.334488\n",
      "Ep:  280  Rew: -117.00  Avg Rew: -125.77  LR:0.00097276  Bf: 1  EPS:0.3205  Loss: 1.415181\n",
      "Ep:  290  Rew: -116.00  Avg Rew: -126.26  LR:0.00097182  Bf: 1  EPS:0.3165  Loss: 1.555073\n",
      "Ep:  300  Rew: -112.00  Avg Rew: -126.08  LR:0.00097087  Bf: 1  EPS:0.3125  Loss: 1.560174\n",
      "Ep:  310  Rew: -122.00  Avg Rew: -123.79  LR:0.00096993  Bf: 1  EPS:0.3086  Loss: 1.607614\n",
      "Ep:  320  Rew:  -98.00  Avg Rew: -122.55  LR:0.00096899  Bf: 1  EPS:0.3049  Loss: 1.378990\n",
      "Ep:  330  Rew: -140.00  Avg Rew: -121.24  LR:0.00096805  Bf: 1  EPS:0.3012  Loss: 1.837642\n",
      "Ep:  340  Rew:  -91.00  Avg Rew: -119.05  LR:0.00096712  Bf: 1  EPS:0.2976  Loss: 1.705460\n",
      "Ep:  350  Rew: -105.00  Avg Rew: -116.50  LR:0.00096618  Bf: 1  EPS:0.2941  Loss: 1.191421\n",
      "Ep:  360  Rew: -118.00  Avg Rew: -116.22  LR:0.00096525  Bf: 1  EPS:0.2907  Loss: 2.052065\n",
      "Ep:  370  Rew: -120.00  Avg Rew: -114.31  LR:0.00096432  Bf: 1  EPS:0.2874  Loss: 1.288278\n",
      "Ep:  380  Rew: -112.00  Avg Rew: -112.96  LR:0.00096339  Bf: 1  EPS:0.2841  Loss: 1.036295\n",
      "Ep:  390  Rew:  -94.00  Avg Rew: -111.12  LR:0.00096246  Bf: 1  EPS:0.2809  Loss: 1.346364\n",
      "Ep:  400  Rew: -131.00  Avg Rew: -110.82  LR:0.00096154  Bf: 1  EPS:0.2778  Loss: 0.928694\n",
      "Ep:  410  Rew: -155.00  Avg Rew: -110.61  LR:0.00096061  Bf: 1  EPS:0.2747  Loss: 1.574189\n",
      "Ep:  420  Rew: -104.00  Avg Rew: -111.50  LR:0.00095969  Bf: 1  EPS:0.2717  Loss: 1.262485\n",
      "Ep:  430  Rew: -127.00  Avg Rew: -110.50  LR:0.00095877  Bf: 1  EPS:0.2688  Loss: 1.284649\n",
      "Ep:  440  Rew: -134.00  Avg Rew: -111.07  LR:0.00095785  Bf: 1  EPS:0.2660  Loss: 1.872587\n",
      "Ep:  450  Rew: -142.00  Avg Rew: -108.95  LR:0.00095694  Bf: 1  EPS:0.2632  Loss: 1.848982\n",
      "Ep:  460  Rew: -107.00  Avg Rew: -106.69  LR:0.00095602  Bf: 1  EPS:0.2604  Loss: 1.295791\n",
      "Ep:  470  Rew: -107.00  Avg Rew: -107.24  LR:0.00095511  Bf: 1  EPS:0.2577  Loss: 1.416766\n",
      "Ep:  480  Rew:  -99.00  Avg Rew: -107.01  LR:0.00095420  Bf: 1  EPS:0.2551  Loss: 1.392171\n",
      "Ep:  490  Rew: -119.00  Avg Rew: -107.37  LR:0.00095329  Bf: 1  EPS:0.2525  Loss: 1.072323\n",
      "Ep:  500  Rew: -108.00  Avg Rew: -107.01  LR:0.00095238  Bf: 1  EPS:0.2500  Loss: 1.474712\n",
      "Ep:  510  Rew:  -83.00  Avg Rew: -106.08  LR:0.00095147  Bf: 2  EPS:0.2475  Loss: 0.975590\n",
      "Ep:  520  Rew:  -95.00  Avg Rew: -104.93  LR:0.00095057  Bf: 2  EPS:0.2451  Loss: 1.215742\n",
      "Ep:  530  Rew:  -96.00  Avg Rew: -104.60  LR:0.00094967  Bf: 2  EPS:0.2427  Loss: 1.190948\n",
      "Ep:  540  Rew: -151.00  Avg Rew: -104.98  LR:0.00094877  Bf: 2  EPS:0.2404  Loss: 1.435061\n",
      "Ep:  550  Rew:  -93.00  Avg Rew: -106.03  LR:0.00094787  Bf: 2  EPS:0.2381  Loss: 1.223802\n",
      "Ep:  560  Rew: -102.00  Avg Rew: -107.43  LR:0.00094697  Bf: 2  EPS:0.2358  Loss: 1.285429\n",
      "Ep:  570  Rew:  -86.00  Avg Rew: -104.95  LR:0.00094607  Bf: 2  EPS:0.2336  Loss: 1.245621\n",
      "Ep:  580  Rew:  -83.00  Avg Rew: -103.36  LR:0.00094518  Bf: 2  EPS:0.2315  Loss: 1.309564\n",
      "Ep:  590  Rew:  -79.00  Avg Rew: -102.95  LR:0.00094429  Bf: 2  EPS:0.2294  Loss: 1.874393\n",
      "Ep:  600  Rew:  -84.00  Avg Rew: -101.93  LR:0.00094340  Bf: 2  EPS:0.2273  Loss: 1.476017\n",
      "Ep:  610  Rew:  -82.00  Avg Rew: -102.55  LR:0.00094251  Bf: 2  EPS:0.2252  Loss: 1.088517\n",
      "Ep:  620  Rew:  -95.00  Avg Rew: -104.40  LR:0.00094162  Bf: 2  EPS:0.2232  Loss: 1.273644\n",
      "Ep:  630  Rew:  -99.00  Avg Rew: -104.59  LR:0.00094073  Bf: 2  EPS:0.2212  Loss: 1.521458\n",
      "Ep:  640  Rew: -160.00  Avg Rew: -104.35  LR:0.00093985  Bf: 2  EPS:0.2193  Loss: 1.051524\n",
      "Ep:  650  Rew: -120.00  Avg Rew: -104.82  LR:0.00093897  Bf: 2  EPS:0.2174  Loss: 1.039905\n",
      "Ep:  660  Rew: -101.00  Avg Rew: -103.41  LR:0.00093809  Bf: 2  EPS:0.2155  Loss: 1.736126\n",
      "Ep:  670  Rew: -120.00  Avg Rew: -104.84  LR:0.00093721  Bf: 2  EPS:0.2137  Loss: 1.412862\n",
      "Ep:  680  Rew: -119.00  Avg Rew: -106.05  LR:0.00093633  Bf: 2  EPS:0.2119  Loss: 1.204297\n",
      "Ep:  690  Rew:  -88.00  Avg Rew: -105.39  LR:0.00093545  Bf: 2  EPS:0.2101  Loss: 1.539036\n",
      "Ep:  700  Rew: -130.00  Avg Rew: -105.56  LR:0.00093458  Bf: 2  EPS:0.2083  Loss: 1.118760\n",
      "Ep:  710  Rew: -116.00  Avg Rew: -104.35  LR:0.00093371  Bf: 2  EPS:0.2066  Loss: 1.371434\n",
      "Ep:  720  Rew:  -95.00  Avg Rew: -102.70  LR:0.00093284  Bf: 2  EPS:0.2049  Loss: 1.315994\n",
      "Ep:  730  Rew:  -85.00  Avg Rew: -102.13  LR:0.00093197  Bf: 2  EPS:0.2033  Loss: 1.160678\n",
      "Ep:  740  Rew:  -91.00  Avg Rew: -100.67  LR:0.00093110  Bf: 2  EPS:0.2016  Loss: 1.636065\n",
      "Ep:  742  Rew:  -77.00  Avg Rew:  -99.98  LR:0.00093093  Bf: 2  EPS:0.2013  Loss: 1.253437\n",
      "########## Solved! ###########\n",
      "Training time: 647.95 sec\n"
     ]
    }
   ],
   "source": [
    "agent = DuelingDDQN_Trainer(env_name, config, random_seed=random_seed, lr_base=lr_base, lr_decay=lr_decay, \n",
    "                   epsilon_base=epsilon_base, epsilon_decay=epsilon_decay, gamma=gamma, batch_size=batch_size,\n",
    "                   max_episodes=max_episodes, max_timesteps=max_timesteps, \n",
    "                   max_buffer_length=max_buffer_length, log_interval=log_interval, threshold=threshold)\n",
    "agent.train()"
   ]
  },
  {
   "cell_type": "code",
   "execution_count": 5,
   "metadata": {
    "scrolled": false
   },
   "outputs": [
    {
     "name": "stdout",
     "output_type": "stream",
     "text": [
      "Test episode: 1\tReward: -72.00\n",
      "Test episode: 2\tReward: -84.00\n",
      "Test episode: 3\tReward: -78.00\n"
     ]
    }
   ],
   "source": [
    "agent.test()"
   ]
  },
  {
   "cell_type": "code",
   "execution_count": null,
   "metadata": {},
   "outputs": [],
   "source": []
  },
  {
   "cell_type": "code",
   "execution_count": null,
   "metadata": {},
   "outputs": [],
   "source": []
  },
  {
   "cell_type": "code",
   "execution_count": null,
   "metadata": {},
   "outputs": [],
   "source": []
  },
  {
   "cell_type": "code",
   "execution_count": null,
   "metadata": {},
   "outputs": [],
   "source": []
  },
  {
   "cell_type": "code",
   "execution_count": null,
   "metadata": {},
   "outputs": [],
   "source": []
  },
  {
   "cell_type": "code",
   "execution_count": null,
   "metadata": {},
   "outputs": [],
   "source": []
  },
  {
   "cell_type": "code",
   "execution_count": null,
   "metadata": {},
   "outputs": [],
   "source": []
  }
 ],
 "metadata": {
  "kernelspec": {
   "display_name": "Python 3",
   "language": "python",
   "name": "python3"
  },
  "language_info": {
   "codemirror_mode": {
    "name": "ipython",
    "version": 3
   },
   "file_extension": ".py",
   "mimetype": "text/x-python",
   "name": "python",
   "nbconvert_exporter": "python",
   "pygments_lexer": "ipython3",
   "version": "3.6.8"
  }
 },
 "nbformat": 4,
 "nbformat_minor": 2
}
