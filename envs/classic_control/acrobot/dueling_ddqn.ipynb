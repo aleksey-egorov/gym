{
 "cells": [
  {
   "cell_type": "code",
   "execution_count": 1,
   "metadata": {},
   "outputs": [],
   "source": [
    "import os\n",
    "import sys\n",
    "folder = os.path.dirname('../../../algorithms/')\n",
    "sys.path.append(folder)\n",
    "\n",
    "from DuelingDDQN.trainer import DuelingDDQN_Trainer"
   ]
  },
  {
   "cell_type": "code",
   "execution_count": 2,
   "metadata": {},
   "outputs": [],
   "source": [
    "env_name = 'Acrobot-v1'\n",
    "lr_base = 0.001\n",
    "lr_decay = 0.0001\n",
    "epsilon_base = 0.5 \n",
    "epsilon_decay = 0.002\n",
    "\n",
    "random_seed = 42\n",
    "gamma = 0.99                # discount for future rewards\n",
    "batch_size = 256         # num of transitions sampled from replay buffer\n",
    "max_episodes = 100000         # max num of episodes\n",
    "max_timesteps = 3000        # max timesteps in one episode\n",
    "max_buffer_length = 5000000\n",
    "log_interval = 10           # print avg reward after interval\n",
    "threshold = -100"
   ]
  },
  {
   "cell_type": "code",
   "execution_count": 3,
   "metadata": {},
   "outputs": [],
   "source": [
    "fc_config = [\n",
    "        {'dim': [None, 64], 'dropout': False, 'activation': 'relu'},              \n",
    "    ] \n",
    "adv_stream_config = [\n",
    "        {'dim': [64, 64], 'dropout': False, 'activation': 'relu'},      \n",
    "        {'dim': [64, None], 'dropout': False, 'activation': False}\n",
    "    ] \n",
    "value_stream_config = [\n",
    "        {'dim': [64, 64], 'dropout': False, 'activation': 'relu'},      \n",
    "        {'dim': [64, 1], 'dropout': False, 'activation': False}\n",
    "    ] \n",
    "\n",
    "config = [fc_config, adv_stream_config, value_stream_config]\n"
   ]
  },
  {
   "cell_type": "code",
   "execution_count": null,
   "metadata": {},
   "outputs": [],
   "source": []
  },
  {
   "cell_type": "code",
   "execution_count": 4,
   "metadata": {
    "scrolled": false
   },
   "outputs": [
    {
     "name": "stdout",
     "output_type": "stream",
     "text": [
      "NETWORK: Sequential(\n",
      "  (0): Linear(in_features=6, out_features=64, bias=True)\n",
      "  (1): ReLU()\n",
      ") Sequential(\n",
      "  (0): Linear(in_features=64, out_features=64, bias=True)\n",
      "  (1): ReLU()\n",
      "  (2): Linear(in_features=64, out_features=3, bias=True)\n",
      ") Sequential(\n",
      "  (0): Linear(in_features=64, out_features=64, bias=True)\n",
      "  (1): ReLU()\n",
      "  (2): Linear(in_features=64, out_features=1, bias=True)\n",
      ")\n",
      "Device: cuda:0\n",
      "NETWORK: Sequential(\n",
      "  (0): Linear(in_features=6, out_features=64, bias=True)\n",
      "  (1): ReLU()\n",
      ") Sequential(\n",
      "  (0): Linear(in_features=64, out_features=64, bias=True)\n",
      "  (1): ReLU()\n",
      "  (2): Linear(in_features=64, out_features=3, bias=True)\n",
      ") Sequential(\n",
      "  (0): Linear(in_features=64, out_features=64, bias=True)\n",
      "  (1): ReLU()\n",
      "  (2): Linear(in_features=64, out_features=1, bias=True)\n",
      ")\n",
      "Device: cuda:0\n",
      "Random Seed: 42\n",
      "action_space=Discrete(3)\n",
      "obs_space=Box(6,)\n",
      "threshold=-100 \n",
      "\n",
      "DIR=./preTrained/duel_ddqn NAME=duel_ddqn_Acrobot-v1_42\n",
      "Models loaded\n",
      "\n",
      "Training started ... \n",
      "Ep:    0  Rew: -194.00  Avg Rew: -194.00  LR:0.00100000  Bf: 0  EPS:0.5000  Loss: 0.103808\n",
      "Ep:   10  Rew: -162.00  Avg Rew: -165.64  LR:0.00099900  Bf: 0  EPS:0.4902  Loss: 0.832252\n",
      "Ep:   20  Rew: -154.00  Avg Rew: -161.76  LR:0.00099800  Bf: 0  EPS:0.4808  Loss: 0.673141\n",
      "Ep:   30  Rew:  -95.00  Avg Rew: -152.97  LR:0.00099701  Bf: 0  EPS:0.4717  Loss: 0.734119\n",
      "Ep:   40  Rew: -171.00  Avg Rew: -153.93  LR:0.00099602  Bf: 0  EPS:0.4630  Loss: 0.721355\n",
      "Ep:   50  Rew: -132.00  Avg Rew: -151.45  LR:0.00099502  Bf: 0  EPS:0.4545  Loss: 0.599501\n",
      "Ep:   60  Rew: -129.00  Avg Rew: -149.26  LR:0.00099404  Bf: 0  EPS:0.4464  Loss: 0.605900\n",
      "Ep:   70  Rew: -161.00  Avg Rew: -147.76  LR:0.00099305  Bf: 0  EPS:0.4386  Loss: 0.645790\n",
      "Ep:   80  Rew: -402.00  Avg Rew: -150.12  LR:0.00099206  Bf: 0  EPS:0.4310  Loss: 0.632332\n",
      "Ep:   90  Rew: -347.00  Avg Rew: -152.74  LR:0.00099108  Bf: 0  EPS:0.4237  Loss: 0.768445\n",
      "Ep:  100  Rew: -113.00  Avg Rew: -151.20  LR:0.00099010  Bf: 0  EPS:0.4167  Loss: 0.830475\n",
      "Ep:  110  Rew: -116.00  Avg Rew: -148.10  LR:0.00098912  Bf: 0  EPS:0.4098  Loss: 0.979037\n",
      "Ep:  120  Rew: -127.00  Avg Rew: -144.24  LR:0.00098814  Bf: 0  EPS:0.4032  Loss: 1.107675\n",
      "Ep:  130  Rew: -115.00  Avg Rew: -142.65  LR:0.00098717  Bf: 0  EPS:0.3968  Loss: 1.119654\n",
      "Ep:  140  Rew: -104.00  Avg Rew: -139.58  LR:0.00098619  Bf: 0  EPS:0.3906  Loss: 1.139453\n",
      "Ep:  150  Rew:  -89.00  Avg Rew: -138.09  LR:0.00098522  Bf: 0  EPS:0.3846  Loss: 1.195401\n",
      "Ep:  160  Rew: -160.00  Avg Rew: -138.01  LR:0.00098425  Bf: 0  EPS:0.3788  Loss: 1.112001\n",
      "Ep:  170  Rew: -108.00  Avg Rew: -136.03  LR:0.00098328  Bf: 0  EPS:0.3731  Loss: 1.151474\n",
      "Ep:  180  Rew: -118.00  Avg Rew: -132.10  LR:0.00098232  Bf: 1  EPS:0.3676  Loss: 1.151644\n",
      "Ep:  190  Rew: -142.00  Avg Rew: -126.64  LR:0.00098135  Bf: 1  EPS:0.3623  Loss: 1.097990\n",
      "Ep:  200  Rew: -129.00  Avg Rew: -124.78  LR:0.00098039  Bf: 1  EPS:0.3571  Loss: 1.087558\n",
      "Ep:  210  Rew: -154.00  Avg Rew: -124.62  LR:0.00097943  Bf: 1  EPS:0.3521  Loss: 1.191929\n",
      "Ep:  220  Rew:  -99.00  Avg Rew: -124.34  LR:0.00097847  Bf: 1  EPS:0.3472  Loss: 1.284349\n",
      "Ep:  230  Rew: -149.00  Avg Rew: -124.35  LR:0.00097752  Bf: 1  EPS:0.3425  Loss: 1.083930\n",
      "Ep:  240  Rew: -121.00  Avg Rew: -122.78  LR:0.00097656  Bf: 1  EPS:0.3378  Loss: 1.115131\n",
      "Ep:  250  Rew: -101.00  Avg Rew: -122.05  LR:0.00097561  Bf: 1  EPS:0.3333  Loss: 1.106310\n",
      "Ep:  260  Rew:  -94.00  Avg Rew: -118.76  LR:0.00097466  Bf: 1  EPS:0.3289  Loss: 1.117216\n",
      "Ep:  270  Rew: -115.00  Avg Rew: -118.69  LR:0.00097371  Bf: 1  EPS:0.3247  Loss: 1.065079\n",
      "Ep:  280  Rew: -115.00  Avg Rew: -117.80  LR:0.00097276  Bf: 1  EPS:0.3205  Loss: 1.115262\n",
      "Ep:  290  Rew:  -81.00  Avg Rew: -116.51  LR:0.00097182  Bf: 1  EPS:0.3165  Loss: 1.123788\n",
      "Ep:  300  Rew: -133.00  Avg Rew: -115.17  LR:0.00097087  Bf: 1  EPS:0.3125  Loss: 1.100182\n",
      "Ep:  310  Rew:  -94.00  Avg Rew: -112.83  LR:0.00096993  Bf: 1  EPS:0.3086  Loss: 1.184794\n",
      "Ep:  320  Rew: -142.00  Avg Rew: -112.66  LR:0.00096899  Bf: 1  EPS:0.3049  Loss: 1.097863\n",
      "Ep:  330  Rew: -108.00  Avg Rew: -111.75  LR:0.00096805  Bf: 1  EPS:0.3012  Loss: 1.107548\n",
      "Ep:  340  Rew: -112.00  Avg Rew: -112.20  LR:0.00096712  Bf: 1  EPS:0.2976  Loss: 1.100177\n",
      "Ep:  350  Rew:  -95.00  Avg Rew: -111.28  LR:0.00096618  Bf: 1  EPS:0.2941  Loss: 1.136823\n",
      "Ep:  360  Rew:  -98.00  Avg Rew: -111.21  LR:0.00096525  Bf: 1  EPS:0.2907  Loss: 1.091252\n",
      "Ep:  370  Rew:  -83.00  Avg Rew: -109.91  LR:0.00096432  Bf: 1  EPS:0.2874  Loss: 1.111877\n",
      "Ep:  380  Rew:  -88.00  Avg Rew: -109.73  LR:0.00096339  Bf: 1  EPS:0.2841  Loss: 1.063742\n",
      "Ep:  390  Rew: -104.00  Avg Rew: -109.38  LR:0.00096246  Bf: 1  EPS:0.2809  Loss: 1.035186\n",
      "Ep:  400  Rew: -139.00  Avg Rew: -109.83  LR:0.00096154  Bf: 1  EPS:0.2778  Loss: 1.081062\n",
      "Ep:  410  Rew: -105.00  Avg Rew: -108.54  LR:0.00096061  Bf: 1  EPS:0.2747  Loss: 1.085639\n",
      "Ep:  420  Rew: -147.00  Avg Rew: -107.43  LR:0.00095969  Bf: 1  EPS:0.2717  Loss: 1.002026\n",
      "Ep:  430  Rew:  -99.00  Avg Rew: -106.82  LR:0.00095877  Bf: 1  EPS:0.2688  Loss: 1.047185\n",
      "Ep:  440  Rew: -126.00  Avg Rew: -105.90  LR:0.00095785  Bf: 1  EPS:0.2660  Loss: 1.061165\n",
      "Ep:  450  Rew: -110.00  Avg Rew: -105.06  LR:0.00095694  Bf: 1  EPS:0.2632  Loss: 1.042608\n",
      "Ep:  460  Rew: -171.00  Avg Rew: -105.80  LR:0.00095602  Bf: 1  EPS:0.2604  Loss: 0.988421\n",
      "Ep:  470  Rew: -110.00  Avg Rew: -105.61  LR:0.00095511  Bf: 1  EPS:0.2577  Loss: 1.042852\n",
      "Ep:  480  Rew:  -91.00  Avg Rew: -103.83  LR:0.00095420  Bf: 1  EPS:0.2551  Loss: 1.088254\n",
      "Ep:  490  Rew:  -85.00  Avg Rew: -103.73  LR:0.00095329  Bf: 1  EPS:0.2525  Loss: 0.999499\n",
      "Ep:  500  Rew:  -98.00  Avg Rew: -102.47  LR:0.00095238  Bf: 1  EPS:0.2500  Loss: 1.106793\n",
      "Ep:  510  Rew: -106.00  Avg Rew: -102.15  LR:0.00095147  Bf: 1  EPS:0.2475  Loss: 1.045440\n",
      "Ep:  520  Rew:  -96.00  Avg Rew: -103.15  LR:0.00095057  Bf: 1  EPS:0.2451  Loss: 1.060860\n",
      "Ep:  530  Rew: -106.00  Avg Rew: -104.50  LR:0.00094967  Bf: 1  EPS:0.2427  Loss: 1.062381\n",
      "Ep:  540  Rew: -105.00  Avg Rew: -104.89  LR:0.00094877  Bf: 1  EPS:0.2404  Loss: 1.179729\n",
      "Ep:  550  Rew:  -78.00  Avg Rew: -104.71  LR:0.00094787  Bf: 1  EPS:0.2381  Loss: 1.071380\n",
      "Ep:  560  Rew:  -95.00  Avg Rew: -103.10  LR:0.00094697  Bf: 1  EPS:0.2358  Loss: 1.081787\n",
      "Ep:  570  Rew:  -91.00  Avg Rew: -102.98  LR:0.00094607  Bf: 1  EPS:0.2336  Loss: 1.049000\n",
      "Ep:  580  Rew: -137.00  Avg Rew: -103.58  LR:0.00094518  Bf: 1  EPS:0.2315  Loss: 1.063408\n",
      "Ep:  590  Rew:  -89.00  Avg Rew: -103.93  LR:0.00094429  Bf: 1  EPS:0.2294  Loss: 1.071368\n",
      "Ep:  600  Rew:  -91.00  Avg Rew: -103.40  LR:0.00094340  Bf: 1  EPS:0.2273  Loss: 1.074096\n",
      "Ep:  610  Rew:  -89.00  Avg Rew: -103.97  LR:0.00094251  Bf: 1  EPS:0.2252  Loss: 1.064856\n",
      "Ep:  620  Rew:  -84.00  Avg Rew: -102.25  LR:0.00094162  Bf: 1  EPS:0.2232  Loss: 1.058171\n",
      "Ep:  630  Rew:  -96.00  Avg Rew: -101.42  LR:0.00094073  Bf: 1  EPS:0.2212  Loss: 1.185211\n",
      "Ep:  634  Rew:  -82.00  Avg Rew:  -99.93  LR:0.00094038  Bf: 1  EPS:0.2205  Loss: 1.080456\n",
      "########## Solved! ###########\n",
      "Training time: 383.33 sec\n"
     ]
    }
   ],
   "source": [
    "agent = DuelingDDQN_Trainer(env_name, config, random_seed=random_seed, lr_base=lr_base, lr_decay=lr_decay, \n",
    "                   epsilon_base=epsilon_base, epsilon_decay=epsilon_decay, gamma=gamma, batch_size=batch_size,\n",
    "                   max_episodes=max_episodes, max_timesteps=max_timesteps, \n",
    "                   max_buffer_length=max_buffer_length, log_interval=log_interval, threshold=threshold)\n",
    "agent.train()"
   ]
  },
  {
   "cell_type": "code",
   "execution_count": 5,
   "metadata": {
    "scrolled": false
   },
   "outputs": [
    {
     "name": "stdout",
     "output_type": "stream",
     "text": [
      "Test episode: 1\tReward: -71.00\n",
      "Test episode: 2\tReward: -77.00\n",
      "Test episode: 3\tReward: -69.00\n"
     ]
    }
   ],
   "source": [
    "agent.test()"
   ]
  },
  {
   "cell_type": "code",
   "execution_count": null,
   "metadata": {},
   "outputs": [],
   "source": []
  },
  {
   "cell_type": "code",
   "execution_count": null,
   "metadata": {},
   "outputs": [],
   "source": []
  },
  {
   "cell_type": "code",
   "execution_count": null,
   "metadata": {},
   "outputs": [],
   "source": []
  },
  {
   "cell_type": "code",
   "execution_count": null,
   "metadata": {},
   "outputs": [],
   "source": []
  },
  {
   "cell_type": "code",
   "execution_count": null,
   "metadata": {},
   "outputs": [],
   "source": []
  },
  {
   "cell_type": "code",
   "execution_count": null,
   "metadata": {},
   "outputs": [],
   "source": []
  },
  {
   "cell_type": "code",
   "execution_count": null,
   "metadata": {},
   "outputs": [],
   "source": []
  }
 ],
 "metadata": {
  "kernelspec": {
   "display_name": "Python 3",
   "language": "python",
   "name": "python3"
  },
  "language_info": {
   "codemirror_mode": {
    "name": "ipython",
    "version": 3
   },
   "file_extension": ".py",
   "mimetype": "text/x-python",
   "name": "python",
   "nbconvert_exporter": "python",
   "pygments_lexer": "ipython3",
   "version": "3.6.8"
  }
 },
 "nbformat": 4,
 "nbformat_minor": 2
}
