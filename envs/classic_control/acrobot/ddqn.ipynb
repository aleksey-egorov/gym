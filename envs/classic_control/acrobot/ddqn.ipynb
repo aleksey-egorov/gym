{
 "cells": [
  {
   "cell_type": "code",
   "execution_count": 2,
   "metadata": {},
   "outputs": [],
   "source": [
    "import os\n",
    "import sys\n",
    "folder = os.path.dirname('../../../algorithms/')\n",
    "sys.path.append(folder)\n",
    "\n",
    "from DDQN.trainer import DDQN_Trainer"
   ]
  },
  {
   "cell_type": "code",
   "execution_count": 3,
   "metadata": {},
   "outputs": [],
   "source": [
    "env_name = 'Acrobot-v1'\n",
    "lr_base = 0.001\n",
    "lr_decay = 0.0001\n",
    "epsilon_base = 0.5 \n",
    "epsilon_decay = 0.002\n",
    "\n",
    "random_seed = 42\n",
    "gamma = 0.99                # discount for future rewards\n",
    "batch_size = 256         # num of transitions sampled from replay buffer\n",
    "polyak = 0.999               # target policy update parameter (1-tau)\n",
    "max_episodes = 100000         # max num of episodes\n",
    "max_timesteps = 3000        # max timesteps in one episode\n",
    "max_buffer_length = 5000000\n",
    "log_interval = 10           # print avg reward after interval\n",
    "threshold = -100"
   ]
  },
  {
   "cell_type": "code",
   "execution_count": 4,
   "metadata": {},
   "outputs": [],
   "source": [
    "fc_config = [\n",
    "        {'dim': [None, 64], 'dropout': False, 'activation': 'relu'},      \n",
    "        {'dim': [64, None], 'dropout': False, 'activation': False}\n",
    "    ] "
   ]
  },
  {
   "cell_type": "code",
   "execution_count": 5,
   "metadata": {
    "scrolled": false
   },
   "outputs": [
    {
     "name": "stdout",
     "output_type": "stream",
     "text": [
      "NETWORK=Sequential(\n",
      "  (0): Linear(in_features=6, out_features=64, bias=True)\n",
      "  (1): ReLU()\n",
      "  (2): Linear(in_features=64, out_features=3, bias=True)\n",
      ")\n",
      "Device: cuda:0\n",
      "NETWORK=Sequential(\n",
      "  (0): Linear(in_features=6, out_features=64, bias=True)\n",
      "  (1): ReLU()\n",
      "  (2): Linear(in_features=64, out_features=3, bias=True)\n",
      ")\n",
      "Device: cuda:0\n",
      "Random Seed: 42\n",
      "action_space=Discrete(3)\n",
      "obs_space=Box(6,)\n",
      "threshold=-100 \n",
      "\n",
      "DIR=./preTrained/ddqn NAME=ddqn_Acrobot-v1_42\n",
      "Models loaded\n",
      "\n",
      "Training started ... \n",
      "Ep:    0  Rew: -185.00  Avg Rew: -185.00  LR:0.00100000  Bf: 0  EPS:0.5000  Loss: 0.609475\n",
      "Ep:   10  Rew: -148.00  Avg Rew: -183.00  LR:0.00099900  Bf: 0  EPS:0.4902  Loss: 1.920382\n",
      "Ep:   20  Rew: -134.00  Avg Rew: -171.33  LR:0.00099800  Bf: 0  EPS:0.4808  Loss: 2.298730\n",
      "Ep:   30  Rew: -142.00  Avg Rew: -167.13  LR:0.00099701  Bf: 0  EPS:0.4717  Loss: 2.253989\n",
      "Ep:   40  Rew: -152.00  Avg Rew: -168.37  LR:0.00099602  Bf: 0  EPS:0.4630  Loss: 2.331378\n",
      "Ep:   50  Rew: -150.00  Avg Rew: -164.16  LR:0.00099502  Bf: 0  EPS:0.4545  Loss: 2.246763\n",
      "Ep:   60  Rew: -150.00  Avg Rew: -159.72  LR:0.00099404  Bf: 0  EPS:0.4464  Loss: 2.148390\n",
      "Ep:   70  Rew: -135.00  Avg Rew: -161.93  LR:0.00099305  Bf: 0  EPS:0.4386  Loss: 2.148464\n",
      "Ep:   80  Rew: -114.00  Avg Rew: -160.83  LR:0.00099206  Bf: 0  EPS:0.4310  Loss: 2.196671\n",
      "Ep:   90  Rew: -106.00  Avg Rew: -158.96  LR:0.00099108  Bf: 0  EPS:0.4237  Loss: 2.146454\n",
      "Ep:  100  Rew: -136.00  Avg Rew: -158.73  LR:0.00099010  Bf: 0  EPS:0.4167  Loss: 2.256242\n",
      "Ep:  110  Rew: -253.00  Avg Rew: -154.77  LR:0.00098912  Bf: 0  EPS:0.4098  Loss: 2.395591\n",
      "Ep:  120  Rew: -114.00  Avg Rew: -151.12  LR:0.00098814  Bf: 0  EPS:0.4032  Loss: 2.438574\n",
      "Ep:  130  Rew: -108.00  Avg Rew: -147.88  LR:0.00098717  Bf: 0  EPS:0.3968  Loss: 2.359120\n",
      "Ep:  140  Rew:  -95.00  Avg Rew: -145.07  LR:0.00098619  Bf: 0  EPS:0.3906  Loss: 2.500209\n",
      "Ep:  150  Rew: -121.00  Avg Rew: -142.43  LR:0.00098522  Bf: 0  EPS:0.3846  Loss: 2.428087\n",
      "Ep:  160  Rew: -147.00  Avg Rew: -141.85  LR:0.00098425  Bf: 0  EPS:0.3788  Loss: 2.518312\n",
      "Ep:  170  Rew: -132.00  Avg Rew: -136.42  LR:0.00098328  Bf: 1  EPS:0.3731  Loss: 2.539655\n",
      "Ep:  180  Rew: -133.00  Avg Rew: -134.61  LR:0.00098232  Bf: 1  EPS:0.3676  Loss: 2.541074\n",
      "Ep:  190  Rew: -113.00  Avg Rew: -133.21  LR:0.00098135  Bf: 1  EPS:0.3623  Loss: 2.510689\n",
      "Ep:  200  Rew: -147.00  Avg Rew: -131.35  LR:0.00098039  Bf: 1  EPS:0.3571  Loss: 2.407604\n",
      "Ep:  210  Rew: -125.00  Avg Rew: -129.64  LR:0.00097943  Bf: 1  EPS:0.3521  Loss: 2.479370\n",
      "Ep:  220  Rew:  -92.00  Avg Rew: -130.40  LR:0.00097847  Bf: 1  EPS:0.3472  Loss: 2.310656\n",
      "Ep:  230  Rew: -123.00  Avg Rew: -129.19  LR:0.00097752  Bf: 1  EPS:0.3425  Loss: 2.261982\n",
      "Ep:  240  Rew: -147.00  Avg Rew: -127.30  LR:0.00097656  Bf: 1  EPS:0.3378  Loss: 2.357874\n",
      "Ep:  250  Rew: -101.00  Avg Rew: -126.94  LR:0.00097561  Bf: 1  EPS:0.3333  Loss: 2.379173\n",
      "Ep:  260  Rew:  -94.00  Avg Rew: -125.55  LR:0.00097466  Bf: 1  EPS:0.3289  Loss: 2.302044\n",
      "Ep:  270  Rew: -122.00  Avg Rew: -125.95  LR:0.00097371  Bf: 1  EPS:0.3247  Loss: 2.231086\n",
      "Ep:  280  Rew: -111.00  Avg Rew: -123.88  LR:0.00097276  Bf: 1  EPS:0.3205  Loss: 2.203433\n",
      "Ep:  290  Rew:  -97.00  Avg Rew: -121.39  LR:0.00097182  Bf: 1  EPS:0.3165  Loss: 2.306521\n",
      "Ep:  300  Rew: -131.00  Avg Rew: -120.36  LR:0.00097087  Bf: 1  EPS:0.3125  Loss: 2.185395\n",
      "Ep:  310  Rew:  -96.00  Avg Rew: -118.00  LR:0.00096993  Bf: 1  EPS:0.3086  Loss: 2.139558\n",
      "Ep:  320  Rew: -104.00  Avg Rew: -115.99  LR:0.00096899  Bf: 1  EPS:0.3049  Loss: 2.229060\n",
      "Ep:  330  Rew: -131.00  Avg Rew: -116.51  LR:0.00096805  Bf: 1  EPS:0.3012  Loss: 2.097136\n",
      "Ep:  340  Rew: -121.00  Avg Rew: -115.32  LR:0.00096712  Bf: 1  EPS:0.2976  Loss: 2.119727\n",
      "Ep:  350  Rew:  -90.00  Avg Rew: -114.69  LR:0.00096618  Bf: 1  EPS:0.2941  Loss: 2.197288\n",
      "Ep:  360  Rew: -112.00  Avg Rew: -114.69  LR:0.00096525  Bf: 1  EPS:0.2907  Loss: 2.226646\n",
      "Ep:  370  Rew:  -98.00  Avg Rew: -114.03  LR:0.00096432  Bf: 1  EPS:0.2874  Loss: 2.199120\n",
      "Ep:  380  Rew: -119.00  Avg Rew: -113.76  LR:0.00096339  Bf: 1  EPS:0.2841  Loss: 2.022434\n",
      "Ep:  390  Rew: -119.00  Avg Rew: -114.03  LR:0.00096246  Bf: 1  EPS:0.2809  Loss: 2.144151\n",
      "Ep:  400  Rew: -118.00  Avg Rew: -112.09  LR:0.00096154  Bf: 1  EPS:0.2778  Loss: 2.037378\n",
      "Ep:  410  Rew: -141.00  Avg Rew: -113.43  LR:0.00096061  Bf: 1  EPS:0.2747  Loss: 2.039911\n",
      "Ep:  420  Rew: -118.00  Avg Rew: -113.21  LR:0.00095969  Bf: 1  EPS:0.2717  Loss: 2.127407\n",
      "Ep:  430  Rew: -136.00  Avg Rew: -113.04  LR:0.00095877  Bf: 1  EPS:0.2688  Loss: 2.150239\n",
      "Ep:  440  Rew: -105.00  Avg Rew: -113.89  LR:0.00095785  Bf: 1  EPS:0.2660  Loss: 2.110645\n",
      "Ep:  450  Rew: -114.00  Avg Rew: -114.58  LR:0.00095694  Bf: 1  EPS:0.2632  Loss: 2.008411\n",
      "Ep:  460  Rew: -100.00  Avg Rew: -113.19  LR:0.00095602  Bf: 1  EPS:0.2604  Loss: 2.127869\n",
      "Ep:  470  Rew: -120.00  Avg Rew: -112.18  LR:0.00095511  Bf: 1  EPS:0.2577  Loss: 2.067253\n",
      "Ep:  480  Rew: -101.00  Avg Rew: -113.06  LR:0.00095420  Bf: 1  EPS:0.2551  Loss: 2.149606\n",
      "Ep:  490  Rew: -133.00  Avg Rew: -112.99  LR:0.00095329  Bf: 1  EPS:0.2525  Loss: 2.078379\n",
      "Ep:  500  Rew: -166.00  Avg Rew: -113.40  LR:0.00095238  Bf: 1  EPS:0.2500  Loss: 2.064916\n",
      "Ep:  510  Rew: -153.00  Avg Rew: -112.23  LR:0.00095147  Bf: 1  EPS:0.2475  Loss: 1.967365\n",
      "Ep:  520  Rew:  -83.00  Avg Rew: -112.12  LR:0.00095057  Bf: 1  EPS:0.2451  Loss: 1.963142\n",
      "Ep:  530  Rew: -110.00  Avg Rew: -110.50  LR:0.00094967  Bf: 1  EPS:0.2427  Loss: 1.987684\n",
      "Ep:  540  Rew:  -92.00  Avg Rew: -109.08  LR:0.00094877  Bf: 1  EPS:0.2404  Loss: 2.014660\n",
      "Ep:  550  Rew:  -82.00  Avg Rew: -108.75  LR:0.00094787  Bf: 1  EPS:0.2381  Loss: 1.999737\n",
      "Ep:  560  Rew:  -98.00  Avg Rew: -109.33  LR:0.00094697  Bf: 1  EPS:0.2358  Loss: 1.912213\n",
      "Ep:  570  Rew:  -91.00  Avg Rew: -109.00  LR:0.00094607  Bf: 1  EPS:0.2336  Loss: 1.949875\n",
      "Ep:  580  Rew:  -90.00  Avg Rew: -106.93  LR:0.00094518  Bf: 1  EPS:0.2315  Loss: 1.963362\n",
      "Ep:  590  Rew:  -94.00  Avg Rew: -106.28  LR:0.00094429  Bf: 1  EPS:0.2294  Loss: 1.873321\n",
      "Ep:  600  Rew: -118.00  Avg Rew: -106.36  LR:0.00094340  Bf: 2  EPS:0.2273  Loss: 1.965988\n",
      "Ep:  610  Rew: -120.00  Avg Rew: -107.25  LR:0.00094251  Bf: 2  EPS:0.2252  Loss: 1.940268\n",
      "Ep:  620  Rew:  -83.00  Avg Rew: -107.61  LR:0.00094162  Bf: 2  EPS:0.2232  Loss: 1.922079\n",
      "Ep:  630  Rew:  -95.00  Avg Rew: -108.00  LR:0.00094073  Bf: 2  EPS:0.2212  Loss: 2.008446\n",
      "Ep:  640  Rew: -116.00  Avg Rew: -107.43  LR:0.00093985  Bf: 2  EPS:0.2193  Loss: 1.903177\n",
      "Ep:  650  Rew: -102.00  Avg Rew: -106.28  LR:0.00093897  Bf: 2  EPS:0.2174  Loss: 1.965660\n",
      "Ep:  660  Rew: -118.00  Avg Rew: -105.52  LR:0.00093809  Bf: 2  EPS:0.2155  Loss: 1.885121\n",
      "Ep:  670  Rew: -124.00  Avg Rew: -106.31  LR:0.00093721  Bf: 2  EPS:0.2137  Loss: 1.841052\n",
      "Ep:  680  Rew: -104.00  Avg Rew: -107.52  LR:0.00093633  Bf: 2  EPS:0.2119  Loss: 1.983804\n",
      "Ep:  690  Rew:  -70.00  Avg Rew: -106.55  LR:0.00093545  Bf: 2  EPS:0.2101  Loss: 1.909086\n",
      "Ep:  700  Rew: -102.00  Avg Rew: -105.05  LR:0.00093458  Bf: 2  EPS:0.2083  Loss: 1.792848\n",
      "Ep:  710  Rew: -107.00  Avg Rew: -104.16  LR:0.00093371  Bf: 2  EPS:0.2066  Loss: 1.885514\n",
      "Ep:  720  Rew: -124.00  Avg Rew: -103.81  LR:0.00093284  Bf: 2  EPS:0.2049  Loss: 1.901292\n",
      "Ep:  730  Rew: -348.00  Avg Rew: -105.87  LR:0.00093197  Bf: 2  EPS:0.2033  Loss: 1.831406\n",
      "Ep:  740  Rew:  -91.00  Avg Rew: -105.57  LR:0.00093110  Bf: 2  EPS:0.2016  Loss: 1.835424\n",
      "Ep:  750  Rew:  -91.00  Avg Rew: -105.75  LR:0.00093023  Bf: 2  EPS:0.2000  Loss: 1.836708\n",
      "Ep:  760  Rew: -112.00  Avg Rew: -106.70  LR:0.00092937  Bf: 2  EPS:0.1984  Loss: 1.818379\n",
      "Ep:  770  Rew: -107.00  Avg Rew: -105.55  LR:0.00092851  Bf: 2  EPS:0.1969  Loss: 1.849398\n",
      "Ep:  780  Rew: -131.00  Avg Rew: -104.64  LR:0.00092764  Bf: 2  EPS:0.1953  Loss: 1.881294\n",
      "Ep:  790  Rew: -101.00  Avg Rew: -106.60  LR:0.00092678  Bf: 2  EPS:0.1938  Loss: 1.907716\n",
      "Ep:  800  Rew:  -98.00  Avg Rew: -107.04  LR:0.00092593  Bf: 2  EPS:0.1923  Loss: 1.966869\n",
      "Ep:  810  Rew: -105.00  Avg Rew: -106.63  LR:0.00092507  Bf: 2  EPS:0.1908  Loss: 1.829859\n",
      "Ep:  820  Rew: -141.00  Avg Rew: -106.72  LR:0.00092421  Bf: 2  EPS:0.1894  Loss: 1.899485\n",
      "Ep:  830  Rew: -106.00  Avg Rew: -103.78  LR:0.00092336  Bf: 2  EPS:0.1880  Loss: 1.829808\n",
      "Ep:  840  Rew: -127.00  Avg Rew: -103.46  LR:0.00092251  Bf: 2  EPS:0.1866  Loss: 1.810896\n"
     ]
    },
    {
     "name": "stdout",
     "output_type": "stream",
     "text": [
      "Ep:  850  Rew:  -91.00  Avg Rew: -102.78  LR:0.00092166  Bf: 2  EPS:0.1852  Loss: 1.922880\n",
      "Ep:  860  Rew:  -88.00  Avg Rew: -101.60  LR:0.00092081  Bf: 2  EPS:0.1838  Loss: 1.902480\n",
      "Ep:  870  Rew: -102.00  Avg Rew: -101.63  LR:0.00091996  Bf: 2  EPS:0.1825  Loss: 1.944057\n",
      "Ep:  880  Rew: -117.00  Avg Rew: -100.93  LR:0.00091912  Bf: 2  EPS:0.1812  Loss: 1.881752\n",
      "Ep:  886  Rew:  -90.00  Avg Rew:  -99.75  LR:0.00091861  Bf: 2  EPS:0.1804  Loss: 1.954862\n",
      "########## Solved! ###########\n",
      "Training time: 405.64 sec\n"
     ]
    }
   ],
   "source": [
    "agent = DDQN_Trainer(env_name, fc_config, random_seed=random_seed, lr_base=lr_base, lr_decay=lr_decay, \n",
    "                   epsilon_base=epsilon_base, epsilon_decay=epsilon_decay, gamma=gamma, batch_size=batch_size,\n",
    "                   max_episodes=max_episodes, max_timesteps=max_timesteps, \n",
    "                   max_buffer_length=max_buffer_length, log_interval=log_interval, threshold=threshold)\n",
    "agent.train()"
   ]
  },
  {
   "cell_type": "code",
   "execution_count": 6,
   "metadata": {
    "scrolled": false
   },
   "outputs": [
    {
     "name": "stdout",
     "output_type": "stream",
     "text": [
      "Test episode: 1\tReward: -133.00\n",
      "Test episode: 2\tReward: -78.00\n",
      "Test episode: 3\tReward: -96.00\n"
     ]
    }
   ],
   "source": [
    "agent.test()"
   ]
  },
  {
   "cell_type": "code",
   "execution_count": null,
   "metadata": {},
   "outputs": [],
   "source": []
  },
  {
   "cell_type": "code",
   "execution_count": null,
   "metadata": {},
   "outputs": [],
   "source": []
  },
  {
   "cell_type": "code",
   "execution_count": null,
   "metadata": {},
   "outputs": [],
   "source": []
  },
  {
   "cell_type": "code",
   "execution_count": null,
   "metadata": {},
   "outputs": [],
   "source": []
  },
  {
   "cell_type": "code",
   "execution_count": null,
   "metadata": {},
   "outputs": [],
   "source": []
  },
  {
   "cell_type": "code",
   "execution_count": null,
   "metadata": {},
   "outputs": [],
   "source": []
  },
  {
   "cell_type": "code",
   "execution_count": null,
   "metadata": {},
   "outputs": [],
   "source": []
  },
  {
   "cell_type": "code",
   "execution_count": null,
   "metadata": {},
   "outputs": [],
   "source": []
  }
 ],
 "metadata": {
  "kernelspec": {
   "display_name": "Python 3",
   "language": "python",
   "name": "python3"
  },
  "language_info": {
   "codemirror_mode": {
    "name": "ipython",
    "version": 3
   },
   "file_extension": ".py",
   "mimetype": "text/x-python",
   "name": "python",
   "nbconvert_exporter": "python",
   "pygments_lexer": "ipython3",
   "version": "3.6.8"
  }
 },
 "nbformat": 4,
 "nbformat_minor": 2
}
