{
 "cells": [
  {
   "cell_type": "code",
   "execution_count": 13,
   "metadata": {},
   "outputs": [],
   "source": [
    "import os\n",
    "import sys\n",
    "folder = os.path.dirname('../../../algorithms/DDQN/')\n",
    "sys.path.append(folder)\n",
    "\n",
    "from trainer import DDQN_Trainer"
   ]
  },
  {
   "cell_type": "code",
   "execution_count": 14,
   "metadata": {},
   "outputs": [],
   "source": [
    "env_name = 'Acrobot-v1'\n",
    "lr_base = 0.001\n",
    "lr_decay = 0.0001\n",
    "epsilon_base = 0.5 \n",
    "epsilon_decay = 0.002\n",
    "\n",
    "random_seed = 42\n",
    "gamma = 0.99                # discount for future rewards\n",
    "batch_size = 256         # num of transitions sampled from replay buffer\n",
    "polyak = 0.999               # target policy update parameter (1-tau)\n",
    "max_episodes = 100000         # max num of episodes\n",
    "max_timesteps = 3000        # max timesteps in one episode\n",
    "max_buffer_length = 5000000\n",
    "log_interval = 10           # print avg reward after interval\n",
    "threshold = -100"
   ]
  },
  {
   "cell_type": "code",
   "execution_count": 15,
   "metadata": {},
   "outputs": [],
   "source": [
    "fc_config = [\n",
    "        {'dim': [None, 64], 'dropout': False, 'activation': 'relu'},      \n",
    "        {'dim': [64, None], 'dropout': False, 'activation': False}\n",
    "    ] "
   ]
  },
  {
   "cell_type": "code",
   "execution_count": 16,
   "metadata": {
    "scrolled": false
   },
   "outputs": [
    {
     "name": "stdout",
     "output_type": "stream",
     "text": [
      "NETWORK=Sequential(\n",
      "  (0): Linear(in_features=6, out_features=64, bias=True)\n",
      "  (1): ReLU()\n",
      "  (2): Linear(in_features=64, out_features=3, bias=True)\n",
      ")\n",
      "Device: cuda:0\n",
      "NETWORK=Sequential(\n",
      "  (0): Linear(in_features=6, out_features=64, bias=True)\n",
      "  (1): ReLU()\n",
      "  (2): Linear(in_features=64, out_features=3, bias=True)\n",
      ")\n",
      "Device: cuda:0\n",
      "Random Seed: 42\n",
      "action_space=Discrete(3)\n",
      "obs_space=Box(6,)\n",
      "threshold=-100 \n",
      "\n",
      "DIR=./preTrained/ddqn NAME=ddqn_Acrobot-v1_42\n",
      "Models loaded\n",
      "\n",
      "Training started ... \n",
      "Ep:    0  Rew: -284.00  Avg Rew: -284.00  LR:0.00100000  Bf: 0  EPS:0.5000  Loss: 0.860813\n",
      "Ep:   10  Rew: -160.00  Avg Rew: -206.45  LR:0.00099900  Bf: 0  EPS:0.4902  Loss: 2.361342\n",
      "Ep:   20  Rew: -189.00  Avg Rew: -190.81  LR:0.00099800  Bf: 0  EPS:0.4808  Loss: 2.609448\n",
      "Ep:   30  Rew: -167.00  Avg Rew: -184.77  LR:0.00099701  Bf: 0  EPS:0.4717  Loss: 3.047923\n",
      "Ep:   40  Rew: -161.00  Avg Rew: -178.56  LR:0.00099602  Bf: 0  EPS:0.4630  Loss: 2.679876\n",
      "Ep:   50  Rew: -153.00  Avg Rew: -173.71  LR:0.00099502  Bf: 0  EPS:0.4545  Loss: 2.478048\n",
      "Ep:   60  Rew: -161.00  Avg Rew: -168.87  LR:0.00099404  Bf: 0  EPS:0.4464  Loss: 2.669881\n",
      "Ep:   70  Rew: -164.00  Avg Rew: -169.20  LR:0.00099305  Bf: 0  EPS:0.4386  Loss: 2.675068\n",
      "Ep:   80  Rew: -121.00  Avg Rew: -166.25  LR:0.00099206  Bf: 0  EPS:0.4310  Loss: 2.849450\n",
      "Ep:   90  Rew: -123.00  Avg Rew: -163.57  LR:0.00099108  Bf: 0  EPS:0.4237  Loss: 2.735900\n",
      "Ep:  100  Rew: -128.00  Avg Rew: -160.89  LR:0.00099010  Bf: 0  EPS:0.4167  Loss: 2.709186\n",
      "Ep:  110  Rew: -115.00  Avg Rew: -152.89  LR:0.00098912  Bf: 0  EPS:0.4098  Loss: 2.599390\n",
      "Ep:  120  Rew: -126.00  Avg Rew: -148.11  LR:0.00098814  Bf: 0  EPS:0.4032  Loss: 2.695406\n",
      "Ep:  130  Rew: -150.00  Avg Rew: -144.06  LR:0.00098717  Bf: 0  EPS:0.3968  Loss: 2.560766\n",
      "Ep:  140  Rew: -139.00  Avg Rew: -141.27  LR:0.00098619  Bf: 0  EPS:0.3906  Loss: 2.646150\n",
      "Ep:  150  Rew: -109.00  Avg Rew: -137.15  LR:0.00098522  Bf: 0  EPS:0.3846  Loss: 2.733708\n",
      "Ep:  160  Rew: -112.00  Avg Rew: -135.48  LR:0.00098425  Bf: 0  EPS:0.3788  Loss: 2.711838\n",
      "Ep:  170  Rew: -119.00  Avg Rew: -130.81  LR:0.00098328  Bf: 1  EPS:0.3731  Loss: 2.707538\n",
      "Ep:  180  Rew: -115.00  Avg Rew: -127.63  LR:0.00098232  Bf: 1  EPS:0.3676  Loss: 2.549830\n",
      "Ep:  190  Rew: -119.00  Avg Rew: -124.37  LR:0.00098135  Bf: 1  EPS:0.3623  Loss: 2.523673\n",
      "Ep:  200  Rew: -194.00  Avg Rew: -122.80  LR:0.00098039  Bf: 1  EPS:0.3571  Loss: 2.513114\n",
      "Ep:  210  Rew: -135.00  Avg Rew: -126.25  LR:0.00097943  Bf: 1  EPS:0.3521  Loss: 2.578292\n",
      "Ep:  220  Rew: -112.00  Avg Rew: -125.52  LR:0.00097847  Bf: 1  EPS:0.3472  Loss: 2.431009\n",
      "Ep:  230  Rew:  -81.00  Avg Rew: -124.13  LR:0.00097752  Bf: 1  EPS:0.3425  Loss: 2.501013\n",
      "Ep:  240  Rew: -150.00  Avg Rew: -123.05  LR:0.00097656  Bf: 1  EPS:0.3378  Loss: 2.360167\n",
      "Ep:  250  Rew: -105.00  Avg Rew: -124.29  LR:0.00097561  Bf: 1  EPS:0.3333  Loss: 2.588148\n",
      "Ep:  260  Rew: -119.00  Avg Rew: -125.27  LR:0.00097466  Bf: 1  EPS:0.3289  Loss: 2.535610\n",
      "Ep:  270  Rew: -116.00  Avg Rew: -124.98  LR:0.00097371  Bf: 1  EPS:0.3247  Loss: 2.511787\n",
      "Ep:  280  Rew:  -97.00  Avg Rew: -125.56  LR:0.00097276  Bf: 1  EPS:0.3205  Loss: 2.671706\n",
      "Ep:  290  Rew: -129.00  Avg Rew: -127.70  LR:0.00097182  Bf: 1  EPS:0.3165  Loss: 2.629985\n",
      "Ep:  300  Rew: -116.00  Avg Rew: -126.05  LR:0.00097087  Bf: 1  EPS:0.3125  Loss: 2.519500\n",
      "Ep:  310  Rew: -148.00  Avg Rew: -123.01  LR:0.00096993  Bf: 1  EPS:0.3086  Loss: 2.549909\n",
      "Ep:  320  Rew:  -90.00  Avg Rew: -122.89  LR:0.00096899  Bf: 1  EPS:0.3049  Loss: 2.563588\n",
      "Ep:  330  Rew: -126.00  Avg Rew: -121.57  LR:0.00096805  Bf: 1  EPS:0.3012  Loss: 2.669891\n",
      "Ep:  340  Rew: -123.00  Avg Rew: -121.91  LR:0.00096712  Bf: 1  EPS:0.2976  Loss: 2.632174\n",
      "Ep:  350  Rew: -139.00  Avg Rew: -121.52  LR:0.00096618  Bf: 1  EPS:0.2941  Loss: 2.678925\n",
      "Ep:  360  Rew: -131.00  Avg Rew: -119.23  LR:0.00096525  Bf: 1  EPS:0.2907  Loss: 2.780399\n",
      "Ep:  370  Rew: -111.00  Avg Rew: -118.21  LR:0.00096432  Bf: 1  EPS:0.2874  Loss: 2.758391\n",
      "Ep:  380  Rew:  -77.00  Avg Rew: -117.43  LR:0.00096339  Bf: 1  EPS:0.2841  Loss: 2.813315\n",
      "Ep:  390  Rew:  -90.00  Avg Rew: -115.08  LR:0.00096246  Bf: 1  EPS:0.2809  Loss: 2.690106\n",
      "Ep:  400  Rew: -118.00  Avg Rew: -114.35  LR:0.00096154  Bf: 1  EPS:0.2778  Loss: 2.706935\n",
      "Ep:  410  Rew: -102.00  Avg Rew: -112.82  LR:0.00096061  Bf: 1  EPS:0.2747  Loss: 2.782486\n",
      "Ep:  420  Rew: -128.00  Avg Rew: -112.41  LR:0.00095969  Bf: 1  EPS:0.2717  Loss: 2.728524\n",
      "Ep:  430  Rew: -112.00  Avg Rew: -116.59  LR:0.00095877  Bf: 1  EPS:0.2688  Loss: 2.621887\n",
      "Ep:  440  Rew: -128.00  Avg Rew: -114.96  LR:0.00095785  Bf: 1  EPS:0.2660  Loss: 2.627379\n",
      "Ep:  450  Rew: -119.00  Avg Rew: -114.42  LR:0.00095694  Bf: 1  EPS:0.2632  Loss: 2.617249\n",
      "Ep:  460  Rew: -136.00  Avg Rew: -114.04  LR:0.00095602  Bf: 1  EPS:0.2604  Loss: 2.629783\n",
      "Ep:  470  Rew: -125.00  Avg Rew: -114.23  LR:0.00095511  Bf: 1  EPS:0.2577  Loss: 2.654272\n",
      "Ep:  480  Rew: -123.00  Avg Rew: -114.78  LR:0.00095420  Bf: 1  EPS:0.2551  Loss: 2.753302\n",
      "Ep:  490  Rew:  -90.00  Avg Rew: -114.95  LR:0.00095329  Bf: 1  EPS:0.2525  Loss: 2.757689\n",
      "Ep:  500  Rew: -112.00  Avg Rew: -118.01  LR:0.00095238  Bf: 1  EPS:0.2500  Loss: 2.700971\n",
      "Ep:  510  Rew: -113.00  Avg Rew: -119.10  LR:0.00095147  Bf: 1  EPS:0.2475  Loss: 2.551793\n",
      "Ep:  520  Rew: -103.00  Avg Rew: -118.83  LR:0.00095057  Bf: 1  EPS:0.2451  Loss: 2.640030\n",
      "Ep:  530  Rew:  -75.00  Avg Rew: -115.09  LR:0.00094967  Bf: 1  EPS:0.2427  Loss: 2.692624\n",
      "Ep:  540  Rew: -124.00  Avg Rew: -114.94  LR:0.00094877  Bf: 1  EPS:0.2404  Loss: 2.638626\n",
      "Ep:  550  Rew: -129.00  Avg Rew: -114.64  LR:0.00094787  Bf: 1  EPS:0.2381  Loss: 2.730637\n",
      "Ep:  560  Rew:  -98.00  Avg Rew: -114.22  LR:0.00094697  Bf: 1  EPS:0.2358  Loss: 2.813863\n",
      "Ep:  570  Rew:  -97.00  Avg Rew: -113.51  LR:0.00094607  Bf: 1  EPS:0.2336  Loss: 2.663327\n",
      "Ep:  580  Rew: -122.00  Avg Rew: -112.95  LR:0.00094518  Bf: 1  EPS:0.2315  Loss: 2.525642\n",
      "Ep:  590  Rew:  -96.00  Avg Rew: -112.51  LR:0.00094429  Bf: 1  EPS:0.2294  Loss: 2.680377\n",
      "Ep:  600  Rew: -107.00  Avg Rew: -108.98  LR:0.00094340  Bf: 2  EPS:0.2273  Loss: 2.563035\n",
      "Ep:  610  Rew: -102.00  Avg Rew: -108.50  LR:0.00094251  Bf: 2  EPS:0.2252  Loss: 2.594044\n",
      "Ep:  620  Rew: -111.00  Avg Rew: -107.89  LR:0.00094162  Bf: 2  EPS:0.2232  Loss: 2.484090\n",
      "Ep:  630  Rew: -116.00  Avg Rew: -107.02  LR:0.00094073  Bf: 2  EPS:0.2212  Loss: 2.516691\n",
      "Ep:  640  Rew:  -95.00  Avg Rew: -107.06  LR:0.00093985  Bf: 2  EPS:0.2193  Loss: 2.465894\n",
      "Ep:  650  Rew:  -93.00  Avg Rew: -105.84  LR:0.00093897  Bf: 2  EPS:0.2174  Loss: 2.617774\n",
      "Ep:  660  Rew:  -89.00  Avg Rew: -108.59  LR:0.00093809  Bf: 2  EPS:0.2155  Loss: 2.616747\n",
      "Ep:  670  Rew: -123.00  Avg Rew: -109.03  LR:0.00093721  Bf: 2  EPS:0.2137  Loss: 2.755266\n",
      "Ep:  680  Rew: -110.00  Avg Rew: -112.02  LR:0.00093633  Bf: 2  EPS:0.2119  Loss: 2.612479\n",
      "Ep:  690  Rew: -110.00  Avg Rew: -113.26  LR:0.00093545  Bf: 2  EPS:0.2101  Loss: 2.716935\n",
      "Ep:  700  Rew: -132.00  Avg Rew: -113.01  LR:0.00093458  Bf: 2  EPS:0.2083  Loss: 2.564098\n",
      "Ep:  710  Rew:  -98.00  Avg Rew: -111.38  LR:0.00093371  Bf: 2  EPS:0.2066  Loss: 2.568893\n",
      "Ep:  720  Rew:  -84.00  Avg Rew: -111.31  LR:0.00093284  Bf: 2  EPS:0.2049  Loss: 2.595548\n",
      "Ep:  730  Rew:  -95.00  Avg Rew: -111.35  LR:0.00093197  Bf: 2  EPS:0.2033  Loss: 2.659095\n",
      "Ep:  740  Rew:  -95.00  Avg Rew: -110.34  LR:0.00093110  Bf: 2  EPS:0.2016  Loss: 2.615314\n",
      "Ep:  750  Rew:  -80.00  Avg Rew: -109.72  LR:0.00093023  Bf: 2  EPS:0.2000  Loss: 2.675038\n",
      "Ep:  760  Rew:  -89.00  Avg Rew: -108.96  LR:0.00092937  Bf: 2  EPS:0.1984  Loss: 2.602448\n",
      "Ep:  770  Rew:  -86.00  Avg Rew: -108.33  LR:0.00092851  Bf: 2  EPS:0.1969  Loss: 2.554917\n",
      "Ep:  780  Rew: -111.00  Avg Rew: -105.49  LR:0.00092764  Bf: 2  EPS:0.1953  Loss: 2.506160\n",
      "Ep:  790  Rew:  -86.00  Avg Rew: -103.74  LR:0.00092678  Bf: 2  EPS:0.1938  Loss: 2.491489\n",
      "Ep:  800  Rew: -115.00  Avg Rew: -104.00  LR:0.00092593  Bf: 2  EPS:0.1923  Loss: 2.558872\n",
      "Ep:  810  Rew: -102.00  Avg Rew: -103.78  LR:0.00092507  Bf: 2  EPS:0.1908  Loss: 2.451972\n",
      "Ep:  820  Rew:  -81.00  Avg Rew: -102.47  LR:0.00092421  Bf: 2  EPS:0.1894  Loss: 2.677639\n",
      "Ep:  830  Rew:  -96.00  Avg Rew: -103.27  LR:0.00092336  Bf: 2  EPS:0.1880  Loss: 2.518814\n",
      "Ep:  840  Rew: -105.00  Avg Rew: -103.40  LR:0.00092251  Bf: 2  EPS:0.1866  Loss: 2.536118\n"
     ]
    },
    {
     "name": "stdout",
     "output_type": "stream",
     "text": [
      "Ep:  850  Rew: -100.00  Avg Rew: -104.25  LR:0.00092166  Bf: 2  EPS:0.1852  Loss: 2.668946\n",
      "Ep:  860  Rew: -132.00  Avg Rew: -102.07  LR:0.00092081  Bf: 2  EPS:0.1838  Loss: 2.624910\n",
      "Ep:  870  Rew:  -96.00  Avg Rew: -100.86  LR:0.00091996  Bf: 2  EPS:0.1825  Loss: 2.487304\n",
      "Ep:  874  Rew: -109.00  Avg Rew:  -99.71  LR:0.00091962  Bf: 2  EPS:0.1820  Loss: 2.499537\n",
      "########## Solved! ###########\n",
      "Training time: 439.98 sec\n"
     ]
    }
   ],
   "source": [
    "agent = DDQN_Trainer(env_name, fc_config, random_seed=random_seed, lr_base=lr_base, lr_decay=lr_decay, \n",
    "                   epsilon_base=epsilon_base, epsilon_decay=epsilon_decay, gamma=gamma, batch_size=batch_size,\n",
    "                   max_episodes=max_episodes, max_timesteps=max_timesteps, \n",
    "                   max_buffer_length=max_buffer_length, log_interval=log_interval, threshold=threshold)\n",
    "agent.train()"
   ]
  },
  {
   "cell_type": "code",
   "execution_count": 17,
   "metadata": {
    "scrolled": false
   },
   "outputs": [
    {
     "name": "stdout",
     "output_type": "stream",
     "text": [
      "Test episode: 1\tReward: -91.00\n",
      "Test episode: 2\tReward: -72.00\n",
      "Test episode: 3\tReward: -101.00\n"
     ]
    }
   ],
   "source": [
    "agent.test()"
   ]
  },
  {
   "cell_type": "code",
   "execution_count": null,
   "metadata": {},
   "outputs": [],
   "source": []
  },
  {
   "cell_type": "code",
   "execution_count": null,
   "metadata": {},
   "outputs": [],
   "source": []
  },
  {
   "cell_type": "code",
   "execution_count": 4,
   "metadata": {},
   "outputs": [],
   "source": []
  },
  {
   "cell_type": "code",
   "execution_count": null,
   "metadata": {},
   "outputs": [],
   "source": []
  },
  {
   "cell_type": "code",
   "execution_count": null,
   "metadata": {},
   "outputs": [],
   "source": []
  },
  {
   "cell_type": "code",
   "execution_count": null,
   "metadata": {},
   "outputs": [],
   "source": []
  },
  {
   "cell_type": "code",
   "execution_count": null,
   "metadata": {},
   "outputs": [],
   "source": []
  },
  {
   "cell_type": "code",
   "execution_count": null,
   "metadata": {},
   "outputs": [],
   "source": []
  }
 ],
 "metadata": {
  "kernelspec": {
   "display_name": "Python 3",
   "language": "python",
   "name": "python3"
  },
  "language_info": {
   "codemirror_mode": {
    "name": "ipython",
    "version": 3
   },
   "file_extension": ".py",
   "mimetype": "text/x-python",
   "name": "python",
   "nbconvert_exporter": "python",
   "pygments_lexer": "ipython3",
   "version": "3.6.8"
  }
 },
 "nbformat": 4,
 "nbformat_minor": 2
}
